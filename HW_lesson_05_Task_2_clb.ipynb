{
  "nbformat": 4,
  "nbformat_minor": 0,
  "metadata": {
    "colab": {
      "provenance": [],
      "gpuType": "T4",
      "include_colab_link": true
    },
    "kernelspec": {
      "name": "python3",
      "display_name": "Python 3"
    },
    "language_info": {
      "name": "python"
    }
  },
  "cells": [
    {
      "cell_type": "markdown",
      "metadata": {
        "id": "view-in-github",
        "colab_type": "text"
      },
      "source": [
        "<a href=\"https://colab.research.google.com/github/Kambey-san/NNWs_Basic/blob/HW_lesson_05/HW_lesson_05_Task_2_clb.ipynb\" target=\"_parent\"><img src=\"https://colab.research.google.com/assets/colab-badge.svg\" alt=\"Open In Colab\"/></a>"
      ]
    },
    {
      "cell_type": "markdown",
      "source": [
        "### Урок 5. Рекуррентные нейронные сети/ Домашнее задание\n",
        "\n",
        "2. Попробуйте изменить параметры нейронной сети, генерирующей текст таким образом, чтобы добиться генерации как можно более осмысленного текста. Пришлите лучший текст из получившихся и опишите предпринятые для его получения действия. Можно использовать текст другого произведения\n",
        "\n",
        "Использовалась поэма М. Ю. Лермонтова \"Мцыри\""
      ],
      "metadata": {
        "id": "mJS01Ww2NiON"
      }
    },
    {
      "cell_type": "code",
      "source": [
        "from google.colab import files\n",
        "uploaded = files.upload()"
      ],
      "metadata": {
        "colab": {
          "base_uri": "https://localhost:8080/",
          "height": 73
        },
        "id": "cmmAHXCghDYD",
        "outputId": "55037d8f-4e85-4c62-978e-040f924570ac"
      },
      "execution_count": null,
      "outputs": [
        {
          "output_type": "display_data",
          "data": {
            "text/plain": [
              "<IPython.core.display.HTML object>"
            ],
            "text/html": [
              "\n",
              "     <input type=\"file\" id=\"files-f1b235de-b68d-4d6a-8b30-52eea0444ffe\" name=\"files[]\" multiple disabled\n",
              "        style=\"border:none\" />\n",
              "     <output id=\"result-f1b235de-b68d-4d6a-8b30-52eea0444ffe\">\n",
              "      Upload widget is only available when the cell has been executed in the\n",
              "      current browser session. Please rerun this cell to enable.\n",
              "      </output>\n",
              "      <script>// Copyright 2017 Google LLC\n",
              "//\n",
              "// Licensed under the Apache License, Version 2.0 (the \"License\");\n",
              "// you may not use this file except in compliance with the License.\n",
              "// You may obtain a copy of the License at\n",
              "//\n",
              "//      http://www.apache.org/licenses/LICENSE-2.0\n",
              "//\n",
              "// Unless required by applicable law or agreed to in writing, software\n",
              "// distributed under the License is distributed on an \"AS IS\" BASIS,\n",
              "// WITHOUT WARRANTIES OR CONDITIONS OF ANY KIND, either express or implied.\n",
              "// See the License for the specific language governing permissions and\n",
              "// limitations under the License.\n",
              "\n",
              "/**\n",
              " * @fileoverview Helpers for google.colab Python module.\n",
              " */\n",
              "(function(scope) {\n",
              "function span(text, styleAttributes = {}) {\n",
              "  const element = document.createElement('span');\n",
              "  element.textContent = text;\n",
              "  for (const key of Object.keys(styleAttributes)) {\n",
              "    element.style[key] = styleAttributes[key];\n",
              "  }\n",
              "  return element;\n",
              "}\n",
              "\n",
              "// Max number of bytes which will be uploaded at a time.\n",
              "const MAX_PAYLOAD_SIZE = 100 * 1024;\n",
              "\n",
              "function _uploadFiles(inputId, outputId) {\n",
              "  const steps = uploadFilesStep(inputId, outputId);\n",
              "  const outputElement = document.getElementById(outputId);\n",
              "  // Cache steps on the outputElement to make it available for the next call\n",
              "  // to uploadFilesContinue from Python.\n",
              "  outputElement.steps = steps;\n",
              "\n",
              "  return _uploadFilesContinue(outputId);\n",
              "}\n",
              "\n",
              "// This is roughly an async generator (not supported in the browser yet),\n",
              "// where there are multiple asynchronous steps and the Python side is going\n",
              "// to poll for completion of each step.\n",
              "// This uses a Promise to block the python side on completion of each step,\n",
              "// then passes the result of the previous step as the input to the next step.\n",
              "function _uploadFilesContinue(outputId) {\n",
              "  const outputElement = document.getElementById(outputId);\n",
              "  const steps = outputElement.steps;\n",
              "\n",
              "  const next = steps.next(outputElement.lastPromiseValue);\n",
              "  return Promise.resolve(next.value.promise).then((value) => {\n",
              "    // Cache the last promise value to make it available to the next\n",
              "    // step of the generator.\n",
              "    outputElement.lastPromiseValue = value;\n",
              "    return next.value.response;\n",
              "  });\n",
              "}\n",
              "\n",
              "/**\n",
              " * Generator function which is called between each async step of the upload\n",
              " * process.\n",
              " * @param {string} inputId Element ID of the input file picker element.\n",
              " * @param {string} outputId Element ID of the output display.\n",
              " * @return {!Iterable<!Object>} Iterable of next steps.\n",
              " */\n",
              "function* uploadFilesStep(inputId, outputId) {\n",
              "  const inputElement = document.getElementById(inputId);\n",
              "  inputElement.disabled = false;\n",
              "\n",
              "  const outputElement = document.getElementById(outputId);\n",
              "  outputElement.innerHTML = '';\n",
              "\n",
              "  const pickedPromise = new Promise((resolve) => {\n",
              "    inputElement.addEventListener('change', (e) => {\n",
              "      resolve(e.target.files);\n",
              "    });\n",
              "  });\n",
              "\n",
              "  const cancel = document.createElement('button');\n",
              "  inputElement.parentElement.appendChild(cancel);\n",
              "  cancel.textContent = 'Cancel upload';\n",
              "  const cancelPromise = new Promise((resolve) => {\n",
              "    cancel.onclick = () => {\n",
              "      resolve(null);\n",
              "    };\n",
              "  });\n",
              "\n",
              "  // Wait for the user to pick the files.\n",
              "  const files = yield {\n",
              "    promise: Promise.race([pickedPromise, cancelPromise]),\n",
              "    response: {\n",
              "      action: 'starting',\n",
              "    }\n",
              "  };\n",
              "\n",
              "  cancel.remove();\n",
              "\n",
              "  // Disable the input element since further picks are not allowed.\n",
              "  inputElement.disabled = true;\n",
              "\n",
              "  if (!files) {\n",
              "    return {\n",
              "      response: {\n",
              "        action: 'complete',\n",
              "      }\n",
              "    };\n",
              "  }\n",
              "\n",
              "  for (const file of files) {\n",
              "    const li = document.createElement('li');\n",
              "    li.append(span(file.name, {fontWeight: 'bold'}));\n",
              "    li.append(span(\n",
              "        `(${file.type || 'n/a'}) - ${file.size} bytes, ` +\n",
              "        `last modified: ${\n",
              "            file.lastModifiedDate ? file.lastModifiedDate.toLocaleDateString() :\n",
              "                                    'n/a'} - `));\n",
              "    const percent = span('0% done');\n",
              "    li.appendChild(percent);\n",
              "\n",
              "    outputElement.appendChild(li);\n",
              "\n",
              "    const fileDataPromise = new Promise((resolve) => {\n",
              "      const reader = new FileReader();\n",
              "      reader.onload = (e) => {\n",
              "        resolve(e.target.result);\n",
              "      };\n",
              "      reader.readAsArrayBuffer(file);\n",
              "    });\n",
              "    // Wait for the data to be ready.\n",
              "    let fileData = yield {\n",
              "      promise: fileDataPromise,\n",
              "      response: {\n",
              "        action: 'continue',\n",
              "      }\n",
              "    };\n",
              "\n",
              "    // Use a chunked sending to avoid message size limits. See b/62115660.\n",
              "    let position = 0;\n",
              "    do {\n",
              "      const length = Math.min(fileData.byteLength - position, MAX_PAYLOAD_SIZE);\n",
              "      const chunk = new Uint8Array(fileData, position, length);\n",
              "      position += length;\n",
              "\n",
              "      const base64 = btoa(String.fromCharCode.apply(null, chunk));\n",
              "      yield {\n",
              "        response: {\n",
              "          action: 'append',\n",
              "          file: file.name,\n",
              "          data: base64,\n",
              "        },\n",
              "      };\n",
              "\n",
              "      let percentDone = fileData.byteLength === 0 ?\n",
              "          100 :\n",
              "          Math.round((position / fileData.byteLength) * 100);\n",
              "      percent.textContent = `${percentDone}% done`;\n",
              "\n",
              "    } while (position < fileData.byteLength);\n",
              "  }\n",
              "\n",
              "  // All done.\n",
              "  yield {\n",
              "    response: {\n",
              "      action: 'complete',\n",
              "    }\n",
              "  };\n",
              "}\n",
              "\n",
              "scope.google = scope.google || {};\n",
              "scope.google.colab = scope.google.colab || {};\n",
              "scope.google.colab._files = {\n",
              "  _uploadFiles,\n",
              "  _uploadFilesContinue,\n",
              "};\n",
              "})(self);\n",
              "</script> "
            ]
          },
          "metadata": {}
        },
        {
          "output_type": "stream",
          "name": "stdout",
          "text": [
            "Saving Lermontov_Mcyri.txt to Lermontov_Mcyri.txt\n"
          ]
        }
      ]
    },
    {
      "cell_type": "code",
      "source": [
        "# построчное чтение из примера с текстом\n",
        "with open(\"Lermontov_Mcyri.txt\", 'rb') as _in:\n",
        "    lines = []\n",
        "    for line in _in:\n",
        "        line = line.strip().lower().decode(\"utf-8\", \"ignore\")\n",
        "        if len(line) == 0:\n",
        "            continue\n",
        "        lines.append(line)\n",
        "text = \" \".join(lines)"
      ],
      "metadata": {
        "id": "fDXh_kefgWG3"
      },
      "execution_count": null,
      "outputs": []
    },
    {
      "cell_type": "code",
      "source": [
        "# Удалим неинформативные строки\n",
        "text = text.replace(\"* * *\", \"\")\n",
        "text = text.replace(\"***\", \"\")\n",
        "text = text.replace(\"  …\", \"\")\n",
        "text = text.replace(\"…\", \"\")\n",
        "text[:1000]"
      ],
      "metadata": {
        "colab": {
          "base_uri": "https://localhost:8080/",
          "height": 105
        },
        "id": "RCnvzd27hTlQ",
        "outputId": "3cff091a-00ef-4ed4-8781-dcaad7e61ff6"
      },
      "execution_count": null,
      "outputs": [
        {
          "output_type": "execute_result",
          "data": {
            "text/plain": [
              "'Михаил Юрьевич Лермонтов Мцыри Библиотека школьника – Мцыри – на грузинском языке значит «неслужащий монах», нечто вроде «послушника». (Прим. Лермонтова.) Вкушая, вкусих мало меда, и се аз умираю. 1-я Книга Царств 1 Немного лет тому назад, Там, где, сливаяся, шумят, Обнявшись, будто две сестры, Струи Арагвы и Куры, Был монастырь. Из-за горы И нынче видит пешеход Столбы обрушенных ворот, И башни, и церковный свод; Но не курится уж под ним Кадильниц благовонный дым, Не слышно пенье в поздний час Молящих иноков за нас. Теперь один старик седой, Развалин страж полуживой, Людьми и смертию забыт, Сметает пыль с могильных плит, Которых надпись говорит О славе прошлой – и о том, Как, удручен своим венцом, Такой-то царь, в такой-то год, Вручал России свой народ.  И божья благодать сошла На Грузию! Она цвела С тех пор в тени своих садов, Не опасаяся врагов, 3а гранью дружеских штыков. 2 Однажды русский генерал Из гор к Тифлису проезжал; Ребенка пленного он вез. Тот занемог, не перенес Трудов дал'"
            ],
            "application/vnd.google.colaboratory.intrinsic+json": {
              "type": "string"
            }
          },
          "metadata": {},
          "execution_count": 59
        }
      ]
    },
    {
      "cell_type": "code",
      "source": [
        "import numpy as np\n",
        "from keras.layers import Dense, Activation\n",
        "from keras.layers import SimpleRNN, LSTM, GRU\n",
        "from keras.models import Sequential"
      ],
      "metadata": {
        "id": "4JIaRQcSgEMG"
      },
      "execution_count": null,
      "outputs": []
    },
    {
      "cell_type": "code",
      "source": [
        "import tensorflow as tf"
      ],
      "metadata": {
        "id": "cQ-vSdxdhj5l"
      },
      "execution_count": null,
      "outputs": []
    },
    {
      "cell_type": "code",
      "source": [
        "gpu_devices = tf.config.experimental.list_physical_devices('GPU')\n",
        "for device in gpu_devices:\n",
        "    tf.config.experimental.set_memory_growth(device, True)\n",
        "tf.random.set_seed(48)"
      ],
      "metadata": {
        "id": "-2CrqB5_hlaA"
      },
      "execution_count": null,
      "outputs": []
    },
    {
      "cell_type": "code",
      "source": [
        "chars = set([c for c in text])\n",
        "nb_chars = len(chars)"
      ],
      "metadata": {
        "id": "x8586RJPhzKB"
      },
      "execution_count": null,
      "outputs": []
    },
    {
      "cell_type": "code",
      "source": [
        "# создание индекса символов и reverse mapping чтобы передвигаться между значениями numerical\n",
        "# ID and a specific character. The numerical ID will correspond to a column\n",
        "# ID и определенный символ. Numerical ID будет соответсвовать колонке\n",
        "# число при использовании one-hot кодировки для представление входов символов\n",
        "char2index = {c: i for i, c in enumerate(chars)}\n",
        "index2char = {i: c for i, c in enumerate(chars)}"
      ],
      "metadata": {
        "id": "CUdRxAFvh8ow"
      },
      "execution_count": null,
      "outputs": []
    },
    {
      "cell_type": "code",
      "source": [
        "# для удобства выберете фиксированную длину последовательность 10 символов\n",
        "SEQLEN, STEP = 10, 1\n",
        "input_chars, label_chars = [], []"
      ],
      "metadata": {
        "id": "MnkaMndFiC02"
      },
      "execution_count": null,
      "outputs": []
    },
    {
      "cell_type": "code",
      "source": [
        "# конвертация data в серии разных SEQLEN-length субпоследовательностей\n",
        "for i in range(0, len(text) - SEQLEN, STEP):\n",
        "    input_chars.append(text[i: i + SEQLEN])\n",
        "    label_chars.append(text[i + SEQLEN])"
      ],
      "metadata": {
        "id": "uTPOJ_mniH0g"
      },
      "execution_count": null,
      "outputs": []
    },
    {
      "cell_type": "code",
      "source": [
        "# Вычисление one-hot encoding входных последовательностей X и следующего символа (the label) y\n",
        "X = np.zeros((len(input_chars), SEQLEN, nb_chars), dtype=bool)\n",
        "y = np.zeros((len(input_chars), nb_chars), dtype=bool)\n",
        "for i, input_char in enumerate(input_chars):\n",
        "    for j, ch in enumerate(input_char):\n",
        "        X[i, j, char2index[ch]] = 1\n",
        "    y[i, char2index[label_chars[i]]] = 1"
      ],
      "metadata": {
        "id": "sFgsUsT3iOSZ"
      },
      "execution_count": null,
      "outputs": []
    },
    {
      "cell_type": "code",
      "source": [
        "# установка ряда метапараметров  для нейронной сети и процесса тренировки\n",
        "BATCH_SIZE, HIDDEN_SIZE = 1128, 512 #128, 128\n",
        "NUM_ITERATIONS = 5 # was changed\n",
        "NUM_EPOCHS_PER_ITERATION = 10 #1\n",
        "NUM_PREDS_PER_EPOCH = 200 #100"
      ],
      "metadata": {
        "id": "tJBgRP9Cisvz"
      },
      "execution_count": null,
      "outputs": []
    },
    {
      "cell_type": "code",
      "source": [
        "# Create a super simple recurrent neural network. There is one recurrent\n",
        "# layer that produces an embedding of size HIDDEN_SIZE from the one-hot\n",
        "# encoded input layer. This is followed by a Dense fully-connected layer\n",
        "# across the set of possible next characters, which is converted to a\n",
        "# probability score via a standard softmax activation with a multi-class\n",
        "# cross-entropy loss function linking the prediction to the one-hot\n",
        "# encoding character label.\n",
        "\n",
        "'''\n",
        "Создание очень простой рекуррентной нейронной сети. В ней будет один реккурентный закодированный входной слой.\n",
        "За ним последует полносвязный слой связанный с набором возможных следующих символов, которые конвертированы в\n",
        "вероятностные результаты через стандартную softmax активацию с multi-class cross-encoding loss функцию\n",
        "ссылающуются на предсказание one-hot encoding лейбл символа\n",
        "'''"
      ],
      "metadata": {
        "colab": {
          "base_uri": "https://localhost:8080/",
          "height": 53
        },
        "id": "RZplHK7pixOM",
        "outputId": "48b213a1-c397-431c-e5b0-e1cbd3c07948"
      },
      "execution_count": null,
      "outputs": [
        {
          "output_type": "execute_result",
          "data": {
            "text/plain": [
              "'\\nСоздание очень простой рекуррентной нейронной сети. В ней будет один реккурентный закодированный входной слой.\\nЗа ним последует полносвязный слой связанный с набором возможных следующих символов, которые конвертированы в\\nвероятностные результаты через стандартную softmax активацию с multi-class cross-encoding loss функцию\\nссылающуются на предсказание one-hot encoding лейбл символа\\n'"
            ],
            "application/vnd.google.colaboratory.intrinsic+json": {
              "type": "string"
            }
          },
          "metadata": {},
          "execution_count": 76
        }
      ]
    },
    {
      "cell_type": "code",
      "source": [
        "model = Sequential()\n",
        "model.add(\n",
        "    GRU(  # вы можете изменить эту часть на LSTM или SimpleRNN, чтобы попробовать альтернативы\n",
        "        HIDDEN_SIZE,\n",
        "        return_sequences=True,\n",
        "        input_shape=(SEQLEN, nb_chars),\n",
        "        #dropout=0.2,\n",
        "        #unroll=True\n",
        "    )\n",
        ")"
      ],
      "metadata": {
        "id": "CAKmwTJ4i8eD"
      },
      "execution_count": null,
      "outputs": []
    },
    {
      "cell_type": "code",
      "source": [
        "model.add(\n",
        "    GRU(  # вы можете изменить эту часть на LSTM или SimpleRNN, чтобы попробовать альтернативы\n",
        "        HIDDEN_SIZE,\n",
        "        return_sequences=True,\n",
        "        input_shape=(SEQLEN, nb_chars),\n",
        "        #dropout=0.2,\n",
        "        #unroll=True\n",
        "    )\n",
        ")"
      ],
      "metadata": {
        "id": "aO0cLsFtjGHQ"
      },
      "execution_count": null,
      "outputs": []
    },
    {
      "cell_type": "code",
      "source": [
        "model.add(\n",
        "    GRU(  # вы можете изменить эту часть на LSTM или SimpleRNN, чтобы попробовать альтернативы\n",
        "        HIDDEN_SIZE,\n",
        "        return_sequences=False,\n",
        "        input_shape=(SEQLEN, nb_chars),\n",
        "        #dropout=0.2,\n",
        "        #unroll=True\n",
        "    )\n",
        ")"
      ],
      "metadata": {
        "id": "jByFGK8RjNXi"
      },
      "execution_count": null,
      "outputs": []
    },
    {
      "cell_type": "code",
      "source": [
        "model.add(Dense(nb_chars))\n",
        "model.add(Activation(\"softmax\"))\n",
        "model.compile(loss=\"categorical_crossentropy\", optimizer=\"adam\")"
      ],
      "metadata": {
        "id": "36-IaIKNjrs2"
      },
      "execution_count": null,
      "outputs": []
    },
    {
      "cell_type": "code",
      "source": [
        "# выполнение серий тренировочных и демонстрационных итераций\n",
        "for iteration in range(NUM_ITERATIONS):\n",
        "\n",
        "    # для каждой итерации запуск передачи данных в модель\n",
        "    print(\"=\" * 50)\n",
        "    print(\"Итерация #: %d\" % (iteration))\n",
        "    model.fit(X, y, batch_size=BATCH_SIZE, epochs=NUM_EPOCHS_PER_ITERATION)\n",
        "\n",
        "    # Select a random example input sequence.\n",
        "    test_idx = np.random.randint(len(input_chars))\n",
        "    test_chars = input_chars[test_idx]\n",
        "\n",
        "    # для числа шагов предсказаний использование текущей тренируемой модели\n",
        "    # конструирование one-hot encoding для тестирования input и добавление предсказания.\n",
        "    print(\"Генерация из посева: %s\" % (test_chars))\n",
        "    print(test_chars, end=\"\")\n",
        "    for i in range(NUM_PREDS_PER_EPOCH):\n",
        "\n",
        "        # здесь one-hot encoding.\n",
        "        X_test = np.zeros((1, SEQLEN, nb_chars))\n",
        "        for j, ch in enumerate(test_chars):\n",
        "            X_test[0, j, char2index[ch]] = 1\n",
        "\n",
        "        # осуществление предсказания с помощью текущей модели.\n",
        "        pred = model.predict(X_test, verbose=0)[0]\n",
        "        y_pred = index2char[np.argmax(pred)]\n",
        "\n",
        "        # вывод предсказания добавленного к тестовому примеру\n",
        "        print(y_pred, end=\"\")\n",
        "\n",
        "        # инкрементация тестового примера содержащего предсказание\n",
        "        test_chars = test_chars[1:] + y_pred\n",
        "print()"
      ],
      "metadata": {
        "colab": {
          "base_uri": "https://localhost:8080/"
        },
        "id": "xZVlJKdLjw-L",
        "outputId": "38cc311f-fb82-4e2a-c96b-77dbb2d6c47d"
      },
      "execution_count": null,
      "outputs": [
        {
          "output_type": "stream",
          "name": "stdout",
          "text": [
            "==================================================\n",
            "Итерация #: 0\n",
            "Epoch 1/10\n",
            "18/18 [==============================] - 109s 6s/step - loss: 3.8247\n",
            "Epoch 2/10\n",
            "18/18 [==============================] - 103s 6s/step - loss: 3.3395\n",
            "Epoch 3/10\n",
            "18/18 [==============================] - 102s 6s/step - loss: 3.2897\n",
            "Epoch 4/10\n",
            "18/18 [==============================] - 102s 6s/step - loss: 3.2303\n",
            "Epoch 5/10\n",
            "18/18 [==============================] - 101s 6s/step - loss: 3.0918\n",
            "Epoch 6/10\n",
            "18/18 [==============================] - 103s 6s/step - loss: 2.9309\n",
            "Epoch 7/10\n",
            "18/18 [==============================] - 101s 6s/step - loss: 2.7784\n",
            "Epoch 8/10\n",
            "18/18 [==============================] - 100s 6s/step - loss: 2.5969\n",
            "Epoch 9/10\n",
            "18/18 [==============================] - 102s 6s/step - loss: 2.5036\n",
            "Epoch 10/10\n",
            "18/18 [==============================] - 101s 6s/step - loss: 2.4384\n",
            "Генерация из посева: ашни, и це\n",
            "ашни, и цел стой Полотой стой Постотой стой Постотой стой Постотой стой Постотой стой Постотой стой Постотой стой Постотой стой Постотой стой Постотой стой Постотой стой Постотой стой Постотой стой Постотой сто==================================================\n",
            "Итерация #: 1\n",
            "Epoch 1/10\n",
            "18/18 [==============================] - 103s 6s/step - loss: 2.3799\n",
            "Epoch 2/10\n",
            "18/18 [==============================] - 100s 6s/step - loss: 2.3290\n",
            "Epoch 3/10\n",
            "18/18 [==============================] - 103s 6s/step - loss: 2.2808\n",
            "Epoch 4/10\n",
            "18/18 [==============================] - 100s 6s/step - loss: 2.2312\n",
            "Epoch 5/10\n",
            "18/18 [==============================] - 102s 6s/step - loss: 2.1839\n",
            "Epoch 6/10\n",
            "18/18 [==============================] - 99s 5s/step - loss: 2.1269\n",
            "Epoch 7/10\n",
            "18/18 [==============================] - 100s 5s/step - loss: 2.0719\n",
            "Epoch 8/10\n",
            "18/18 [==============================] - 100s 6s/step - loss: 2.0189\n",
            "Epoch 9/10\n",
            "18/18 [==============================] - 99s 5s/step - loss: 1.9641\n",
            "Epoch 10/10\n",
            "18/18 [==============================] - 101s 6s/step - loss: 1.8831\n",
            "Генерация из посева: не было б \n",
            "не было б жежно в посленной и поской Свет в поленной свет В слебы и поской Свет в поленной свет В слебы и поской Свет в поленной свет В слебы и поской Свет в поленной свет В слебы и поской Свет в поленной свет ==================================================\n",
            "Итерация #: 2\n",
            "Epoch 1/10\n",
            "18/18 [==============================] - 100s 6s/step - loss: 1.8084\n",
            "Epoch 2/10\n",
            "18/18 [==============================] - 100s 6s/step - loss: 1.6976\n",
            "Epoch 3/10\n",
            "18/18 [==============================] - 100s 6s/step - loss: 1.5996\n",
            "Epoch 4/10\n",
            "18/18 [==============================] - 101s 6s/step - loss: 1.4835\n",
            "Epoch 5/10\n",
            "18/18 [==============================] - 102s 6s/step - loss: 1.3557\n",
            "Epoch 6/10\n",
            "18/18 [==============================] - 100s 6s/step - loss: 1.2160\n",
            "Epoch 7/10\n",
            "18/18 [==============================] - 103s 6s/step - loss: 1.0703\n",
            "Epoch 8/10\n",
            "18/18 [==============================] - 102s 6s/step - loss: 0.9212\n",
            "Epoch 9/10\n",
            "18/18 [==============================] - 102s 6s/step - loss: 0.7646\n",
            "Epoch 10/10\n",
            "18/18 [==============================] - 99s 6s/step - loss: 0.6159\n",
            "Генерация из посева: я тебя люб\n",
            "я тебя люблю, Люблю как жизнь мою я умарка, При ветерком И бледен был и серебром. Я смерть на земле я узарел и никогда и помнил я Кольчуги звон, и кругом В тени рассыпанный раз Зумился стал. 12 Тогда я позабыл,==================================================\n",
            "Итерация #: 3\n",
            "Epoch 1/10\n",
            "18/18 [==============================] - 101s 6s/step - loss: 0.4770\n",
            "Epoch 2/10\n",
            "18/18 [==============================] - 99s 6s/step - loss: 0.3586\n",
            "Epoch 3/10\n",
            "18/18 [==============================] - 101s 6s/step - loss: 0.2638\n",
            "Epoch 4/10\n",
            "18/18 [==============================] - 101s 6s/step - loss: 0.1925\n",
            "Epoch 5/10\n",
            "18/18 [==============================] - 101s 6s/step - loss: 0.1444\n",
            "Epoch 6/10\n",
            "18/18 [==============================] - 99s 6s/step - loss: 0.1112\n",
            "Epoch 7/10\n",
            "18/18 [==============================] - 100s 6s/step - loss: 0.0893\n",
            "Epoch 8/10\n",
            "18/18 [==============================] - 99s 6s/step - loss: 0.0737\n",
            "Epoch 9/10\n",
            "18/18 [==============================] - 101s 6s/step - loss: 0.0632\n",
            "Epoch 10/10\n",
            "18/18 [==============================] - 100s 5s/step - loss: 0.0542\n",
            "Генерация из посева: лся, свеже\n",
            "лся, свежесть горных вод Повеяла навстречу мне, И жадно я припал к волне. И солнце сквозь хрусталь волны Сияло сладостней луны И рыбок пестрые стада В лучах играли иногда. И помню я одну из них: Она приветливей==================================================\n",
            "Итерация #: 4\n",
            "Epoch 1/10\n",
            "18/18 [==============================] - 101s 6s/step - loss: 0.0494\n",
            "Epoch 2/10\n",
            "18/18 [==============================] - 99s 5s/step - loss: 0.0444\n",
            "Epoch 3/10\n",
            "18/18 [==============================] - 100s 6s/step - loss: 0.0401\n",
            "Epoch 4/10\n",
            "18/18 [==============================] - 99s 5s/step - loss: 0.0371\n",
            "Epoch 5/10\n",
            "18/18 [==============================] - 99s 6s/step - loss: 0.0349\n",
            "Epoch 6/10\n",
            "18/18 [==============================] - 100s 5s/step - loss: 0.0324\n",
            "Epoch 7/10\n",
            "18/18 [==============================] - 100s 6s/step - loss: 0.0303\n",
            "Epoch 8/10\n",
            "18/18 [==============================] - 100s 5s/step - loss: 0.0289\n",
            "Epoch 9/10\n",
            "18/18 [==============================] - 99s 5s/step - loss: 0.0277\n",
            "Epoch 10/10\n",
            "18/18 [==============================] - 99s 6s/step - loss: 0.0255\n",
            "Генерация из посева: аз молодой\n",
            "аз молодой. И странной сладкою тоской Опять моя заныла грудь. Я долго силился вздохнуть – И пробудился. Уж луна Вверху сияла, и одна Лишь тучка кралася за ней, Как за добычею своей, Как тополь, царь ее полей! Н\n"
          ]
        }
      ]
    },
    {
      "cell_type": "markdown",
      "source": [
        "**Upgrade:**\n",
        "- увеличил длину генерируемого текста до 200 символов.\n",
        "- сделал предобработку текста, удалив неинформативные символы.\n",
        "- увеличил число итераций до 5, число эпох до 10, число слоёв GRU до 3-х и число нейронов в слоях до 512\n",
        "- увеличил BATCH_SIZE до 1128.\n",
        "\n",
        "**Итого:**\n",
        "\n",
        "Субъективно самый лучший вариант коррелирует с последней генерацией (объективно  миним. loss): \"аз молодой\n",
        "аз молодой. И странной сладкою тоской Опять моя заныла грудь. Я долго силился вздохнуть – И пробудился. Уж луна Вверху сияла, и одна Лишь тучка кралася за ней, Как за добычею своей, Как тополь, царь ее полей! Н\"\n"
      ],
      "metadata": {
        "id": "FgXX3p0mNgGm"
      }
    }
  ]
}