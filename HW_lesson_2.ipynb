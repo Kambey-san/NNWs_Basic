{
 "cells": [
  {
   "cell_type": "markdown",
   "id": "89351d32",
   "metadata": {},
   "source": [
    "## Урок 2. Keras. Домашнее задание"
   ]
  },
  {
   "cell_type": "code",
   "execution_count": 1,
   "id": "09a000a2",
   "metadata": {},
   "outputs": [],
   "source": [
    "# чтобы не ругался на GPU\n",
    "import os\n",
    "os.environ['TF_CPP_MIN_LOG_LEVEL'] = '2'"
   ]
  },
  {
   "cell_type": "code",
   "execution_count": 2,
   "id": "436f458e",
   "metadata": {},
   "outputs": [],
   "source": [
    "# скрываем warnings\n",
    "import warnings\n",
    "warnings.filterwarnings('ignore')"
   ]
  },
  {
   "cell_type": "code",
   "execution_count": 3,
   "id": "27a75d1e",
   "metadata": {},
   "outputs": [],
   "source": [
    "import numpy as np\n",
    "import pandas as pd\n",
    "import matplotlib.pyplot as plt\n",
    "import mnist\n",
    "from keras.datasets import fashion_mnist\n",
    "from keras.models import Sequential\n",
    "from keras.layers import Dense\n",
    "from keras.utils import to_categorical\n",
    "from scikeras.wrappers import KerasClassifier\n",
    "from sklearn.model_selection import GridSearchCV"
   ]
  },
  {
   "cell_type": "code",
   "execution_count": 4,
   "id": "0bf1e787",
   "metadata": {},
   "outputs": [],
   "source": [
    "train_images = mnist.train_images()\n",
    "train_labels = mnist.train_labels()\n",
    "test_images = mnist.test_images()\n",
    "test_labels = mnist.test_labels()"
   ]
  },
  {
   "cell_type": "code",
   "execution_count": 5,
   "id": "46c9eeaf",
   "metadata": {},
   "outputs": [],
   "source": [
    "# Normalize the images.\n",
    "train_images = (train_images / 255) - 0.5\n",
    "test_images = (test_images / 255) - 0.5"
   ]
  },
  {
   "cell_type": "code",
   "execution_count": 6,
   "id": "6a972f6c",
   "metadata": {},
   "outputs": [],
   "source": [
    "# Flatten the images.\n",
    "train_images = train_images.reshape((-1, 784))\n",
    "test_images = test_images.reshape((-1, 784))"
   ]
  },
  {
   "cell_type": "code",
   "execution_count": 7,
   "id": "cd32b746",
   "metadata": {},
   "outputs": [],
   "source": [
    "# Build the model.\n",
    "model = Sequential([\n",
    "  Dense(64, activation='relu', input_shape=(784,)),\n",
    "  Dense(64, activation='relu'),\n",
    "  Dense(10, activation='softmax'),\n",
    "])\n"
   ]
  },
  {
   "cell_type": "code",
   "execution_count": 8,
   "id": "31c442c6",
   "metadata": {},
   "outputs": [],
   "source": [
    "# Compile the model.\n",
    "model.compile(\n",
    "  optimizer='adam',\n",
    "  loss='categorical_crossentropy',\n",
    "  metrics=['accuracy'],\n",
    ")\n"
   ]
  },
  {
   "cell_type": "code",
   "execution_count": 9,
   "id": "f70a7ae9",
   "metadata": {},
   "outputs": [
    {
     "name": "stdout",
     "output_type": "stream",
     "text": [
      "Model: \"sequential\"\n",
      "_________________________________________________________________\n",
      " Layer (type)                Output Shape              Param #   \n",
      "=================================================================\n",
      " dense (Dense)               (None, 64)                50240     \n",
      "                                                                 \n",
      " dense_1 (Dense)             (None, 64)                4160      \n",
      "                                                                 \n",
      " dense_2 (Dense)             (None, 10)                650       \n",
      "                                                                 \n",
      "=================================================================\n",
      "Total params: 55050 (215.04 KB)\n",
      "Trainable params: 55050 (215.04 KB)\n",
      "Non-trainable params: 0 (0.00 Byte)\n",
      "_________________________________________________________________\n"
     ]
    }
   ],
   "source": [
    "model.summary()"
   ]
  },
  {
   "cell_type": "code",
   "execution_count": 10,
   "id": "51ef0efe",
   "metadata": {
    "scrolled": true
   },
   "outputs": [
    {
     "name": "stdout",
     "output_type": "stream",
     "text": [
      "Epoch 1/5\n",
      "1875/1875 [==============================] - 20s 9ms/step - loss: 0.3582 - accuracy: 0.8939\n",
      "Epoch 2/5\n",
      "1875/1875 [==============================] - 17s 9ms/step - loss: 0.1822 - accuracy: 0.9441\n",
      "Epoch 3/5\n",
      "1875/1875 [==============================] - 17s 9ms/step - loss: 0.1382 - accuracy: 0.9566\n",
      "Epoch 4/5\n",
      "1875/1875 [==============================] - 17s 9ms/step - loss: 0.1152 - accuracy: 0.9635\n",
      "Epoch 5/5\n",
      "1875/1875 [==============================] - 17s 9ms/step - loss: 0.0993 - accuracy: 0.9688\n",
      "Обучение завершено\n"
     ]
    }
   ],
   "source": [
    "# Train the model.\n",
    "history = model.fit(\n",
    "  train_images,\n",
    "  to_categorical(train_labels),\n",
    "  epochs=5,\n",
    "  batch_size=32,)\n",
    "print(\"Обучение завершено\")"
   ]
  },
  {
   "cell_type": "code",
   "execution_count": 11,
   "id": "90d2db7d",
   "metadata": {
    "scrolled": true
   },
   "outputs": [
    {
     "name": "stdout",
     "output_type": "stream",
     "text": [
      "313/313 [==============================] - 3s 7ms/step - loss: 0.1226 - accuracy: 0.9620\n",
      "Loss - 0.12, Accuracy - 0.96\n"
     ]
    }
   ],
   "source": [
    "# Evaluate the model.\n",
    "loss,metrics = model.evaluate(test_images, to_categorical(test_labels))\n",
    "print(f'Loss - {np.round(loss,2)}, Accuracy - {np.round(metrics,2)}')"
   ]
  },
  {
   "cell_type": "markdown",
   "id": "5410879c",
   "metadata": {},
   "source": [
    "### Задание_1:\n",
    "Попробуйте обучить, нейронную сеть на Keras (рассмотренную на уроке) на датасете MNIST с другими параметрами."
   ]
  },
  {
   "cell_type": "markdown",
   "id": "6c7756b7",
   "metadata": {},
   "source": [
    "### Модель_2. \n",
    "#### Изменения в количестве и качестве слоёв, увеличение количества эпох и обучающих примеров"
   ]
  },
  {
   "cell_type": "code",
   "execution_count": 12,
   "id": "42edaf1e",
   "metadata": {},
   "outputs": [],
   "source": [
    "# Build the model_2.\n",
    "model_2 = Sequential([\n",
    "    Dense(512, activation='relu', input_shape=(784,)),\n",
    "    Dense(256, activation='tanh'), # Скрытый слой с активацией tanh\n",
    "    Dense(128, activation='tanh'), # Скрытый слой с активацией tanh\n",
    "    Dense(10, activation='softmax'),# выходной слой из 10 нейронов (сколько классов, столько нейронов) + активация softmax\n",
    "  ])"
   ]
  },
  {
   "cell_type": "code",
   "execution_count": 13,
   "id": "5253f538",
   "metadata": {},
   "outputs": [],
   "source": [
    "# Compile the model.\n",
    "model_2.compile(\n",
    "  optimizer='adam',\n",
    "  loss='categorical_crossentropy',\n",
    "  metrics=['accuracy'],\n",
    ")"
   ]
  },
  {
   "cell_type": "code",
   "execution_count": 14,
   "id": "734f2d18",
   "metadata": {},
   "outputs": [
    {
     "name": "stdout",
     "output_type": "stream",
     "text": [
      "Model: \"sequential_1\"\n",
      "_________________________________________________________________\n",
      " Layer (type)                Output Shape              Param #   \n",
      "=================================================================\n",
      " dense_3 (Dense)             (None, 512)               401920    \n",
      "                                                                 \n",
      " dense_4 (Dense)             (None, 256)               131328    \n",
      "                                                                 \n",
      " dense_5 (Dense)             (None, 128)               32896     \n",
      "                                                                 \n",
      " dense_6 (Dense)             (None, 10)                1290      \n",
      "                                                                 \n",
      "=================================================================\n",
      "Total params: 567434 (2.16 MB)\n",
      "Trainable params: 567434 (2.16 MB)\n",
      "Non-trainable params: 0 (0.00 Byte)\n",
      "_________________________________________________________________\n"
     ]
    }
   ],
   "source": [
    "model_2.summary()"
   ]
  },
  {
   "cell_type": "code",
   "execution_count": 15,
   "id": "81033522",
   "metadata": {},
   "outputs": [
    {
     "name": "stdout",
     "output_type": "stream",
     "text": [
      "Epoch 1/10\n",
      "938/938 [==============================] - 34s 33ms/step - loss: 0.2727 - accuracy: 0.9154\n",
      "Epoch 2/10\n",
      "938/938 [==============================] - 32s 34ms/step - loss: 0.1318 - accuracy: 0.9592\n",
      "Epoch 3/10\n",
      "938/938 [==============================] - 32s 34ms/step - loss: 0.1027 - accuracy: 0.9675\n",
      "Epoch 4/10\n",
      "938/938 [==============================] - 32s 34ms/step - loss: 0.0833 - accuracy: 0.9737\n",
      "Epoch 5/10\n",
      "938/938 [==============================] - 33s 35ms/step - loss: 0.0720 - accuracy: 0.9765\n",
      "Epoch 6/10\n",
      "938/938 [==============================] - 32s 34ms/step - loss: 0.0638 - accuracy: 0.9794\n",
      "Epoch 7/10\n",
      "938/938 [==============================] - 32s 34ms/step - loss: 0.0546 - accuracy: 0.9819\n",
      "Epoch 8/10\n",
      "938/938 [==============================] - 32s 35ms/step - loss: 0.0510 - accuracy: 0.9833\n",
      "Epoch 9/10\n",
      "938/938 [==============================] - 32s 34ms/step - loss: 0.0460 - accuracy: 0.9848\n",
      "Epoch 10/10\n",
      "938/938 [==============================] - 32s 34ms/step - loss: 0.0411 - accuracy: 0.9865\n",
      "Обучение завершено\n"
     ]
    }
   ],
   "source": [
    "# Train the model.\n",
    "history_2 = model_2.fit(\n",
    "  train_images,\n",
    "  to_categorical(train_labels),\n",
    "  epochs=10,\n",
    "  batch_size=64,)\n",
    "print(\"Обучение завершено\")"
   ]
  },
  {
   "cell_type": "code",
   "execution_count": 16,
   "id": "b2161e50",
   "metadata": {
    "scrolled": true
   },
   "outputs": [
    {
     "name": "stdout",
     "output_type": "stream",
     "text": [
      "313/313 [==============================] - 4s 11ms/step - loss: 0.0969 - accuracy: 0.9713\n",
      "Loss - 0.1, Accuracy - 0.97\n"
     ]
    }
   ],
   "source": [
    "# Evaluate the model_2.\n",
    "loss,metrics = model_2.evaluate(test_images, to_categorical(test_labels))\n",
    "print(f'Loss - {np.round(loss,2)}, Accuracy - {np.round(metrics,2)}')"
   ]
  },
  {
   "cell_type": "markdown",
   "id": "ab03c38d",
   "metadata": {},
   "source": [
    "### Модель_3. \n",
    "#### Вернём только параметры слоёв начальной модели."
   ]
  },
  {
   "cell_type": "code",
   "execution_count": 17,
   "id": "494cb840",
   "metadata": {},
   "outputs": [],
   "source": [
    "# Build the model.\n",
    "model_3 = Sequential([\n",
    "  Dense(64, activation='relu', input_shape=(784,)),\n",
    "  Dense(64, activation='relu'),\n",
    "  Dense(10, activation='softmax'),\n",
    "])"
   ]
  },
  {
   "cell_type": "code",
   "execution_count": 18,
   "id": "e9d94470",
   "metadata": {},
   "outputs": [],
   "source": [
    "# Compile the model.\n",
    "model_3.compile(\n",
    "  optimizer='adam',\n",
    "  loss='categorical_crossentropy',\n",
    "  metrics=['accuracy'],\n",
    ")"
   ]
  },
  {
   "cell_type": "code",
   "execution_count": 19,
   "id": "a5d61456",
   "metadata": {},
   "outputs": [
    {
     "name": "stdout",
     "output_type": "stream",
     "text": [
      "Model: \"sequential_2\"\n",
      "_________________________________________________________________\n",
      " Layer (type)                Output Shape              Param #   \n",
      "=================================================================\n",
      " dense_7 (Dense)             (None, 64)                50240     \n",
      "                                                                 \n",
      " dense_8 (Dense)             (None, 64)                4160      \n",
      "                                                                 \n",
      " dense_9 (Dense)             (None, 10)                650       \n",
      "                                                                 \n",
      "=================================================================\n",
      "Total params: 55050 (215.04 KB)\n",
      "Trainable params: 55050 (215.04 KB)\n",
      "Non-trainable params: 0 (0.00 Byte)\n",
      "_________________________________________________________________\n"
     ]
    }
   ],
   "source": [
    "model_3.summary()"
   ]
  },
  {
   "cell_type": "code",
   "execution_count": 20,
   "id": "bc7638f8",
   "metadata": {},
   "outputs": [
    {
     "name": "stdout",
     "output_type": "stream",
     "text": [
      "Epoch 1/10\n",
      "938/938 [==============================] - 14s 12ms/step - loss: 0.4098 - accuracy: 0.8801\n",
      "Epoch 2/10\n",
      "938/938 [==============================] - 10s 11ms/step - loss: 0.2121 - accuracy: 0.9367\n",
      "Epoch 3/10\n",
      "938/938 [==============================] - 10s 11ms/step - loss: 0.1634 - accuracy: 0.9508\n",
      "Epoch 4/10\n",
      "938/938 [==============================] - 10s 10ms/step - loss: 0.1334 - accuracy: 0.9595\n",
      "Epoch 5/10\n",
      "938/938 [==============================] - 9s 10ms/step - loss: 0.1171 - accuracy: 0.9642\n",
      "Epoch 6/10\n",
      "938/938 [==============================] - 10s 11ms/step - loss: 0.1055 - accuracy: 0.9676\n",
      "Epoch 7/10\n",
      "938/938 [==============================] - 11s 11ms/step - loss: 0.0958 - accuracy: 0.9696\n",
      "Epoch 8/10\n",
      "938/938 [==============================] - 12s 13ms/step - loss: 0.0876 - accuracy: 0.9722\n",
      "Epoch 9/10\n",
      "938/938 [==============================] - 12s 12ms/step - loss: 0.0793 - accuracy: 0.9752\n",
      "Epoch 10/10\n",
      "938/938 [==============================] - 9s 10ms/step - loss: 0.0716 - accuracy: 0.9772\n",
      "Обучение завершено\n"
     ]
    }
   ],
   "source": [
    "# Train the model.\n",
    "history_3 = model_3.fit(\n",
    "  train_images,\n",
    "  to_categorical(train_labels),\n",
    "  epochs=10,\n",
    "  batch_size=64,)\n",
    "print(\"Обучение завершено\")"
   ]
  },
  {
   "cell_type": "code",
   "execution_count": 21,
   "id": "2bf2e05c",
   "metadata": {
    "scrolled": true
   },
   "outputs": [
    {
     "name": "stdout",
     "output_type": "stream",
     "text": [
      "313/313 [==============================] - 3s 7ms/step - loss: 0.1003 - accuracy: 0.9701\n",
      "Loss - 0.1, Accuracy - 0.97\n"
     ]
    }
   ],
   "source": [
    "# Evaluate the model_3.\n",
    "loss,metrics = model_3.evaluate(test_images, to_categorical(test_labels))\n",
    "print(f'Loss - {np.round(loss,2)}, Accuracy - {np.round(metrics,2)}')"
   ]
  },
  {
   "cell_type": "markdown",
   "id": "deea466e",
   "metadata": {},
   "source": [
    "### Модель_4. \n",
    "#### Слои модели_2 при параметрах fit начальной модели"
   ]
  },
  {
   "cell_type": "code",
   "execution_count": 22,
   "id": "16c94eb1",
   "metadata": {},
   "outputs": [],
   "source": [
    "# Build the model_4.\n",
    "model_4 = Sequential([\n",
    "    Dense(512, activation='relu', input_shape=(784,)),\n",
    "    Dense(256, activation='tanh'), # Скрытый слой с активацией tanh\n",
    "    Dense(128, activation='tanh'), # Скрытый слой с активацией tanh\n",
    "    Dense(10, activation='softmax'),# выходной слой из 10 нейронов (сколько классов, столько нейронов) + активация softmax\n",
    "  ])"
   ]
  },
  {
   "cell_type": "code",
   "execution_count": 23,
   "id": "e7f90424",
   "metadata": {},
   "outputs": [],
   "source": [
    "# Compile the model.\n",
    "model_4.compile(\n",
    "  optimizer='adam',\n",
    "  loss='categorical_crossentropy',\n",
    "  metrics=['accuracy'],\n",
    ")"
   ]
  },
  {
   "cell_type": "code",
   "execution_count": 24,
   "id": "0314298e",
   "metadata": {},
   "outputs": [
    {
     "name": "stdout",
     "output_type": "stream",
     "text": [
      "Model: \"sequential_3\"\n",
      "_________________________________________________________________\n",
      " Layer (type)                Output Shape              Param #   \n",
      "=================================================================\n",
      " dense_10 (Dense)            (None, 512)               401920    \n",
      "                                                                 \n",
      " dense_11 (Dense)            (None, 256)               131328    \n",
      "                                                                 \n",
      " dense_12 (Dense)            (None, 128)               32896     \n",
      "                                                                 \n",
      " dense_13 (Dense)            (None, 10)                1290      \n",
      "                                                                 \n",
      "=================================================================\n",
      "Total params: 567434 (2.16 MB)\n",
      "Trainable params: 567434 (2.16 MB)\n",
      "Non-trainable params: 0 (0.00 Byte)\n",
      "_________________________________________________________________\n"
     ]
    }
   ],
   "source": [
    "model_4.summary()"
   ]
  },
  {
   "cell_type": "code",
   "execution_count": 25,
   "id": "4c5ce8a4",
   "metadata": {},
   "outputs": [
    {
     "name": "stdout",
     "output_type": "stream",
     "text": [
      "Epoch 1/5\n",
      "1875/1875 [==============================] - 65s 33ms/step - loss: 0.2718 - accuracy: 0.9150\n",
      "Epoch 2/5\n",
      "1875/1875 [==============================] - 59s 32ms/step - loss: 0.1388 - accuracy: 0.9563\n",
      "Epoch 3/5\n",
      "1875/1875 [==============================] - 58s 31ms/step - loss: 0.1107 - accuracy: 0.9664\n",
      "Epoch 4/5\n",
      "1875/1875 [==============================] - 59s 31ms/step - loss: 0.0921 - accuracy: 0.9712\n",
      "Epoch 5/5\n",
      "1875/1875 [==============================] - 58s 31ms/step - loss: 0.0799 - accuracy: 0.9749\n",
      "Обучение завершено\n"
     ]
    }
   ],
   "source": [
    "# Train the model.\n",
    "history_4 = model_4.fit(\n",
    "  train_images,\n",
    "  to_categorical(train_labels),\n",
    "  epochs=5,\n",
    "  batch_size=32,)\n",
    "print(\"Обучение завершено\")"
   ]
  },
  {
   "cell_type": "code",
   "execution_count": 26,
   "id": "d951a7d5",
   "metadata": {
    "scrolled": false
   },
   "outputs": [
    {
     "name": "stdout",
     "output_type": "stream",
     "text": [
      "313/313 [==============================] - 4s 11ms/step - loss: 0.0985 - accuracy: 0.9697\n",
      "Loss - 0.1, Accuracy - 0.97\n"
     ]
    }
   ],
   "source": [
    "# Evaluate the model_3.\n",
    "loss,metrics = model_4.evaluate(test_images, to_categorical(test_labels))\n",
    "print(f'Loss - {np.round(loss,2)}, Accuracy - {np.round(metrics,2)}')"
   ]
  },
  {
   "cell_type": "code",
   "execution_count": 27,
   "id": "beb989cd",
   "metadata": {},
   "outputs": [
    {
     "data": {
      "image/png": "[encoded data removed]",
      "text/plain": [
       "<Figure size 432x288 with 1 Axes>"
      ]
     },
     "metadata": {
      "needs_background": "light"
     },
     "output_type": "display_data"
    }
   ],
   "source": [
    "plt.plot(history.history['accuracy'], label=\"model_0\",color = 'r')\n",
    "plt.plot(history_2.history['accuracy'], label=\"model_2\", color = 'b')\n",
    "plt.plot(history_3.history['accuracy'], label=\"model_3\", color = 'y')\n",
    "plt.plot(history_4.history['accuracy'], label=\"model_4\", color = 'g')\n",
    "plt.xlabel('Обучение')\n",
    "plt.ylabel('Точность')\n",
    "plt.grid(True)\n",
    "plt.legend()\n",
    "plt.show()"
   ]
  },
  {
   "cell_type": "markdown",
   "id": "45e19ebb",
   "metadata": {},
   "source": [
    "### Модель_2 лучшая. Далее попробуем на ней разные оптимизаторы:"
   ]
  },
  {
   "cell_type": "code",
   "execution_count": 28,
   "id": "736cdbec",
   "metadata": {},
   "outputs": [],
   "source": [
    "# Build the model_5.\n",
    "model_5 = Sequential([\n",
    "    Dense(512, activation='relu', input_shape=(784,)),\n",
    "    Dense(256, activation='tanh'), # Скрытый слой с активацией tanh\n",
    "    Dense(128, activation='tanh'), # Скрытый слой с активацией tanh\n",
    "    Dense(10, activation='softmax'),# выходной слой из 10 нейронов (сколько классов, столько нейронов) + активация softmax\n",
    "  ])"
   ]
  },
  {
   "cell_type": "code",
   "execution_count": 29,
   "id": "ea602c83",
   "metadata": {},
   "outputs": [],
   "source": [
    "# Compile the model.\n",
    "model_5.compile(\n",
    "  optimizer='sgd',\n",
    "  loss='categorical_crossentropy',\n",
    "  metrics=['accuracy'],\n",
    ")"
   ]
  },
  {
   "cell_type": "code",
   "execution_count": 30,
   "id": "dac65220",
   "metadata": {},
   "outputs": [
    {
     "name": "stdout",
     "output_type": "stream",
     "text": [
      "Epoch 1/10\n",
      "938/938 [==============================] - 24s 24ms/step - loss: 0.6270 - accuracy: 0.8448\n",
      "Epoch 2/10\n",
      "938/938 [==============================] - 24s 26ms/step - loss: 0.3157 - accuracy: 0.9106\n",
      "Epoch 3/10\n",
      "938/938 [==============================] - 23s 25ms/step - loss: 0.2642 - accuracy: 0.9237\n",
      "Epoch 4/10\n",
      "938/938 [==============================] - 23s 24ms/step - loss: 0.2304 - accuracy: 0.9334\n",
      "Epoch 5/10\n",
      "938/938 [==============================] - 23s 25ms/step - loss: 0.2045 - accuracy: 0.9411\n",
      "Epoch 6/10\n",
      "938/938 [==============================] - 24s 26ms/step - loss: 0.1829 - accuracy: 0.9473\n",
      "Epoch 7/10\n",
      "938/938 [==============================] - 22s 24ms/step - loss: 0.1650 - accuracy: 0.9528\n",
      "Epoch 8/10\n",
      "938/938 [==============================] - 26s 28ms/step - loss: 0.1501 - accuracy: 0.9570\n",
      "Epoch 9/10\n",
      "938/938 [==============================] - 35s 37ms/step - loss: 0.1369 - accuracy: 0.9607\n",
      "Epoch 10/10\n",
      "938/938 [==============================] - 35s 38ms/step - loss: 0.1258 - accuracy: 0.9639\n",
      "Обучение завершено\n"
     ]
    }
   ],
   "source": [
    "# Train the model.\n",
    "history_5 = model_5.fit(\n",
    "  train_images,\n",
    "  to_categorical(train_labels),\n",
    "  epochs=10,\n",
    "  batch_size=64,)\n",
    "print(\"Обучение завершено\")"
   ]
  },
  {
   "cell_type": "code",
   "execution_count": 31,
   "id": "7dcb1a75",
   "metadata": {
    "scrolled": true
   },
   "outputs": [
    {
     "name": "stdout",
     "output_type": "stream",
     "text": [
      "313/313 [==============================] - 9s 22ms/step - loss: 0.1352 - accuracy: 0.9612\n",
      "Loss - 0.14, Accuracy - 0.96\n"
     ]
    }
   ],
   "source": [
    "# Evaluate the model_5.\n",
    "loss,metrics = model_5.evaluate(test_images, to_categorical(test_labels))\n",
    "print(f'Loss - {np.round(loss,2)}, Accuracy - {np.round(metrics,2)}')"
   ]
  },
  {
   "cell_type": "code",
   "execution_count": 32,
   "id": "952c7259",
   "metadata": {},
   "outputs": [],
   "source": [
    "# Build the model_6.\n",
    "model_6 = Sequential([\n",
    "    Dense(512, activation='relu', input_shape=(784,)),\n",
    "    Dense(256, activation='tanh'), # Скрытый слой с активацией tanh\n",
    "    Dense(128, activation='tanh'), # Скрытый слой с активацией tanh\n",
    "    Dense(10, activation='softmax'),# выходной слой из 10 нейронов (сколько классов, столько нейронов) + активация softmax\n",
    "  ])"
   ]
  },
  {
   "cell_type": "code",
   "execution_count": 33,
   "id": "aa3be99c",
   "metadata": {},
   "outputs": [],
   "source": [
    "# Compile the model.\n",
    "model_6.compile(\n",
    "  optimizer='RMSprop',\n",
    "  loss='categorical_crossentropy',\n",
    "  metrics=['accuracy'],\n",
    ")"
   ]
  },
  {
   "cell_type": "code",
   "execution_count": 34,
   "id": "0f7442a3",
   "metadata": {},
   "outputs": [
    {
     "name": "stdout",
     "output_type": "stream",
     "text": [
      "Epoch 1/10\n",
      "938/938 [==============================] - 48s 45ms/step - loss: 0.3378 - accuracy: 0.8940\n",
      "Epoch 2/10\n",
      "938/938 [==============================] - 35s 38ms/step - loss: 0.1440 - accuracy: 0.9550\n",
      "Epoch 3/10\n",
      "938/938 [==============================] - 32s 35ms/step - loss: 0.1059 - accuracy: 0.9658\n",
      "Epoch 4/10\n",
      "938/938 [==============================] - 37s 39ms/step - loss: 0.0850 - accuracy: 0.9740\n",
      "Epoch 5/10\n",
      "938/938 [==============================] - 37s 40ms/step - loss: 0.0691 - accuracy: 0.9784\n",
      "Epoch 6/10\n",
      "938/938 [==============================] - 28s 30ms/step - loss: 0.0599 - accuracy: 0.9813\n",
      "Epoch 7/10\n",
      "938/938 [==============================] - 27s 29ms/step - loss: 0.0513 - accuracy: 0.9840\n",
      "Epoch 8/10\n",
      "938/938 [==============================] - 30s 32ms/step - loss: 0.0441 - accuracy: 0.9857\n",
      "Epoch 9/10\n",
      "938/938 [==============================] - 34s 36ms/step - loss: 0.0404 - accuracy: 0.9870\n",
      "Epoch 10/10\n",
      "938/938 [==============================] - 34s 37ms/step - loss: 0.0348 - accuracy: 0.9885\n",
      "Обучение завершено\n"
     ]
    }
   ],
   "source": [
    "# Train the model.\n",
    "history_6 = model_6.fit(\n",
    "  train_images,\n",
    "  to_categorical(train_labels),\n",
    "  epochs=10,\n",
    "  batch_size=64,)\n",
    "print(\"Обучение завершено\")"
   ]
  },
  {
   "cell_type": "markdown",
   "id": "1a1ba5bc",
   "metadata": {},
   "source": [
    "### Задание_2:\n",
    "Какого результата вы добились от нейросети?"
   ]
  },
  {
   "cell_type": "code",
   "execution_count": 35,
   "id": "08eaf6b9",
   "metadata": {
    "scrolled": false
   },
   "outputs": [
    {
     "name": "stdout",
     "output_type": "stream",
     "text": [
      "313/313 [==============================] - 6s 15ms/step - loss: 0.0716 - accuracy: 0.9804\n",
      "Loss - 0.07, Accuracy - 0.98\n"
     ]
    }
   ],
   "source": [
    "# Evaluate the model_6.\n",
    "loss,metrics = model_6.evaluate(test_images, to_categorical(test_labels))\n",
    "print(f'Loss - {np.round(loss,2)}, Accuracy - {np.round(metrics,2)}')"
   ]
  },
  {
   "cell_type": "code",
   "execution_count": 36,
   "id": "1c7ab5b7",
   "metadata": {
    "scrolled": false
   },
   "outputs": [
    {
     "data": {
      "image/png": "[encoded data removed]",
      "text/plain": [
       "<Figure size 432x288 with 1 Axes>"
      ]
     },
     "metadata": {
      "needs_background": "light"
     },
     "output_type": "display_data"
    }
   ],
   "source": [
    "plt.plot(history_2.history['accuracy'], label=\"Adam\", color = 'blue')\n",
    "plt.plot(history_5.history['accuracy'], label=\"SGD\", color = 'red')\n",
    "plt.plot(history_6.history['accuracy'], label=\"'RMSprop\", color = 'green')\n",
    "plt.xlabel('Обучение')\n",
    "plt.ylabel('Точность')\n",
    "plt.grid(True)\n",
    "plt.legend()\n",
    "plt.show()"
   ]
  },
  {
   "cell_type": "markdown",
   "id": "fd798b69",
   "metadata": {},
   "source": [
    "### Задание_3:\n",
    "Что помогло вам улучшить её точность?"
   ]
  },
  {
   "cell_type": "markdown",
   "id": "748f1352",
   "metadata": {},
   "source": [
    "**Изменения в количестве и качестве слоёв, увеличение количества эпох, обучающих примеров, выбор оптимизатора**"
   ]
  },
  {
   "cell_type": "markdown",
   "id": "e163fe27",
   "metadata": {},
   "source": [
    "### \n",
    "### Задание_4:"
   ]
  },
  {
   "cell_type": "markdown",
   "id": "d157afcc",
   "metadata": {},
   "source": [
    "Поработайте с документацией Keras. Попробуйте найти полезные команды Keras, неразобранные на уроке."
   ]
  },
  {
   "cell_type": "markdown",
   "id": "42562102",
   "metadata": {},
   "source": [
    "4.1. Из метода evaluate получены параметры для оценки ошибки и точности тестовых данных.\n",
    "\n",
    "4.2. EarlyStopping позволяет закончить обучение если результаты больше не улучшаются.\n",
    "\n",
    "4.3. predict_classes позволяет срузу получить метки классов\n",
    "\n",
    "4.4. backend.tensorflow_backend._get_available_gpus позволяет увидеть доступные видеокарты"
   ]
  }
 ],
 "metadata": {
  "kernelspec": {
   "display_name": "Python 3 (ipykernel)",
   "language": "python",
   "name": "python3"
  },
  "language_info": {
   "codemirror_mode": {
    "name": "ipython",
    "version": 3
   },
   "file_extension": ".py",
   "mimetype": "text/x-python",
   "name": "python",
   "nbconvert_exporter": "python",
   "pygments_lexer": "ipython3",
   "version": "3.10.5"
  }
 },
 "nbformat": 4,
 "nbformat_minor": 5
}
