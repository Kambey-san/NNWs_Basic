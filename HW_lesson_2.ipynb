{
 "cells": [
  {
   "cell_type": "markdown",
   "id": "89351d32",
   "metadata": {},
   "source": [
    "## Урок 2. Keras. Домашнее задание"
   ]
  },
  {
   "cell_type": "code",
   "execution_count": 1,
   "id": "09a000a2",
   "metadata": {},
   "outputs": [],
   "source": [
    "# чтобы не ругался на GPU\n",
    "import os\n",
    "os.environ['TF_CPP_MIN_LOG_LEVEL'] = '2'"
   ]
  },
  {
   "cell_type": "code",
   "execution_count": 2,
   "id": "436f458e",
   "metadata": {},
   "outputs": [],
   "source": [
    "# скрываем warnings\n",
    "import warnings\n",
    "warnings.filterwarnings('ignore')"
   ]
  },
  {
   "cell_type": "code",
   "execution_count": 3,
   "id": "27a75d1e",
   "metadata": {},
   "outputs": [],
   "source": [
    "import numpy as np\n",
    "import pandas as pd\n",
    "import matplotlib.pyplot as plt\n",
    "import mnist\n",
    "from keras.datasets import fashion_mnist\n",
    "from keras.models import Sequential\n",
    "from keras.layers import Dense\n",
    "from keras.utils import to_categorical\n",
    "from scikeras.wrappers import KerasClassifier\n",
    "from sklearn.model_selection import GridSearchCV"
   ]
  },
  {
   "cell_type": "code",
   "execution_count": 4,
   "id": "0bf1e787",
   "metadata": {},
   "outputs": [],
   "source": [
    "train_images = mnist.train_images()\n",
    "train_labels = mnist.train_labels()\n",
    "test_images = mnist.test_images()\n",
    "test_labels = mnist.test_labels()"
   ]
  },
  {
   "cell_type": "code",
   "execution_count": 5,
   "id": "46c9eeaf",
   "metadata": {},
   "outputs": [],
   "source": [
    "# Normalize the images.\n",
    "train_images = (train_images / 255) - 0.5\n",
    "test_images = (test_images / 255) - 0.5"
   ]
  },
  {
   "cell_type": "code",
   "execution_count": 6,
   "id": "6a972f6c",
   "metadata": {},
   "outputs": [],
   "source": [
    "# Flatten the images.\n",
    "train_images = train_images.reshape((-1, 784))\n",
    "test_images = test_images.reshape((-1, 784))"
   ]
  },
  {
   "cell_type": "code",
   "execution_count": 7,
   "id": "cd32b746",
   "metadata": {},
   "outputs": [],
   "source": [
    "# Build the model.\n",
    "model = Sequential([\n",
    "  Dense(64, activation='relu', input_shape=(784,)),\n",
    "  Dense(64, activation='relu'),\n",
    "  Dense(10, activation='softmax'),\n",
    "])\n"
   ]
  },
  {
   "cell_type": "code",
   "execution_count": 8,
   "id": "31c442c6",
   "metadata": {},
   "outputs": [],
   "source": [
    "# Compile the model.\n",
    "model.compile(\n",
    "  optimizer='adam',\n",
    "  loss='categorical_crossentropy',\n",
    "  metrics=['accuracy'],\n",
    ")\n"
   ]
  },
  {
   "cell_type": "code",
   "execution_count": 9,
   "id": "f70a7ae9",
   "metadata": {},
   "outputs": [
    {
     "name": "stdout",
     "output_type": "stream",
     "text": [
      "Model: \"sequential\"\n",
      "_________________________________________________________________\n",
      " Layer (type)                Output Shape              Param #   \n",
      "=================================================================\n",
      " dense (Dense)               (None, 64)                50240     \n",
      "                                                                 \n",
      " dense_1 (Dense)             (None, 64)                4160      \n",
      "                                                                 \n",
      " dense_2 (Dense)             (None, 10)                650       \n",
      "                                                                 \n",
      "=================================================================\n",
      "Total params: 55050 (215.04 KB)\n",
      "Trainable params: 55050 (215.04 KB)\n",
      "Non-trainable params: 0 (0.00 Byte)\n",
      "_________________________________________________________________\n"
     ]
    }
   ],
   "source": [
    "model.summary()"
   ]
  },
  {
   "cell_type": "code",
   "execution_count": 10,
   "id": "51ef0efe",
   "metadata": {
    "scrolled": true
   },
   "outputs": [
    {
     "name": "stdout",
     "output_type": "stream",
     "text": [
      "Epoch 1/5\n",
      "1875/1875 [==============================] - 22s 10ms/step - loss: 0.3603 - accuracy: 0.8929\n",
      "Epoch 2/5\n",
      "1875/1875 [==============================] - 22s 12ms/step - loss: 0.1874 - accuracy: 0.9435\n",
      "Epoch 3/5\n",
      "1875/1875 [==============================] - 22s 12ms/step - loss: 0.1423 - accuracy: 0.9564\n",
      "Epoch 4/5\n",
      "1875/1875 [==============================] - 18s 9ms/step - loss: 0.1209 - accuracy: 0.9624\n",
      "Epoch 5/5\n",
      "1875/1875 [==============================] - 16s 9ms/step - loss: 0.1019 - accuracy: 0.9683\n",
      "Обучение завершено\n"
     ]
    }
   ],
   "source": [
    "# Train the model.\n",
    "history = model.fit(\n",
    "  train_images,\n",
    "  to_categorical(train_labels),\n",
    "  epochs=5,\n",
    "  batch_size=32,)\n",
    "print(\"Обучение завершено\")"
   ]
  },
  {
   "cell_type": "code",
   "execution_count": 11,
   "id": "90d2db7d",
   "metadata": {
    "scrolled": true
   },
   "outputs": [
    {
     "name": "stdout",
     "output_type": "stream",
     "text": [
      "313/313 [==============================] - 3s 6ms/step - loss: 0.1204 - accuracy: 0.9641\n",
      "Loss - 0.12, Accuracy - 0.96\n"
     ]
    }
   ],
   "source": [
    "# Evaluate the model.\n",
    "loss,metrics = model.evaluate(test_images, to_categorical(test_labels))\n",
    "print(f'Loss - {np.round(loss,2)}, Accuracy - {np.round(metrics,2)}')"
   ]
  },
  {
   "cell_type": "markdown",
   "id": "5410879c",
   "metadata": {},
   "source": [
    "### Задание_1:\n",
    "Попробуйте обучить, нейронную сеть на Keras (рассмотренную на уроке) на датасете MNIST с другими параметрами."
   ]
  },
  {
   "cell_type": "markdown",
   "id": "6c7756b7",
   "metadata": {},
   "source": [
    "### Модель_2. \n",
    "#### Изменения в количестве и качестве слоёв, увеличение количества эпох и обучающих примеров"
   ]
  },
  {
   "cell_type": "code",
   "execution_count": 12,
   "id": "42edaf1e",
   "metadata": {},
   "outputs": [],
   "source": [
    "# Build the model_2.\n",
    "model_2 = Sequential([\n",
    "    Dense(512, activation='relu', input_shape=(784,)),\n",
    "    Dense(256, activation='tanh'), # Скрытый слой с активацией tanh\n",
    "    Dense(128, activation='tanh'), # Скрытый слой с активацией tanh\n",
    "    Dense(10, activation='softmax'),# выходной слой из 10 нейронов (сколько классов, столько нейронов) + активация softmax\n",
    "  ])"
   ]
  },
  {
   "cell_type": "code",
   "execution_count": 13,
   "id": "5253f538",
   "metadata": {},
   "outputs": [],
   "source": [
    "# Compile the model.\n",
    "model_2.compile(\n",
    "  optimizer='adam',\n",
    "  loss='categorical_crossentropy',\n",
    "  metrics=['accuracy'],\n",
    ")"
   ]
  },
  {
   "cell_type": "code",
   "execution_count": 14,
   "id": "734f2d18",
   "metadata": {},
   "outputs": [
    {
     "name": "stdout",
     "output_type": "stream",
     "text": [
      "Model: \"sequential_1\"\n",
      "_________________________________________________________________\n",
      " Layer (type)                Output Shape              Param #   \n",
      "=================================================================\n",
      " dense_3 (Dense)             (None, 512)               401920    \n",
      "                                                                 \n",
      " dense_4 (Dense)             (None, 256)               131328    \n",
      "                                                                 \n",
      " dense_5 (Dense)             (None, 128)               32896     \n",
      "                                                                 \n",
      " dense_6 (Dense)             (None, 10)                1290      \n",
      "                                                                 \n",
      "=================================================================\n",
      "Total params: 567434 (2.16 MB)\n",
      "Trainable params: 567434 (2.16 MB)\n",
      "Non-trainable params: 0 (0.00 Byte)\n",
      "_________________________________________________________________\n"
     ]
    }
   ],
   "source": [
    "model_2.summary()"
   ]
  },
  {
   "cell_type": "code",
   "execution_count": 15,
   "id": "81033522",
   "metadata": {},
   "outputs": [
    {
     "name": "stdout",
     "output_type": "stream",
     "text": [
      "Epoch 1/10\n",
      "938/938 [==============================] - 38s 36ms/step - loss: 0.2701 - accuracy: 0.9157\n",
      "Epoch 2/10\n",
      "938/938 [==============================] - 33s 35ms/step - loss: 0.1330 - accuracy: 0.9586\n",
      "Epoch 3/10\n",
      "938/938 [==============================] - 33s 35ms/step - loss: 0.1021 - accuracy: 0.9688\n",
      "Epoch 4/10\n",
      "938/938 [==============================] - 33s 35ms/step - loss: 0.0834 - accuracy: 0.9733\n",
      "Epoch 5/10\n",
      "938/938 [==============================] - 33s 35ms/step - loss: 0.0716 - accuracy: 0.9766\n",
      "Epoch 6/10\n",
      "938/938 [==============================] - 33s 35ms/step - loss: 0.0646 - accuracy: 0.9793\n",
      "Epoch 7/10\n",
      "938/938 [==============================] - 33s 35ms/step - loss: 0.0546 - accuracy: 0.9824\n",
      "Epoch 8/10\n",
      "938/938 [==============================] - 33s 35ms/step - loss: 0.0501 - accuracy: 0.9837\n",
      "Epoch 9/10\n",
      "938/938 [==============================] - 33s 36ms/step - loss: 0.0452 - accuracy: 0.9850\n",
      "Epoch 10/10\n",
      "938/938 [==============================] - 33s 35ms/step - loss: 0.0443 - accuracy: 0.9857\n",
      "Обучение завершено\n"
     ]
    }
   ],
   "source": [
    "# Train the model.\n",
    "history_2 = model_2.fit(\n",
    "  train_images,\n",
    "  to_categorical(train_labels),\n",
    "  epochs=10,\n",
    "  batch_size=64,)\n",
    "print(\"Обучение завершено\")"
   ]
  },
  {
   "cell_type": "code",
   "execution_count": 16,
   "id": "b2161e50",
   "metadata": {
    "scrolled": true
   },
   "outputs": [
    {
     "name": "stdout",
     "output_type": "stream",
     "text": [
      "313/313 [==============================] - 4s 12ms/step - loss: 0.0813 - accuracy: 0.9759\n",
      "Loss - 0.08, Accuracy - 0.98\n"
     ]
    }
   ],
   "source": [
    "# Evaluate the model_2.\n",
    "loss,metrics = model_2.evaluate(test_images, to_categorical(test_labels))\n",
    "print(f'Loss - {np.round(loss,2)}, Accuracy - {np.round(metrics,2)}')"
   ]
  },
  {
   "cell_type": "markdown",
   "id": "ab03c38d",
   "metadata": {},
   "source": [
    "### Модель_3. \n",
    "#### Вернём только параметры слоёв начальной модели."
   ]
  },
  {
   "cell_type": "code",
   "execution_count": 17,
   "id": "494cb840",
   "metadata": {},
   "outputs": [],
   "source": [
    "# Build the model.\n",
    "model_3 = Sequential([\n",
    "  Dense(64, activation='relu', input_shape=(784,)),\n",
    "  Dense(64, activation='relu'),\n",
    "  Dense(10, activation='softmax'),\n",
    "])"
   ]
  },
  {
   "cell_type": "code",
   "execution_count": 18,
   "id": "e9d94470",
   "metadata": {},
   "outputs": [],
   "source": [
    "# Compile the model.\n",
    "model_3.compile(\n",
    "  optimizer='adam',\n",
    "  loss='categorical_crossentropy',\n",
    "  metrics=['accuracy'],\n",
    ")"
   ]
  },
  {
   "cell_type": "code",
   "execution_count": 19,
   "id": "a5d61456",
   "metadata": {},
   "outputs": [
    {
     "name": "stdout",
     "output_type": "stream",
     "text": [
      "Model: \"sequential_2\"\n",
      "_________________________________________________________________\n",
      " Layer (type)                Output Shape              Param #   \n",
      "=================================================================\n",
      " dense_7 (Dense)             (None, 64)                50240     \n",
      "                                                                 \n",
      " dense_8 (Dense)             (None, 64)                4160      \n",
      "                                                                 \n",
      " dense_9 (Dense)             (None, 10)                650       \n",
      "                                                                 \n",
      "=================================================================\n",
      "Total params: 55050 (215.04 KB)\n",
      "Trainable params: 55050 (215.04 KB)\n",
      "Non-trainable params: 0 (0.00 Byte)\n",
      "_________________________________________________________________\n"
     ]
    }
   ],
   "source": [
    "model_3.summary()"
   ]
  },
  {
   "cell_type": "code",
   "execution_count": 20,
   "id": "bc7638f8",
   "metadata": {},
   "outputs": [
    {
     "name": "stdout",
     "output_type": "stream",
     "text": [
      "Epoch 1/10\n",
      "938/938 [==============================] - 12s 10ms/step - loss: 0.4090 - accuracy: 0.8792\n",
      "Epoch 2/10\n",
      "938/938 [==============================] - 9s 10ms/step - loss: 0.2180 - accuracy: 0.9359\n",
      "Epoch 3/10\n",
      "938/938 [==============================] - 9s 10ms/step - loss: 0.1657 - accuracy: 0.9504\n",
      "Epoch 4/10\n",
      "938/938 [==============================] - 9s 10ms/step - loss: 0.1353 - accuracy: 0.9589\n",
      "Epoch 5/10\n",
      "938/938 [==============================] - 10s 10ms/step - loss: 0.1147 - accuracy: 0.9649\n",
      "Epoch 6/10\n",
      "938/938 [==============================] - 10s 10ms/step - loss: 0.1026 - accuracy: 0.9685\n",
      "Epoch 7/10\n",
      "938/938 [==============================] - 10s 10ms/step - loss: 0.0910 - accuracy: 0.9716\n",
      "Epoch 8/10\n",
      "938/938 [==============================] - 10s 10ms/step - loss: 0.0825 - accuracy: 0.9740\n",
      "Epoch 9/10\n",
      "938/938 [==============================] - 9s 10ms/step - loss: 0.0782 - accuracy: 0.9755\n",
      "Epoch 10/10\n",
      "938/938 [==============================] - 9s 10ms/step - loss: 0.0701 - accuracy: 0.9778\n",
      "Обучение завершено\n"
     ]
    }
   ],
   "source": [
    "# Train the model.\n",
    "history_3 = model_3.fit(\n",
    "  train_images,\n",
    "  to_categorical(train_labels),\n",
    "  epochs=10,\n",
    "  batch_size=64,)\n",
    "print(\"Обучение завершено\")"
   ]
  },
  {
   "cell_type": "code",
   "execution_count": 21,
   "id": "2bf2e05c",
   "metadata": {
    "scrolled": true
   },
   "outputs": [
    {
     "name": "stdout",
     "output_type": "stream",
     "text": [
      "313/313 [==============================] - 3s 7ms/step - loss: 0.1072 - accuracy: 0.9700\n",
      "Loss - 0.11, Accuracy - 0.97\n"
     ]
    }
   ],
   "source": [
    "# Evaluate the model_3.\n",
    "loss,metrics = model_3.evaluate(test_images, to_categorical(test_labels))\n",
    "print(f'Loss - {np.round(loss,2)}, Accuracy - {np.round(metrics,2)}')"
   ]
  },
  {
   "cell_type": "markdown",
   "id": "deea466e",
   "metadata": {},
   "source": [
    "### Модель_4. \n",
    "#### Слои модели_2 при параметрах fit начальной модели"
   ]
  },
  {
   "cell_type": "code",
   "execution_count": 22,
   "id": "16c94eb1",
   "metadata": {},
   "outputs": [],
   "source": [
    "# Build the model_4.\n",
    "model_4 = Sequential([\n",
    "    Dense(512, activation='relu', input_shape=(784,)),\n",
    "    Dense(256, activation='tanh'), # Скрытый слой с активацией tanh\n",
    "    Dense(128, activation='tanh'), # Скрытый слой с активацией tanh\n",
    "    Dense(10, activation='softmax'),# выходной слой из 10 нейронов (сколько классов, столько нейронов) + активация softmax\n",
    "  ])"
   ]
  },
  {
   "cell_type": "code",
   "execution_count": 23,
   "id": "e7f90424",
   "metadata": {},
   "outputs": [],
   "source": [
    "# Compile the model.\n",
    "model_4.compile(\n",
    "  optimizer='adam',\n",
    "  loss='categorical_crossentropy',\n",
    "  metrics=['accuracy'],\n",
    ")"
   ]
  },
  {
   "cell_type": "code",
   "execution_count": 24,
   "id": "0314298e",
   "metadata": {},
   "outputs": [
    {
     "name": "stdout",
     "output_type": "stream",
     "text": [
      "Model: \"sequential_3\"\n",
      "_________________________________________________________________\n",
      " Layer (type)                Output Shape              Param #   \n",
      "=================================================================\n",
      " dense_10 (Dense)            (None, 512)               401920    \n",
      "                                                                 \n",
      " dense_11 (Dense)            (None, 256)               131328    \n",
      "                                                                 \n",
      " dense_12 (Dense)            (None, 128)               32896     \n",
      "                                                                 \n",
      " dense_13 (Dense)            (None, 10)                1290      \n",
      "                                                                 \n",
      "=================================================================\n",
      "Total params: 567434 (2.16 MB)\n",
      "Trainable params: 567434 (2.16 MB)\n",
      "Non-trainable params: 0 (0.00 Byte)\n",
      "_________________________________________________________________\n"
     ]
    }
   ],
   "source": [
    "model_4.summary()"
   ]
  },
  {
   "cell_type": "code",
   "execution_count": 25,
   "id": "4c5ce8a4",
   "metadata": {},
   "outputs": [
    {
     "name": "stdout",
     "output_type": "stream",
     "text": [
      "Epoch 1/5\n",
      "1875/1875 [==============================] - 60s 30ms/step - loss: 0.2699 - accuracy: 0.9163\n",
      "Epoch 2/5\n",
      "1875/1875 [==============================] - 66s 35ms/step - loss: 0.1406 - accuracy: 0.9569\n",
      "Epoch 3/5\n",
      "1875/1875 [==============================] - 67s 36ms/step - loss: 0.1125 - accuracy: 0.9657\n",
      "Epoch 4/5\n",
      "1875/1875 [==============================] - 59s 32ms/step - loss: 0.0933 - accuracy: 0.9710\n",
      "Epoch 5/5\n",
      "1875/1875 [==============================] - 58s 31ms/step - loss: 0.0808 - accuracy: 0.9742\n",
      "Обучение завершено\n"
     ]
    }
   ],
   "source": [
    "# Train the model.\n",
    "history_4 = model_4.fit(\n",
    "  train_images,\n",
    "  to_categorical(train_labels),\n",
    "  epochs=5,\n",
    "  batch_size=32,)\n",
    "print(\"Обучение завершено\")"
   ]
  },
  {
   "cell_type": "code",
   "execution_count": 26,
   "id": "d951a7d5",
   "metadata": {
    "scrolled": false
   },
   "outputs": [
    {
     "name": "stdout",
     "output_type": "stream",
     "text": [
      "313/313 [==============================] - 4s 12ms/step - loss: 0.0920 - accuracy: 0.9724\n",
      "Loss - 0.09, Accuracy - 0.97\n"
     ]
    }
   ],
   "source": [
    "# Evaluate the model_3.\n",
    "loss,metrics = model_4.evaluate(test_images, to_categorical(test_labels))\n",
    "print(f'Loss - {np.round(loss,2)}, Accuracy - {np.round(metrics,2)}')"
   ]
  },
  {
   "cell_type": "code",
   "execution_count": 27,
   "id": "beb989cd",
   "metadata": {},
   "outputs": [
    {
     "data": {
      "image/png": "[encoded data removed]",
      "text/plain": [
       "<Figure size 432x288 with 1 Axes>"
      ]
     },
     "metadata": {
      "needs_background": "light"
     },
     "output_type": "display_data"
    }
   ],
   "source": [
    "plt.plot(history.history['accuracy'], color = 'r')\n",
    "plt.plot(history_2.history['accuracy'], color = 'b')\n",
    "plt.plot(history_3.history['accuracy'], color = 'y')\n",
    "plt.plot(history_4.history['accuracy'], color = 'g')\n",
    "plt.xlabel('Обучение')\n",
    "plt.ylabel('Точность')\n",
    "plt.grid(True)\n",
    "plt.show()"
   ]
  },
  {
   "cell_type": "markdown",
   "id": "45e19ebb",
   "metadata": {},
   "source": [
    "### Модель_2 лучшая. Далее попробуем на ней разные оптимизаторы:"
   ]
  },
  {
   "cell_type": "code",
   "execution_count": 28,
   "id": "736cdbec",
   "metadata": {},
   "outputs": [],
   "source": [
    "# Build the model_5.\n",
    "model_5 = Sequential([\n",
    "    Dense(512, activation='relu', input_shape=(784,)),\n",
    "    Dense(256, activation='tanh'), # Скрытый слой с активацией tanh\n",
    "    Dense(128, activation='tanh'), # Скрытый слой с активацией tanh\n",
    "    Dense(10, activation='softmax'),# выходной слой из 10 нейронов (сколько классов, столько нейронов) + активация softmax\n",
    "  ])"
   ]
  },
  {
   "cell_type": "code",
   "execution_count": 29,
   "id": "ea602c83",
   "metadata": {},
   "outputs": [],
   "source": [
    "# Compile the model.\n",
    "model_5.compile(\n",
    "  optimizer='sgd',\n",
    "  loss='categorical_crossentropy',\n",
    "  metrics=['accuracy'],\n",
    ")"
   ]
  },
  {
   "cell_type": "code",
   "execution_count": 30,
   "id": "dac65220",
   "metadata": {},
   "outputs": [
    {
     "name": "stdout",
     "output_type": "stream",
     "text": [
      "Epoch 1/10\n",
      "938/938 [==============================] - 23s 22ms/step - loss: 0.6575 - accuracy: 0.8327\n",
      "Epoch 2/10\n",
      "938/938 [==============================] - 22s 24ms/step - loss: 0.3257 - accuracy: 0.9069\n",
      "Epoch 3/10\n",
      "938/938 [==============================] - 23s 24ms/step - loss: 0.2724 - accuracy: 0.9218\n",
      "Epoch 4/10\n",
      "938/938 [==============================] - 23s 24ms/step - loss: 0.2380 - accuracy: 0.9312\n",
      "Epoch 5/10\n",
      "938/938 [==============================] - 22s 24ms/step - loss: 0.2114 - accuracy: 0.9390\n",
      "Epoch 6/10\n",
      "938/938 [==============================] - 23s 24ms/step - loss: 0.1889 - accuracy: 0.9461\n",
      "Epoch 7/10\n",
      "938/938 [==============================] - 23s 24ms/step - loss: 0.1703 - accuracy: 0.9508\n",
      "Epoch 8/10\n",
      "938/938 [==============================] - 23s 24ms/step - loss: 0.1544 - accuracy: 0.9559\n",
      "Epoch 9/10\n",
      "938/938 [==============================] - 23s 24ms/step - loss: 0.1411 - accuracy: 0.9601\n",
      "Epoch 10/10\n",
      "938/938 [==============================] - 23s 24ms/step - loss: 0.1289 - accuracy: 0.9630\n",
      "Обучение завершено\n"
     ]
    }
   ],
   "source": [
    "# Train the model.\n",
    "history_5 = model_5.fit(\n",
    "  train_images,\n",
    "  to_categorical(train_labels),\n",
    "  epochs=10,\n",
    "  batch_size=64,)\n",
    "print(\"Обучение завершено\")"
   ]
  },
  {
   "cell_type": "code",
   "execution_count": 31,
   "id": "7dcb1a75",
   "metadata": {
    "scrolled": true
   },
   "outputs": [
    {
     "name": "stdout",
     "output_type": "stream",
     "text": [
      "313/313 [==============================] - 4s 12ms/step - loss: 0.1326 - accuracy: 0.9606\n",
      "Loss - 0.13, Accuracy - 0.96\n"
     ]
    }
   ],
   "source": [
    "# Evaluate the model_5.\n",
    "loss,metrics = model_5.evaluate(test_images, to_categorical(test_labels))\n",
    "print(f'Loss - {np.round(loss,2)}, Accuracy - {np.round(metrics,2)}')"
   ]
  },
  {
   "cell_type": "code",
   "execution_count": 32,
   "id": "952c7259",
   "metadata": {},
   "outputs": [],
   "source": [
    "# Build the model_6.\n",
    "model_6 = Sequential([\n",
    "    Dense(512, activation='relu', input_shape=(784,)),\n",
    "    Dense(256, activation='tanh'), # Скрытый слой с активацией tanh\n",
    "    Dense(128, activation='tanh'), # Скрытый слой с активацией tanh\n",
    "    Dense(10, activation='softmax'),# выходной слой из 10 нейронов (сколько классов, столько нейронов) + активация softmax\n",
    "  ])"
   ]
  },
  {
   "cell_type": "code",
   "execution_count": 33,
   "id": "aa3be99c",
   "metadata": {},
   "outputs": [],
   "source": [
    "# Compile the model.\n",
    "model_6.compile(\n",
    "  optimizer='RMSprop',\n",
    "  loss='categorical_crossentropy',\n",
    "  metrics=['accuracy'],\n",
    ")"
   ]
  },
  {
   "cell_type": "code",
   "execution_count": 34,
   "id": "0f7442a3",
   "metadata": {},
   "outputs": [
    {
     "name": "stdout",
     "output_type": "stream",
     "text": [
      "Epoch 1/10\n",
      "938/938 [==============================] - 33s 32ms/step - loss: 0.3482 - accuracy: 0.8914\n",
      "Epoch 2/10\n",
      "938/938 [==============================] - 30s 32ms/step - loss: 0.1424 - accuracy: 0.9558\n",
      "Epoch 3/10\n",
      "938/938 [==============================] - 30s 32ms/step - loss: 0.1053 - accuracy: 0.9671\n",
      "Epoch 4/10\n",
      "938/938 [==============================] - 30s 32ms/step - loss: 0.0836 - accuracy: 0.9735\n",
      "Epoch 5/10\n",
      "938/938 [==============================] - 31s 33ms/step - loss: 0.0689 - accuracy: 0.9782\n",
      "Epoch 6/10\n",
      "938/938 [==============================] - 30s 32ms/step - loss: 0.0592 - accuracy: 0.9815\n",
      "Epoch 7/10\n",
      "938/938 [==============================] - 31s 33ms/step - loss: 0.0510 - accuracy: 0.9833\n",
      "Epoch 8/10\n",
      "938/938 [==============================] - 31s 33ms/step - loss: 0.0451 - accuracy: 0.9854\n",
      "Epoch 9/10\n",
      "938/938 [==============================] - 31s 33ms/step - loss: 0.0394 - accuracy: 0.9873\n",
      "Epoch 10/10\n",
      "938/938 [==============================] - 31s 33ms/step - loss: 0.0340 - accuracy: 0.9894\n",
      "Обучение завершено\n"
     ]
    }
   ],
   "source": [
    "# Train the model.\n",
    "history_6 = model_6.fit(\n",
    "  train_images,\n",
    "  to_categorical(train_labels),\n",
    "  epochs=10,\n",
    "  batch_size=64,)\n",
    "print(\"Обучение завершено\")"
   ]
  },
  {
   "cell_type": "code",
   "execution_count": 35,
   "id": "08eaf6b9",
   "metadata": {
    "scrolled": true
   },
   "outputs": [
    {
     "name": "stdout",
     "output_type": "stream",
     "text": [
      "313/313 [==============================] - 4s 12ms/step - loss: 0.0729 - accuracy: 0.9798\n",
      "Loss - 0.07, Accuracy - 0.98\n"
     ]
    }
   ],
   "source": [
    "# Evaluate the model_6.\n",
    "loss,metrics = model_6.evaluate(test_images, to_categorical(test_labels))\n",
    "print(f'Loss - {np.round(loss,2)}, Accuracy - {np.round(metrics,2)}')"
   ]
  },
  {
   "cell_type": "markdown",
   "id": "1a1ba5bc",
   "metadata": {},
   "source": [
    "### Задание_2:\n",
    "Какого результата вы добились от нейросети?"
   ]
  },
  {
   "cell_type": "code",
   "execution_count": 36,
   "id": "1c7ab5b7",
   "metadata": {
    "scrolled": false
   },
   "outputs": [
    {
     "data": {
      "image/png": "[encoded data removed]",
      "text/plain": [
       "<Figure size 432x288 with 1 Axes>"
      ]
     },
     "metadata": {
      "needs_background": "light"
     },
     "output_type": "display_data"
    }
   ],
   "source": [
    "plt.plot(history_2.history['accuracy'], color = 'b')\n",
    "plt.plot(history_5.history['accuracy'], color = 'r')\n",
    "plt.plot(history_6.history['accuracy'], color = 'g')\n",
    "plt.ylabel('Точность')\n",
    "plt.grid(True)\n",
    "plt.show()"
   ]
  },
  {
   "cell_type": "markdown",
   "id": "fd798b69",
   "metadata": {},
   "source": [
    "### Задание_3:\n",
    "Что помогло вам улучшить её точность?"
   ]
  },
  {
   "cell_type": "markdown",
   "id": "748f1352",
   "metadata": {},
   "source": [
    "**Изменения в количестве и качестве слоёв, увеличение количества эпох, обучающих примеров, выбор оптимизатора**"
   ]
  },
  {
   "cell_type": "markdown",
   "id": "e163fe27",
   "metadata": {},
   "source": [
    "### \n",
    "### Задание_4:"
   ]
  },
  {
   "cell_type": "markdown",
   "id": "d157afcc",
   "metadata": {},
   "source": [
    "Поработайте с документацией Keras. Попробуйте найти полезные команды Keras, неразобранные на уроке."
   ]
  },
  {
   "cell_type": "markdown",
   "id": "42562102",
   "metadata": {},
   "source": [
    "4.1. Из метода evaluate получены параметры для оценки ошибки и точности тестовых данных.\n",
    "\n",
    "4.2. EarlyStopping позволяет закончить обучение если результаты больше не улучшаются.\n",
    "\n",
    "4.3. predict_classes позволяет срузу получить метки классов\n",
    "\n",
    "4.4. backend.tensorflow_backend._get_available_gpus позволяет увидеть доступные видеокарты"
   ]
  }
 ],
 "metadata": {
  "kernelspec": {
   "display_name": "Python 3 (ipykernel)",
   "language": "python",
   "name": "python3"
  },
  "language_info": {
   "codemirror_mode": {
    "name": "ipython",
    "version": 3
   },
   "file_extension": ".py",
   "mimetype": "text/x-python",
   "name": "python",
   "nbconvert_exporter": "python",
   "pygments_lexer": "ipython3",
   "version": "3.10.5"
  }
 },
 "nbformat": 4,
 "nbformat_minor": 5
}
