{
  "nbformat": 4,
  "nbformat_minor": 0,
  "metadata": {
    "colab": {
      "provenance": [],
      "authorship_tag": "ABX9TyMSYCUdM3EnO7TIjjiTRyVH",
      "include_colab_link": true
    },
    "kernelspec": {
      "name": "python3",
      "display_name": "Python 3"
    },
    "language_info": {
      "name": "python"
    }
  },
  "cells": [
    {
      "cell_type": "markdown",
      "metadata": {
        "id": "view-in-github",
        "colab_type": "text"
      },
      "source": [
        "<a href=\"https://colab.research.google.com/github/Kambey-san/NNWs_Basic/blob/HW_lesson_04/HW_lesson_04_V1.1_clb.ipynb\" target=\"_parent\"><img src=\"https://colab.research.google.com/assets/colab-badge.svg\" alt=\"Open In Colab\"/></a>"
      ]
    },
    {
      "cell_type": "markdown",
      "source": [
        "### Урок 4. Сверточные нейронные сети/ Домашнее задание"
      ],
      "metadata": {
        "id": "A7sxiJT0prg-"
      }
    },
    {
      "cell_type": "markdown",
      "source": [
        "1. Попробуйте улучшить точность распознавания образов cifar 10 сверточной нейронной сетью, рассмотренной на уроке. Приложите анализ с описанием того, что улучшает работу нейронной сети, а что ухудшает"
      ],
      "metadata": {
        "id": "7qyATpCJqF9S"
      }
    },
    {
      "cell_type": "code",
      "source": [
        "from __future__ import print_function\n",
        "import keras\n",
        "import numpy\n",
        "from keras.datasets import cifar10\n",
        "from keras.datasets import cifar10\n",
        "from keras.preprocessing.image import ImageDataGenerator\n",
        "from keras.models import Sequential\n",
        "from keras.layers import Dense, Dropout, Activation, Flatten\n",
        "#from keras.layers import Conv2D, MaxPooling2D\n",
        "from keras.layers.convolutional import Conv2D, MaxPooling2D\n",
        "from keras.utils import np_utils\n",
        "from keras.optimizers import SGD\n",
        "import os"
      ],
      "metadata": {
        "id": "6CdgnPjZqDOo"
      },
      "execution_count": 2,
      "outputs": []
    },
    {
      "cell_type": "code",
      "source": [
        "# установка параметров нейросети\n",
        "batch_size = 32\n",
        "num_classes = 10\n",
        "epochs = 1\n",
        "data_augmentation = True\n",
        "num_predictions = 20\n",
        "save_dir = os.path.join(os.getcwd(), 'saved_models')\n",
        "model_name = 'keras_cifar10_trained_model.h5'"
      ],
      "metadata": {
        "id": "VK25_QPnqUDF"
      },
      "execution_count": 3,
      "outputs": []
    },
    {
      "cell_type": "code",
      "source": [
        "# разделение тренировочной и тестовой выборки\n",
        "(x_train, y_train), (x_test, y_test) = cifar10.load_data()\n",
        "print('x_train shape:', x_train.shape)\n",
        "print(x_train.shape[0], 'тренировочные примеры')\n",
        "print(x_test.shape[0], 'тестовые примеры')"
      ],
      "metadata": {
        "colab": {
          "base_uri": "https://localhost:8080/"
        },
        "id": "EL3DaCYXqX0s",
        "outputId": "5d2a2e34-6a94-4506-9558-ccec755bb422"
      },
      "execution_count": 4,
      "outputs": [
        {
          "output_type": "stream",
          "name": "stdout",
          "text": [
            "Downloading data from https://www.cs.toronto.edu/~kriz/cifar-10-python.tar.gz\n",
            "170498071/170498071 [==============================] - 4s 0us/step\n",
            "x_train shape: (50000, 32, 32, 3)\n",
            "50000 тренировочные примеры\n",
            "10000 тестовые примеры\n"
          ]
        }
      ]
    },
    {
      "cell_type": "code",
      "source": [
        "# преобразование матрицы чисел 0-9 в бинарную матрицу чисел 0-1\n",
        "y_train = keras.utils.to_categorical(y_train, num_classes)\n",
        "y_test = keras.utils.to_categorical(y_test, num_classes)"
      ],
      "metadata": {
        "id": "EUsQSxxvqcoQ"
      },
      "execution_count": 5,
      "outputs": []
    },
    {
      "cell_type": "code",
      "source": [
        "# конфигурирование слоев нейросети\n",
        "model = Sequential()"
      ],
      "metadata": {
        "id": "hsXi-IzesNxy"
      },
      "execution_count": 6,
      "outputs": []
    },
    {
      "cell_type": "code",
      "source": [
        "# слои нейросети отвественные за свертку и max-pooling\n",
        "model.add(Conv2D(32, (3, 3), padding='same',\n",
        "                 input_shape=x_train.shape[1:]))\n",
        "model.add(Activation('relu'))\n",
        "model.add(Conv2D(32, (3, 3)))\n",
        "model.add(Activation('relu'))\n",
        "model.add(MaxPooling2D(pool_size=(2, 2)))\n",
        "model.add(Dropout(0.25))\n",
        "\n",
        "model.add(Conv2D(64, (3, 3), padding='same'))\n",
        "model.add(Activation('relu'))\n",
        "model.add(Conv2D(64, (3, 3)))\n",
        "model.add(Activation('relu'))\n",
        "model.add(MaxPooling2D(pool_size=(2, 2)))\n",
        "model.add(Dropout(0.25))"
      ],
      "metadata": {
        "id": "SGn6vS_zsdwN"
      },
      "execution_count": 7,
      "outputs": []
    },
    {
      "cell_type": "code",
      "source": [
        "# полносвязные слои нейронной сети\n",
        "model.add(Flatten())\n",
        "model.add(Dense(512))\n",
        "model.add(Activation('relu'))\n",
        "model.add(Dropout(0.5))\n",
        "model.add(Dense(num_classes))\n",
        "model.add(Activation('softmax'))"
      ],
      "metadata": {
        "id": "XxD2R6pBsfdO"
      },
      "execution_count": 8,
      "outputs": []
    },
    {
      "cell_type": "code",
      "source": [
        "# инициализация RMSprop optimizer\n",
        "opt = keras.optimizers.RMSprop(learning_rate=0.0001, decay=1e-6)"
      ],
      "metadata": {
        "id": "nWlm45ktskHK"
      },
      "execution_count": 9,
      "outputs": []
    },
    {
      "cell_type": "code",
      "source": [
        "# компиляция модели\n",
        "model.compile(loss='categorical_crossentropy',\n",
        "              optimizer=opt,\n",
        "              metrics=['accuracy'])"
      ],
      "metadata": {
        "id": "he1XB-Y9tWrw"
      },
      "execution_count": 10,
      "outputs": []
    },
    {
      "cell_type": "code",
      "source": [
        "# нормализация данных\n",
        "x_train = x_train.astype('float32')\n",
        "x_test = x_test.astype('float32')\n",
        "x_train /= 255\n",
        "x_test /= 255"
      ],
      "metadata": {
        "id": "q7T2ultVtp2M"
      },
      "execution_count": 11,
      "outputs": []
    },
    {
      "cell_type": "code",
      "source": [
        "# функция аугментации\n",
        "if not data_augmentation:\n",
        "    print('Не используется data augmentation')\n",
        "    model.fit(x_train, y_train,\n",
        "              batch_size=batch_size,\n",
        "              epochs=epochs,\n",
        "              validation_data=(x_test, y_test),\n",
        "              shuffle=True)\n",
        "else:\n",
        "    print('Использование data augmentation в реальном времени')\n",
        "    # Препроцессинг и data augmentation в реальном времени:\n",
        "    datagen = ImageDataGenerator(\n",
        "        featurewise_center=False,\n",
        "        samplewise_center=False,\n",
        "        featurewise_std_normalization=False,\n",
        "        samplewise_std_normalization=False,\n",
        "        zca_whitening=False,\n",
        "        zca_epsilon=1e-06,\n",
        "        rotation_range=0,\n",
        "        width_shift_range=0.1,\n",
        "        height_shift_range=0.1,\n",
        "        shear_range=0.,\n",
        "        zoom_range=0.,\n",
        "        channel_shift_range=0.,\n",
        "        fill_mode='nearest',\n",
        "        cval=0.,\n",
        "        horizontal_flip=True,\n",
        "        vertical_flip=False,\n",
        "        rescale=None,\n",
        "        preprocessing_function=None,\n",
        "        data_format=None,\n",
        "        validation_split=0.0)"
      ],
      "metadata": {
        "colab": {
          "base_uri": "https://localhost:8080/"
        },
        "id": "xVqBLVEMtwpN",
        "outputId": "db1d9b44-c5f7-40d6-9eaa-9adee7529051"
      },
      "execution_count": 12,
      "outputs": [
        {
          "output_type": "stream",
          "name": "stdout",
          "text": [
            "Использование data augmentation в реальном времени\n"
          ]
        }
      ]
    },
    {
      "cell_type": "code",
      "source": [
        "#  # запуск data augmentation через fit\n",
        "datagen.fit(x_train)"
      ],
      "metadata": {
        "id": "krwfakAtuEu8"
      },
      "execution_count": 13,
      "outputs": []
    },
    {
      "cell_type": "code",
      "source": [
        "# сохранение модели и весов\n",
        "if not os.path.isdir(save_dir):\n",
        "    os.makedirs(save_dir)\n",
        "model_path = os.path.join(save_dir, model_name)\n",
        "model.save(model_path)\n",
        "print('сохранить обученную модель как %s ' % model_path)"
      ],
      "metadata": {
        "colab": {
          "base_uri": "https://localhost:8080/"
        },
        "id": "cEVs3QIRuf6d",
        "outputId": "2adf9217-9260-4a10-b47d-8b02aa668e46"
      },
      "execution_count": 14,
      "outputs": [
        {
          "output_type": "stream",
          "name": "stdout",
          "text": [
            "сохранить обученную модель как /content/saved_models/keras_cifar10_trained_model.h5 \n"
          ]
        }
      ]
    },
    {
      "cell_type": "code",
      "source": [
        "# проверка работы обученной модели\n",
        "scores = model.evaluate(x_test, y_test, verbose=1)\n",
        "print(\"Test accuracy: \" + str(round((scores[1]*100),2)) + \" %\")"
      ],
      "metadata": {
        "colab": {
          "base_uri": "https://localhost:8080/"
        },
        "id": "-SnfDc8Cukgm",
        "outputId": "b53c1390-c7ef-4410-c82d-2a1cfdb5d538"
      },
      "execution_count": 65,
      "outputs": [
        {
          "output_type": "stream",
          "name": "stdout",
          "text": [
            "313/313 [==============================] - 13s 43ms/step - loss: 2.3034 - accuracy: 0.0805\n",
            "Test accuracy: 8.05 %\n"
          ]
        }
      ]
    },
    {
      "cell_type": "markdown",
      "source": [
        "### Upgrade model to model2:\n",
        "измененим кернел с **3 х 3** на **5 x 5**"
      ],
      "metadata": {
        "id": "qv64j3V8ZW2f"
      }
    },
    {
      "cell_type": "code",
      "source": [
        "# конфигурирование слоев нейросети\n",
        "model2 = Sequential()"
      ],
      "metadata": {
        "id": "oUtr3Z7JYOKk"
      },
      "execution_count": 16,
      "outputs": []
    },
    {
      "cell_type": "code",
      "source": [
        "# слои нейросети отвественные за свертку и max-pooling\n",
        "model2.add(Conv2D(32, (5, 5), padding='same',\n",
        "                 input_shape=x_train.shape[1:]))\n",
        "model2.add(Activation('relu'))\n",
        "model2.add(Conv2D(32, (5, 5)))\n",
        "model2.add(Activation('relu'))\n",
        "model2.add(MaxPooling2D(pool_size=(2, 2)))\n",
        "model2.add(Dropout(0.25))\n",
        "\n",
        "model2.add(Conv2D(64, (5, 5), padding='same'))\n",
        "model2.add(Activation('relu'))\n",
        "model2.add(Conv2D(64, (5, 5)))\n",
        "model2.add(Activation('relu'))\n",
        "model2.add(MaxPooling2D(pool_size=(2, 2)))\n",
        "model2.add(Dropout(0.25))"
      ],
      "metadata": {
        "id": "fWUwb3W2YOV1"
      },
      "execution_count": 17,
      "outputs": []
    },
    {
      "cell_type": "code",
      "source": [
        "# полносвязные слои нейронной сети\n",
        "model2.add(Flatten())\n",
        "model2.add(Dense(512))\n",
        "model2.add(Activation('relu'))\n",
        "model2.add(Dropout(0.5))\n",
        "model2.add(Dense(num_classes))\n",
        "model2.add(Activation('softmax'))"
      ],
      "metadata": {
        "id": "KQGXgL1mYOaM"
      },
      "execution_count": 18,
      "outputs": []
    },
    {
      "cell_type": "code",
      "source": [
        "# компиляция модели\n",
        "model2.compile(loss='categorical_crossentropy',\n",
        "              optimizer=opt,\n",
        "              metrics=['accuracy'])"
      ],
      "metadata": {
        "id": "H_oAc0PSYOkw"
      },
      "execution_count": 19,
      "outputs": []
    },
    {
      "cell_type": "code",
      "source": [
        "# функция аугментации\n",
        "if not data_augmentation:\n",
        "    print('Не используется data augmentation')\n",
        "    model2.fit(x_train, y_train,\n",
        "              batch_size=batch_size,\n",
        "              epochs=epochs,\n",
        "              validation_data=(x_test, y_test),\n",
        "              shuffle=True)\n",
        "else:\n",
        "    print('Использование data augmentation в реальном времени')\n",
        "    # Препроцессинг и data augmentation в реальном времени:\n",
        "    datagen = ImageDataGenerator(\n",
        "        featurewise_center=False,\n",
        "        samplewise_center=False,\n",
        "        featurewise_std_normalization=False,\n",
        "        samplewise_std_normalization=False,\n",
        "        zca_whitening=False,\n",
        "        zca_epsilon=1e-06,\n",
        "        rotation_range=0,\n",
        "        width_shift_range=0.1,\n",
        "        height_shift_range=0.1,\n",
        "        shear_range=0.,\n",
        "        zoom_range=0.,\n",
        "        channel_shift_range=0.,\n",
        "        fill_mode='nearest',\n",
        "        cval=0.,\n",
        "        horizontal_flip=True,\n",
        "        vertical_flip=False,\n",
        "        rescale=None,\n",
        "        preprocessing_function=None,\n",
        "        data_format=None,\n",
        "        validation_split=0.0)"
      ],
      "metadata": {
        "colab": {
          "base_uri": "https://localhost:8080/"
        },
        "id": "WsWr9079YOrE",
        "outputId": "8b7c961b-a926-446e-eef9-55a5dba0f211"
      },
      "execution_count": 20,
      "outputs": [
        {
          "output_type": "stream",
          "name": "stdout",
          "text": [
            "Использование data augmentation в реальном времени\n"
          ]
        }
      ]
    },
    {
      "cell_type": "code",
      "source": [
        "# запуск data augmentation через fit\n",
        "datagen.fit(x_train)"
      ],
      "metadata": {
        "id": "X_03KWbdYO0N"
      },
      "execution_count": 21,
      "outputs": []
    },
    {
      "cell_type": "code",
      "source": [
        "# сохранение модели и весов\n",
        "if not os.path.isdir(save_dir):\n",
        "    os.makedirs(save_dir)\n",
        "model2_path = os.path.join(save_dir, model_name)\n",
        "model2.save(model_path)\n",
        "print('сохранить обученную модель как %s ' % model2_path)"
      ],
      "metadata": {
        "colab": {
          "base_uri": "https://localhost:8080/"
        },
        "id": "UA7mOU-Ub_W5",
        "outputId": "29e5dc7f-d541-44f3-ed2e-a992f0270375"
      },
      "execution_count": 22,
      "outputs": [
        {
          "output_type": "stream",
          "name": "stdout",
          "text": [
            "сохранить обученную модель как /content/saved_models/keras_cifar10_trained_model.h5 \n"
          ]
        }
      ]
    },
    {
      "cell_type": "code",
      "source": [
        "# проверка работы обученной модели\n",
        "scores2 = model2.evaluate(x_test, y_test, verbose=1)\n",
        "print(\"Test accuracy: \" + str(round((scores2[1]*100),2)) + \" %\")"
      ],
      "metadata": {
        "colab": {
          "base_uri": "https://localhost:8080/"
        },
        "id": "wwvmGNKWb_kl",
        "outputId": "bb972820-6e5b-40d4-fe3f-dce4a147a1f5"
      },
      "execution_count": 66,
      "outputs": [
        {
          "output_type": "stream",
          "name": "stdout",
          "text": [
            "313/313 [==============================] - 24s 76ms/step - loss: 2.3050 - accuracy: 0.0990\n",
            "Test accuracy: 9.9 %\n"
          ]
        }
      ]
    },
    {
      "cell_type": "markdown",
      "source": [
        "**Вывод:** увеличение кернел дало прирост accuracy"
      ],
      "metadata": {
        "id": "jjKNxJGocyJP"
      }
    },
    {
      "cell_type": "markdown",
      "source": [
        "### Upgrade model to model3:"
      ],
      "metadata": {
        "id": "-WyRbGCaddeP"
      }
    },
    {
      "cell_type": "markdown",
      "source": [
        "Добавим свёрточный слой, изменим парамтеры полносвязных слоёв"
      ],
      "metadata": {
        "id": "HA8DbnhGd3J0"
      }
    },
    {
      "cell_type": "code",
      "source": [
        "# конфигурирование слоев нейросети\n",
        "model3 = Sequential()"
      ],
      "metadata": {
        "id": "L5xexb_Hb_qp"
      },
      "execution_count": 24,
      "outputs": []
    },
    {
      "cell_type": "code",
      "source": [
        "model3.add(Conv2D(32, (3, 3), padding='same',\n",
        "                 input_shape=x_train.shape[1:]))\n",
        "model3.add(Activation('relu'))\n",
        "model3.add(Conv2D(32, (3, 3)))\n",
        "model3.add(Activation('relu'))\n",
        "model3.add(MaxPooling2D(pool_size=(2, 2)))\n",
        "model3.add(Dropout(0.25))\n",
        "\n",
        "model3.add(Conv2D(64, (3, 3), padding='same'))\n",
        "model3.add(Activation('relu'))\n",
        "model3.add(Conv2D(64, (3, 3)))\n",
        "model3.add(Activation('relu'))\n",
        "model3.add(Conv2D(64, (3, 3)))\n",
        "model3.add(Activation('relu'))\n",
        "model3.add(MaxPooling2D(pool_size=(2, 2)))\n",
        "model3.add(Dropout(0.25))"
      ],
      "metadata": {
        "id": "ABtiTyvmb_wI"
      },
      "execution_count": 25,
      "outputs": []
    },
    {
      "cell_type": "code",
      "source": [
        "# полносвязные слои нейронной сети\n",
        "model3.add(Flatten())\n",
        "model3.add(Dense(1024))  # was 512\n",
        "model3.add(Activation('relu'))\n",
        "model3.add(Dropout(0.5))\n",
        "model3.add(Dense(num_classes))\n",
        "model3.add(Activation('softmax'))"
      ],
      "metadata": {
        "id": "P062JbjBb_1F"
      },
      "execution_count": 26,
      "outputs": []
    },
    {
      "cell_type": "code",
      "source": [
        "# компиляция модели\n",
        "model3.compile(loss='categorical_crossentropy',\n",
        "              optimizer=opt,\n",
        "              metrics=['accuracy'])"
      ],
      "metadata": {
        "id": "gLohyna5b_7f"
      },
      "execution_count": 27,
      "outputs": []
    },
    {
      "cell_type": "code",
      "source": [
        "# функция аугментации\n",
        "if not data_augmentation:\n",
        "    print('Не используется data augmentation')\n",
        "    model3.fit(x_train, y_train,\n",
        "              batch_size=batch_size,\n",
        "              epochs=epochs,\n",
        "              validation_data=(x_test, y_test),\n",
        "              shuffle=True)\n",
        "else:\n",
        "    print('Использование data augmentation в реальном времени')\n",
        "    # Препроцессинг и data augmentation в реальном времени:\n",
        "    datagen = ImageDataGenerator(\n",
        "        featurewise_center=False,\n",
        "        samplewise_center=False,\n",
        "        featurewise_std_normalization=False,\n",
        "        samplewise_std_normalization=False,\n",
        "        zca_whitening=False,\n",
        "        zca_epsilon=1e-06,\n",
        "        rotation_range=0,\n",
        "        width_shift_range=0.1,\n",
        "        height_shift_range=0.1,\n",
        "        shear_range=0.,\n",
        "        zoom_range=0.,\n",
        "        channel_shift_range=0.,\n",
        "        fill_mode='nearest',\n",
        "        cval=0.,\n",
        "        horizontal_flip=True,\n",
        "        vertical_flip=False,\n",
        "        rescale=None,\n",
        "        preprocessing_function=None,\n",
        "        data_format=None,\n",
        "        validation_split=0.0)"
      ],
      "metadata": {
        "colab": {
          "base_uri": "https://localhost:8080/"
        },
        "id": "O-XTltBGcAA3",
        "outputId": "1a6f2d09-afef-4c9c-c380-2613b819df4d"
      },
      "execution_count": 28,
      "outputs": [
        {
          "output_type": "stream",
          "name": "stdout",
          "text": [
            "Использование data augmentation в реальном времени\n"
          ]
        }
      ]
    },
    {
      "cell_type": "code",
      "source": [
        "# запуск data augmentation через fit\n",
        "datagen.fit(x_train)"
      ],
      "metadata": {
        "id": "UPnNSq8jfyLN"
      },
      "execution_count": 29,
      "outputs": []
    },
    {
      "cell_type": "code",
      "source": [
        "# сохранение модели и весов\n",
        "if not os.path.isdir(save_dir):\n",
        "    os.makedirs(save_dir)\n",
        "model3_path = os.path.join(save_dir, model_name)\n",
        "model3.save(model_path)\n",
        "print('сохранить обученную модель как %s ' % model3_path)"
      ],
      "metadata": {
        "colab": {
          "base_uri": "https://localhost:8080/"
        },
        "id": "XQPCkhNnfyYG",
        "outputId": "9a66fca6-9308-4898-a208-36ad1060f19a"
      },
      "execution_count": 30,
      "outputs": [
        {
          "output_type": "stream",
          "name": "stdout",
          "text": [
            "сохранить обученную модель как /content/saved_models/keras_cifar10_trained_model.h5 \n"
          ]
        }
      ]
    },
    {
      "cell_type": "code",
      "source": [
        "# проверка работы обученной модели\n",
        "scores3 = model3.evaluate(x_test, y_test, verbose=1)\n",
        "print(\"Test accuracy: \" + str(round((scores3[1]*100),2)) + \" %\")"
      ],
      "metadata": {
        "colab": {
          "base_uri": "https://localhost:8080/"
        },
        "id": "EcspmISlfylX",
        "outputId": "c92920f1-6f27-4430-9341-3c60fcc58cd2"
      },
      "execution_count": 67,
      "outputs": [
        {
          "output_type": "stream",
          "name": "stdout",
          "text": [
            "313/313 [==============================] - 15s 49ms/step - loss: 2.3064 - accuracy: 0.0960\n",
            "Test accuracy: 9.6 %\n"
          ]
        }
      ]
    },
    {
      "cell_type": "markdown",
      "source": [
        "**Вывод:** есть прирост accuracy по сравнению с исходной моделью, но хуже, чем у model2"
      ],
      "metadata": {
        "id": "Feh3FE-3gpe5"
      }
    },
    {
      "cell_type": "markdown",
      "source": [
        "### Upgrade model to model4:"
      ],
      "metadata": {
        "id": "kLkrCnMriLpK"
      }
    },
    {
      "cell_type": "markdown",
      "source": [
        "Изменим параметры аугментации"
      ],
      "metadata": {
        "id": "7wlcsKybiawQ"
      }
    },
    {
      "cell_type": "code",
      "source": [
        "# конфигурирование слоев нейросети\n",
        "model4 = Sequential()"
      ],
      "metadata": {
        "id": "2vcaWzNBfy0d"
      },
      "execution_count": 32,
      "outputs": []
    },
    {
      "cell_type": "code",
      "source": [
        "# слои нейросети отвественные за свертку и max-pooling\n",
        "model4.add(Conv2D(32, (3, 3), padding='same',\n",
        "                 input_shape=x_train.shape[1:]))\n",
        "model4.add(Activation('relu'))\n",
        "model4.add(Conv2D(32, (3, 3)))\n",
        "model4.add(Activation('relu'))\n",
        "model4.add(MaxPooling2D(pool_size=(2, 2)))\n",
        "model4.add(Dropout(0.25))\n",
        "\n",
        "model4.add(Conv2D(64, (3, 3), padding='same'))\n",
        "model4.add(Activation('relu'))\n",
        "model4.add(Conv2D(64, (3, 3)))\n",
        "model4.add(Activation('relu'))\n",
        "model4.add(MaxPooling2D(pool_size=(2, 2)))\n",
        "model4.add(Dropout(0.25))"
      ],
      "metadata": {
        "id": "3LqSjrJmhQSV"
      },
      "execution_count": 33,
      "outputs": []
    },
    {
      "cell_type": "code",
      "source": [
        "# полносвязные слои нейронной сети\n",
        "model4.add(Flatten())\n",
        "model4.add(Dense(512))\n",
        "model4.add(Activation('relu'))\n",
        "model4.add(Dropout(0.5))\n",
        "model4.add(Dense(num_classes))\n",
        "model4.add(Activation('softmax'))"
      ],
      "metadata": {
        "id": "IINkGOyYhQeW"
      },
      "execution_count": 34,
      "outputs": []
    },
    {
      "cell_type": "code",
      "source": [
        "# компиляция модели\n",
        "model4.compile(loss='categorical_crossentropy',\n",
        "              optimizer=opt,\n",
        "              metrics=['accuracy'])"
      ],
      "metadata": {
        "id": "Q4HQzec3hQqW"
      },
      "execution_count": 35,
      "outputs": []
    },
    {
      "cell_type": "code",
      "source": [
        "if not data_augmentation:\n",
        "    print('Не используется data augmentation')\n",
        "    model4.fit(x_train, y_train,\n",
        "              batch_size=batch_size,\n",
        "              epochs=epochs,\n",
        "              validation_data=(x_test, y_test),\n",
        "              shuffle=True)\n",
        "else:\n",
        "    print('Использование data augmentation в реальном времени')\n",
        "    # Препроцессинг и data augmentation в реальном времени:\n",
        "    datagen = ImageDataGenerator(\n",
        "        featurewise_center= True,\n",
        "        samplewise_center=True,\n",
        "        featurewise_std_normalization=True,\n",
        "        samplewise_std_normalization=True,\n",
        "        zca_whitening=False,\n",
        "        zca_epsilon=1e-06,\n",
        "        rotation_range=0,\n",
        "        width_shift_range=0.2,\n",
        "        height_shift_range=0.2,\n",
        "        shear_range=0.,\n",
        "        zoom_range=0.,\n",
        "        channel_shift_range=0.,\n",
        "        fill_mode='nearest',\n",
        "        cval=0.,\n",
        "        horizontal_flip=True,\n",
        "        vertical_flip=False,\n",
        "        rescale=None,\n",
        "        preprocessing_function=None,\n",
        "        data_format=None,\n",
        "        validation_split=0.0)"
      ],
      "metadata": {
        "colab": {
          "base_uri": "https://localhost:8080/"
        },
        "id": "8EkyYupHhQ6L",
        "outputId": "78f7f5ff-f80b-437b-af00-635fc0227005"
      },
      "execution_count": 36,
      "outputs": [
        {
          "output_type": "stream",
          "name": "stdout",
          "text": [
            "Использование data augmentation в реальном времени\n"
          ]
        }
      ]
    },
    {
      "cell_type": "code",
      "source": [
        "# запуск data augmentation через fit\n",
        "datagen.fit(x_train)"
      ],
      "metadata": {
        "id": "LB3HUjMIhRHt"
      },
      "execution_count": 37,
      "outputs": []
    },
    {
      "cell_type": "code",
      "source": [
        "# сохранение модели и весов\n",
        "if not os.path.isdir(save_dir):\n",
        "    os.makedirs(save_dir)\n",
        "model4_path = os.path.join(save_dir, model_name)\n",
        "model4.save(model_path)\n",
        "print('сохранить обученную модель как %s ' % model4_path)"
      ],
      "metadata": {
        "colab": {
          "base_uri": "https://localhost:8080/"
        },
        "id": "Rrj-fE9Hjrjf",
        "outputId": "624ddec4-4ef0-4e19-c400-63152cd4b310"
      },
      "execution_count": 38,
      "outputs": [
        {
          "output_type": "stream",
          "name": "stdout",
          "text": [
            "сохранить обученную модель как /content/saved_models/keras_cifar10_trained_model.h5 \n"
          ]
        }
      ]
    },
    {
      "cell_type": "code",
      "source": [
        "# проверка работы обученной модели\n",
        "scores4 = model4.evaluate(x_test, y_test, verbose=1)\n",
        "print(\"Test accuracy: \" + str(round((scores4[1]*100),2)) + \" %\")"
      ],
      "metadata": {
        "colab": {
          "base_uri": "https://localhost:8080/"
        },
        "id": "WmLQpH23jry7",
        "outputId": "c9394a99-bfab-4345-c295-95d29f0ca6ed"
      },
      "execution_count": 68,
      "outputs": [
        {
          "output_type": "stream",
          "name": "stdout",
          "text": [
            "313/313 [==============================] - 13s 43ms/step - loss: 2.3055 - accuracy: 0.0949\n",
            "Test accuracy: 9.49 %\n"
          ]
        }
      ]
    },
    {
      "cell_type": "markdown",
      "source": [
        "**Вывод:** есть прирост accuracy по сравнению с начальной моделью, но меньше. чем в 2-х предыдущих апгрейдах"
      ],
      "metadata": {
        "id": "PsYsPt84k-V4"
      }
    },
    {
      "cell_type": "markdown",
      "source": [
        "### Upgrade model to model5:"
      ],
      "metadata": {
        "id": "dGGlNfFMsLKh"
      }
    },
    {
      "cell_type": "markdown",
      "source": [
        "увеличим скорость обучения - learning_rate=0.001"
      ],
      "metadata": {
        "id": "4J6eQjDFsT8w"
      }
    },
    {
      "cell_type": "markdown",
      "source": [],
      "metadata": {
        "id": "siEBl_gYsPxF"
      }
    },
    {
      "cell_type": "code",
      "source": [
        "# конфигурирование слоев нейросети\n",
        "model5 = Sequential()"
      ],
      "metadata": {
        "id": "-MOqSUBRsAEy"
      },
      "execution_count": 93,
      "outputs": []
    },
    {
      "cell_type": "code",
      "source": [
        "# слои нейросети отвественные за свертку и max-pooling\n",
        "model5.add(Conv2D(32, (3, 3), padding='same',\n",
        "                 input_shape=x_train.shape[1:]))\n",
        "model5.add(Activation('relu'))\n",
        "model5.add(Conv2D(32, (3, 3)))\n",
        "model5.add(Activation('relu'))\n",
        "model5.add(MaxPooling2D(pool_size=(2, 2)))\n",
        "model5.add(Dropout(0.25))\n",
        "\n",
        "model5.add(Conv2D(64, (3, 3), padding='same'))\n",
        "model5.add(Activation('relu'))\n",
        "model5.add(Conv2D(64, (3, 3)))\n",
        "model5.add(Activation('relu'))\n",
        "model5.add(MaxPooling2D(pool_size=(2, 2)))\n",
        "model5.add(Dropout(0.25))"
      ],
      "metadata": {
        "id": "N3duDyuNsAVm"
      },
      "execution_count": 94,
      "outputs": []
    },
    {
      "cell_type": "code",
      "source": [
        "# полносвязные слои нейронной сети\n",
        "model5.add(Flatten())\n",
        "model5.add(Dense(512))\n",
        "model5.add(Activation('relu'))\n",
        "model5.add(Dropout(0.5))\n",
        "model5.add(Dense(num_classes))\n",
        "model5.add(Activation('softmax'))"
      ],
      "metadata": {
        "id": "EasucrtbsAhQ"
      },
      "execution_count": 95,
      "outputs": []
    },
    {
      "cell_type": "code",
      "source": [
        "# инициализация RMSprop optimizer\n",
        "opt5 = keras.optimizers.RMSprop(learning_rate=0.001, decay=1e-6)"
      ],
      "metadata": {
        "id": "o1JsRYurtTLj"
      },
      "execution_count": 96,
      "outputs": []
    },
    {
      "cell_type": "code",
      "source": [
        "# компиляция модели\n",
        "model5.compile(loss='categorical_crossentropy',\n",
        "              optimizer=opt5,\n",
        "              metrics=['accuracy'])"
      ],
      "metadata": {
        "id": "MlfDpJB3tknY"
      },
      "execution_count": 97,
      "outputs": []
    },
    {
      "cell_type": "code",
      "source": [
        "# функция аугментации\n",
        "if not data_augmentation:\n",
        "    print('Не используется data augmentation')\n",
        "    model5.fit(x_train, y_train,\n",
        "              batch_size=batch_size,\n",
        "              epochs=epochs,\n",
        "              validation_data=(x_test, y_test),\n",
        "              shuffle=True)\n",
        "else:\n",
        "    print('Использование data augmentation в реальном времени')\n",
        "    # Препроцессинг и data augmentation в реальном времени:\n",
        "    datagen = ImageDataGenerator(\n",
        "        featurewise_center=False,\n",
        "        samplewise_center=False,\n",
        "        featurewise_std_normalization=False,\n",
        "        samplewise_std_normalization=False,\n",
        "        zca_whitening=False,\n",
        "        zca_epsilon=1e-06,\n",
        "        rotation_range=0,\n",
        "        width_shift_range=0.1,\n",
        "        height_shift_range=0.1,\n",
        "        shear_range=0.,\n",
        "        zoom_range=0.,\n",
        "        channel_shift_range=0.,\n",
        "        fill_mode='nearest',\n",
        "        cval=0.,\n",
        "        horizontal_flip=True,\n",
        "        vertical_flip=False,\n",
        "        rescale=None,\n",
        "        preprocessing_function=None,\n",
        "        data_format=None,\n",
        "        validation_split=0.0)"
      ],
      "metadata": {
        "colab": {
          "base_uri": "https://localhost:8080/"
        },
        "id": "cZznsYiLsA4b",
        "outputId": "cbebb34a-d31d-42f9-baef-b32136566299"
      },
      "execution_count": 98,
      "outputs": [
        {
          "output_type": "stream",
          "name": "stdout",
          "text": [
            "Использование data augmentation в реальном времени\n"
          ]
        }
      ]
    },
    {
      "cell_type": "code",
      "source": [
        "# запуск data augmentation через fit\n",
        "datagen.fit(x_train)"
      ],
      "metadata": {
        "id": "vjqEwX-tsA9_"
      },
      "execution_count": 99,
      "outputs": []
    },
    {
      "cell_type": "code",
      "source": [
        "# сохранение модели и весов\n",
        "if not os.path.isdir(save_dir):\n",
        "    os.makedirs(save_dir)\n",
        "model5_path = os.path.join(save_dir, model_name)\n",
        "model5.save(model_path)\n",
        "print('сохранить обученную модель как %s ' % model5_path)"
      ],
      "metadata": {
        "colab": {
          "base_uri": "https://localhost:8080/"
        },
        "id": "CoLveWBNsBDv",
        "outputId": "a907cec9-c3bc-4c9d-e1b7-1d2ae1bc3c51"
      },
      "execution_count": 100,
      "outputs": [
        {
          "output_type": "stream",
          "name": "stdout",
          "text": [
            "сохранить обученную модель как /content/saved_models/keras_cifar10_trained_model.h5 \n"
          ]
        }
      ]
    },
    {
      "cell_type": "code",
      "source": [
        "# проверка работы обученной модели\n",
        "scores5 = model5.evaluate(x_test, y_test, verbose=1)\n",
        "print(\"Test accuracy: \" + str(round((scores5[1]*100),2)) + \" %\")"
      ],
      "metadata": {
        "colab": {
          "base_uri": "https://localhost:8080/"
        },
        "id": "OKktCisdsBJZ",
        "outputId": "16a0b4c5-ae4f-4d7e-de99-1c76e49f37ae"
      },
      "execution_count": 101,
      "outputs": [
        {
          "output_type": "stream",
          "name": "stdout",
          "text": [
            "313/313 [==============================] - 13s 42ms/step - loss: 2.3014 - accuracy: 0.1039\n",
            "Test accuracy: 10.39 %\n"
          ]
        }
      ]
    },
    {
      "cell_type": "markdown",
      "source": [
        "**Вывод:** показатель accuracy вырос по сравнению с предыдущими моделями."
      ],
      "metadata": {
        "id": "HtWx2Capw57n"
      }
    },
    {
      "cell_type": "markdown",
      "source": [
        "##\n",
        "\n",
        "Попробую прересобрать модель заново по методу Микеланжело, но с увеличением количства эпох (более 20, но с EarlyStopping), изменением качества слоёв и применением оптимизатора sgd. Увеличим скорость обучения на порядок относительно model5 до learning_rate=0.01"
      ],
      "metadata": {
        "id": "Q_BfyPrBllrM"
      }
    },
    {
      "cell_type": "markdown",
      "source": [
        "### REBUILDING model:"
      ],
      "metadata": {
        "id": "904SjWox1zbw"
      }
    },
    {
      "cell_type": "code",
      "source": [
        "import tensorflow as tf"
      ],
      "metadata": {
        "id": "bujPDADT8d2P"
      },
      "execution_count": 49,
      "outputs": []
    },
    {
      "cell_type": "code",
      "source": [
        "# Задаем seed для повторяемости результатов\n",
        "numpy.random.seed(42)"
      ],
      "metadata": {
        "id": "-R0hoELK4ghX"
      },
      "execution_count": 50,
      "outputs": []
    },
    {
      "cell_type": "code",
      "source": [
        "# Количество классов изображений\n",
        "nb_classes = 10"
      ],
      "metadata": {
        "id": "_beJUFC54ptg"
      },
      "execution_count": 51,
      "outputs": []
    },
    {
      "cell_type": "code",
      "source": [
        "# Количество эпох для обучения\n",
        "nb_epoch = 25"
      ],
      "metadata": {
        "id": "luADoMyN5K93"
      },
      "execution_count": 52,
      "outputs": []
    },
    {
      "cell_type": "code",
      "source": [
        "# Преобразуем метки в категории\n",
        "Y_train = np_utils.to_categorical(y_train, nb_classes)\n",
        "Y_test = np_utils.to_categorical(y_test, nb_classes)"
      ],
      "metadata": {
        "id": "L3YUUUJE290B"
      },
      "execution_count": 53,
      "outputs": []
    },
    {
      "cell_type": "code",
      "source": [
        "# остановка обучение, когда нет улучшения в loss для трех последовательных эпох\n",
        "callback = tf.keras.callbacks.EarlyStopping(monitor='loss', patience=3)"
      ],
      "metadata": {
        "id": "D-P3JCjL9DpN"
      },
      "execution_count": 54,
      "outputs": []
    },
    {
      "cell_type": "code",
      "source": [
        "# Создаем последовательную модель\n",
        "model1 = Sequential()\n",
        "# Первый сверточный слой\n",
        "model1.add(Conv2D(32, (3, 3), padding='same',\n",
        "                        input_shape=(32, 32, 3), activation='relu'))\n",
        "# Второй сверточный слой\n",
        "model1.add(Conv2D(32, (3, 3), activation='relu', padding='same'))\n",
        "# Первый слой подвыборки\n",
        "model1.add(MaxPooling2D(pool_size=(2, 2)))\n",
        "# Слой регуляризации Dropout\n",
        "model1.add(Dropout(0.25))\n",
        "# Третий сверточный слой\n",
        "model1.add(Conv2D(64, (3, 3), padding='same', activation='relu'))\n",
        "# Четвертый сверточный слой\n",
        "model1.add(Conv2D(64, (3, 3), activation='relu'))"
      ],
      "metadata": {
        "id": "XjjB9KNK19Uc"
      },
      "execution_count": 55,
      "outputs": []
    },
    {
      "cell_type": "code",
      "source": [
        "# Cлой подвыборки\n",
        "model1.add(MaxPooling2D(pool_size=(2, 2)))"
      ],
      "metadata": {
        "id": "NdhwZYOl2QYJ"
      },
      "execution_count": 56,
      "outputs": []
    },
    {
      "cell_type": "code",
      "source": [
        "# Слой регуляризации Dropout\n",
        "model1.add(Dropout(0.25))"
      ],
      "metadata": {
        "id": "tSv0_Ly92hLO"
      },
      "execution_count": 57,
      "outputs": []
    },
    {
      "cell_type": "code",
      "source": [
        "# Слой преобразования данных из 2D представления в плоское\n",
        "model1.add(Flatten())"
      ],
      "metadata": {
        "id": "zjy0_8-f2mzv"
      },
      "execution_count": 58,
      "outputs": []
    },
    {
      "cell_type": "code",
      "source": [
        "# Полносвязный слой для классификации\n",
        "model1.add(Dense(512, activation='relu'))"
      ],
      "metadata": {
        "id": "Ug1Msbgc2oLB"
      },
      "execution_count": 59,
      "outputs": []
    },
    {
      "cell_type": "code",
      "source": [
        "# Слой регуляризации Dropout\n",
        "model1.add(Dropout(0.5))"
      ],
      "metadata": {
        "id": "Qo3PufHm2wG6"
      },
      "execution_count": 60,
      "outputs": []
    },
    {
      "cell_type": "code",
      "source": [
        "# Выходной полносвязный слой\n",
        "model1.add(Dense(nb_classes, activation='softmax'))"
      ],
      "metadata": {
        "id": "j3wSxTYy2xby"
      },
      "execution_count": 61,
      "outputs": []
    },
    {
      "cell_type": "code",
      "source": [
        "# Задаем параметры оптимизации\n",
        "sgd = SGD(learning_rate=0.01, decay=1e-6, momentum=0.9, nesterov=True)\n",
        "model1.compile(loss='categorical_crossentropy',\n",
        "              optimizer=sgd,\n",
        "              metrics=['accuracy'])"
      ],
      "metadata": {
        "id": "FsuXbKkh4z2n"
      },
      "execution_count": 62,
      "outputs": []
    },
    {
      "cell_type": "code",
      "source": [
        "# Обучаем модель\n",
        "history = model1.fit(x_train, y_train,\n",
        "              batch_size=batch_size,\n",
        "              epochs=nb_epoch,\n",
        "              validation_split=0.1,\n",
        "              shuffle=True,\n",
        "              callbacks=[callback],\n",
        "              verbose=2)"
      ],
      "metadata": {
        "colab": {
          "base_uri": "https://localhost:8080/"
        },
        "id": "rkf9xmBv44R6",
        "outputId": "1f0b37e8-1b44-4580-f989-4b81e843d113"
      },
      "execution_count": 63,
      "outputs": [
        {
          "output_type": "stream",
          "name": "stdout",
          "text": [
            "Epoch 1/25\n",
            "1407/1407 - 280s - loss: 1.7552 - accuracy: 0.3510 - val_loss: 1.3567 - val_accuracy: 0.5012 - 280s/epoch - 199ms/step\n",
            "Epoch 2/25\n",
            "1407/1407 - 289s - loss: 1.3324 - accuracy: 0.5196 - val_loss: 1.1061 - val_accuracy: 0.5972 - 289s/epoch - 205ms/step\n",
            "Epoch 3/25\n",
            "1407/1407 - 303s - loss: 1.1532 - accuracy: 0.5866 - val_loss: 0.9698 - val_accuracy: 0.6590 - 303s/epoch - 215ms/step\n",
            "Epoch 4/25\n",
            "1407/1407 - 326s - loss: 1.0406 - accuracy: 0.6331 - val_loss: 0.8990 - val_accuracy: 0.6886 - 326s/epoch - 232ms/step\n",
            "Epoch 5/25\n",
            "1407/1407 - 302s - loss: 0.9489 - accuracy: 0.6659 - val_loss: 0.8019 - val_accuracy: 0.7300 - 302s/epoch - 215ms/step\n",
            "Epoch 6/25\n",
            "1407/1407 - 278s - loss: 0.8802 - accuracy: 0.6922 - val_loss: 0.8807 - val_accuracy: 0.6944 - 278s/epoch - 197ms/step\n",
            "Epoch 7/25\n",
            "1407/1407 - 278s - loss: 0.8307 - accuracy: 0.7084 - val_loss: 0.7664 - val_accuracy: 0.7396 - 278s/epoch - 198ms/step\n",
            "Epoch 8/25\n",
            "1407/1407 - 280s - loss: 0.7862 - accuracy: 0.7254 - val_loss: 0.7730 - val_accuracy: 0.7370 - 280s/epoch - 199ms/step\n",
            "Epoch 9/25\n",
            "1407/1407 - 276s - loss: 0.7583 - accuracy: 0.7343 - val_loss: 0.7126 - val_accuracy: 0.7584 - 276s/epoch - 196ms/step\n",
            "Epoch 10/25\n",
            "1407/1407 - 282s - loss: 0.7269 - accuracy: 0.7451 - val_loss: 0.7901 - val_accuracy: 0.7408 - 282s/epoch - 200ms/step\n",
            "Epoch 11/25\n",
            "1407/1407 - 281s - loss: 0.7115 - accuracy: 0.7524 - val_loss: 0.7461 - val_accuracy: 0.7484 - 281s/epoch - 200ms/step\n",
            "Epoch 12/25\n",
            "1407/1407 - 283s - loss: 0.6933 - accuracy: 0.7573 - val_loss: 0.7110 - val_accuracy: 0.7590 - 283s/epoch - 201ms/step\n",
            "Epoch 13/25\n",
            "1407/1407 - 284s - loss: 0.6724 - accuracy: 0.7652 - val_loss: 0.7260 - val_accuracy: 0.7564 - 284s/epoch - 202ms/step\n",
            "Epoch 14/25\n",
            "1407/1407 - 280s - loss: 0.6648 - accuracy: 0.7686 - val_loss: 0.6947 - val_accuracy: 0.7656 - 280s/epoch - 199ms/step\n",
            "Epoch 15/25\n",
            "1407/1407 - 279s - loss: 0.6378 - accuracy: 0.7774 - val_loss: 0.7357 - val_accuracy: 0.7596 - 279s/epoch - 198ms/step\n",
            "Epoch 16/25\n",
            "1407/1407 - 276s - loss: 0.6324 - accuracy: 0.7799 - val_loss: 0.6710 - val_accuracy: 0.7754 - 276s/epoch - 196ms/step\n",
            "Epoch 17/25\n",
            "1407/1407 - 276s - loss: 0.6226 - accuracy: 0.7843 - val_loss: 0.6710 - val_accuracy: 0.7744 - 276s/epoch - 196ms/step\n",
            "Epoch 18/25\n",
            "1407/1407 - 277s - loss: 0.6134 - accuracy: 0.7883 - val_loss: 0.6664 - val_accuracy: 0.7796 - 277s/epoch - 197ms/step\n",
            "Epoch 19/25\n",
            "1407/1407 - 277s - loss: 0.5964 - accuracy: 0.7927 - val_loss: 0.6841 - val_accuracy: 0.7726 - 277s/epoch - 197ms/step\n",
            "Epoch 20/25\n",
            "1407/1407 - 282s - loss: 0.5929 - accuracy: 0.7956 - val_loss: 0.7053 - val_accuracy: 0.7662 - 282s/epoch - 200ms/step\n",
            "Epoch 21/25\n",
            "1407/1407 - 280s - loss: 0.5942 - accuracy: 0.7928 - val_loss: 0.7313 - val_accuracy: 0.7526 - 280s/epoch - 199ms/step\n",
            "Epoch 22/25\n",
            "1407/1407 - 286s - loss: 0.5831 - accuracy: 0.7975 - val_loss: 0.7488 - val_accuracy: 0.7580 - 286s/epoch - 203ms/step\n",
            "Epoch 23/25\n",
            "1407/1407 - 281s - loss: 0.5774 - accuracy: 0.7998 - val_loss: 0.6832 - val_accuracy: 0.7716 - 281s/epoch - 200ms/step\n",
            "Epoch 24/25\n",
            "1407/1407 - 282s - loss: 0.5638 - accuracy: 0.8046 - val_loss: 0.6733 - val_accuracy: 0.7822 - 282s/epoch - 200ms/step\n",
            "Epoch 25/25\n",
            "1407/1407 - 280s - loss: 0.5598 - accuracy: 0.8062 - val_loss: 0.7034 - val_accuracy: 0.7660 - 280s/epoch - 199ms/step\n"
          ]
        }
      ]
    },
    {
      "cell_type": "code",
      "source": [
        "# проверка работы обученной модели\n",
        "scores1 = model1.evaluate(x_test, y_test, verbose=1)\n",
        "print(\"Test loss: \" + str(round((scores1[0]*100),2)) + \" %\")\n",
        "print(\"Test accuracy: \" + str(round((scores1[1]*100),2)) + \" %\")"
      ],
      "metadata": {
        "colab": {
          "base_uri": "https://localhost:8080/"
        },
        "id": "qphgEJCLV8cc",
        "outputId": "a3cbe637-4705-4cc5-be18-cabbc25c62a6"
      },
      "execution_count": 64,
      "outputs": [
        {
          "output_type": "stream",
          "name": "stdout",
          "text": [
            "313/313 [==============================] - 15s 48ms/step - loss: 0.7452 - accuracy: 0.7516\n",
            "Test loss: 74.52 %\n",
            "Test accuracy: 75.16 %\n"
          ]
        }
      ]
    },
    {
      "cell_type": "markdown",
      "source": [
        "**Вывод:** решает количество эпох и sgd!"
      ],
      "metadata": {
        "id": "xW9w6nn4LyMl"
      }
    },
    {
      "cell_type": "markdown",
      "source": [
        "**Итог:**\n",
        "\n",
        "***все вышеперечисленные изменения, применяемые к апгрейду начальной модели, не показали значиммых улучшений. Кардинальное улучшение стало возможным благодаря увеличению количества эпох и применению SGD***"
      ],
      "metadata": {
        "id": "B6UxjuokdFIm"
      }
    },
    {
      "cell_type": "markdown",
      "source": [
        "##\n",
        "\n",
        "2. Опишите в анализе, какие изменения необходимо было бы внести в получившуюся нейронную сеть, если бы ей нужно было работать не с cifar10, а с MNIST, CIFAR100 и IMAGENET"
      ],
      "metadata": {
        "id": "I4X7codGeXi6"
      }
    },
    {
      "cell_type": "markdown",
      "source": [
        "При анализе цветных изображений IMAGENET потребуется учитывать параметры цвета RGB, то есть каждый пиксель будет включать еще список с каналами цвета."
      ],
      "metadata": {
        "id": "YfQGjmVXeatk"
      }
    }
  ]
}