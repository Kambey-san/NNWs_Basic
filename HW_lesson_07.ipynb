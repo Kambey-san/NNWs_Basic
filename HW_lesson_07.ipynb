{
 "cells": [
  {
   "cell_type": "markdown",
   "metadata": {},
   "source": [
    "## Урок 7. Детектирование объектов/ домашнее задание\n",
    "\n",
    "Сделайте краткий обзор любой научной работы, посвящённой алгоритму для object detection, не рассматривавшемуся на уроке. Проведите анализ: чем отличается выбранная вами архитектура нейронной сети от других? В чём плюсы и минусы данной архитектуры? Какие могут возникнуть трудности при применении этой архитектуры на практике?"
   ]
  },
  {
   "cell_type": "markdown",
   "metadata": {},
   "source": [
    "#### Рассмотрена <a href='https://github.com/google/automl/tree/master/efficientdet'>статья</a> Mingxing Tan, Ruoming Pang and Quoc V. Le. EfficientDet: Scalable and Efficient Object Detection"
   ]
  },
  {
   "cell_type": "markdown",
   "metadata": {},
   "source": [
    "        В этой статье авторы изучили архитектуру сетей для детекции объектов и предложили взвешенную двунаправленную feature network (BiFPN) и метод масштабирования для повышения точности и эффективности алгоритма. На основе этих оптимизаций разработано новое семейство детекторов под названием EfficientDet, которое добивается большей точности и эффективности, чем предшествующие алгоритмы с учетом ресурсных ограничений (оперативная память и число операций). В частности, масштабируемый EfficientDet достигает наилучшей точности с гораздо меньшим количеством параметров и FLOP, чем предыдущие модели."
   ]
  },
  {
   "cell_type": "markdown",
   "metadata": {},
   "source": [
    "        В последнее время алгоритмы object detection достигли большой точности, но при этом содержат очень много параметров и, соответственно, требуют многих вычислений. Это ограничивает применение данных алгоритмов там, где есть ограничения по времени отклика и аппаратной мощности. Также есть требования масштабировать конкретную архитектуру для применения ее от мобильных устройств до self driving car. "
   ]
  },
  {
   "cell_type": "markdown",
   "metadata": {},
   "source": [
    "        EfficientDet - масштабируемая архитектура object detection. Дает высокую точность и производительность с выбором ресурсных ограничений из широкого диапазона (3B to 300 BFLOP) благодаря использованию:\n",
    "        - BiFPN - взвешенная двунаправленная пирамидальная сеть признаков (является развитием FPN);\n",
    "        - метод масштабирования, который позволяет изменять разрешение, глубину и ширину всех составных частей сети: encoder, decoder, BiFPN, box prediction network, class prediction network;\n",
    "        - EfficientNet B0 - B6 в качестве encoder, предтренированные на ImageNet."
   ]
  },
  {
   "cell_type": "markdown",
   "metadata": {},
   "source": [
    "        При одинаковой точности EfficientDet требует в 28 раз меньше операций, чем YOLO v3 и в 30 - чем Retina Net, а также может после незначительных изменений применяться для решения задач сегментации."
   ]
  }
 ],
 "metadata": {
  "accelerator": "GPU",
  "colab": {
   "collapsed_sections": [],
   "name": "segmentation.ipynb",
   "private_outputs": true,
   "provenance": [],
   "toc_visible": true
  },
  "kernelspec": {
   "display_name": "Python 3 (ipykernel)",
   "language": "python",
   "name": "python3"
  },
  "language_info": {
   "codemirror_mode": {
    "name": "ipython",
    "version": 3
   },
   "file_extension": ".py",
   "mimetype": "text/x-python",
   "name": "python",
   "nbconvert_exporter": "python",
   "pygments_lexer": "ipython3",
   "version": "3.10.5"
  }
 },
 "nbformat": 4,
 "nbformat_minor": 1
}
