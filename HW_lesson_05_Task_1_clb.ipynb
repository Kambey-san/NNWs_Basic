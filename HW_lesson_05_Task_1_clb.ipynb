{
  "nbformat": 4,
  "nbformat_minor": 0,
  "metadata": {
    "colab": {
      "provenance": [],
      "gpuType": "T4"
    },
    "kernelspec": {
      "name": "python3",
      "display_name": "Python 3"
    },
    "language_info": {
      "name": "python"
    },
    "accelerator": "GPU"
  },
  "cells": [
    {
      "cell_type": "markdown",
      "source": [
        "### Урок 5. Рекуррентные нейронные сети/ Домашнее задание"
      ],
      "metadata": {
        "id": "tgwedjyY24mq"
      }
    },
    {
      "cell_type": "markdown",
      "source": [
        "1. Попробуйте изменить параметры нейронной сети, работающей с датасетом imdb, либо нейронной сети, работающей airline-passengers (она прилагается вместе с датасетом к уроку в виде отдельного скрипта) так, чтобы улучшить её точность. Приложите анализ"
      ],
      "metadata": {
        "id": "cdr4u39U3FON"
      }
    },
    {
      "cell_type": "markdown",
      "source": [
        "### Запускаем базовую модель:\n",
        "\n",
        "T4 GPU (On)"
      ],
      "metadata": {
        "id": "eQl6lGmP3N8x"
      }
    },
    {
      "cell_type": "code",
      "source": [
        "from __future__ import print_function\n",
        "\n",
        "from keras.preprocessing import sequence\n",
        "from keras.models import Sequential\n",
        "from keras.layers import Dense, Embedding\n",
        "from keras.layers import LSTM\n",
        "from keras.datasets import imdb\n",
        "from keras.utils import pad_sequences"
      ],
      "metadata": {
        "id": "ajKS0be93CcF"
      },
      "execution_count": 25,
      "outputs": []
    },
    {
      "cell_type": "code",
      "source": [
        "# используем 10000 слов, встречающихся чаще всего\n",
        "max_features = 10000"
      ],
      "metadata": {
        "id": "e7irSPwQ4aIh"
      },
      "execution_count": 26,
      "outputs": []
    },
    {
      "cell_type": "code",
      "source": [
        "# обрезание текстов после данного количества слов (среди top max_features наиболее используемые слова)\n",
        "maxlen = 100"
      ],
      "metadata": {
        "id": "SIe0aNub5S55"
      },
      "execution_count": 27,
      "outputs": []
    },
    {
      "cell_type": "code",
      "source": [
        "batch_size = 128 # увеличьте значение для ускорения обучения"
      ],
      "metadata": {
        "id": "p3_frdk65Vnr"
      },
      "execution_count": 28,
      "outputs": []
    },
    {
      "cell_type": "code",
      "source": [
        "def train_nn():\n",
        "  print('Построение модели...')\n",
        "  model = Sequential()\n",
        "  model.add(Embedding(max_features, 128))\n",
        "  model.add(LSTM(128, dropout=0.4, recurrent_dropout=0.4))\n",
        "  model.add(Dense(32, activation='relu'))\n",
        "  model.add(Dense(1, activation='sigmoid'))\n",
        "  print('Загрузка данных...')\n",
        " #стоит попробовать использовать другие оптимайзер и другие конфигурации оптимайзеров\n",
        "  model.compile(loss='binary_crossentropy',\n",
        "                optimizer='Adam', # при использовании этого оптимайзера модель показывает наилучшие результаты.\n",
        "                metrics=['accuracy'])\n",
        "  (x_train, y_train), (x_test, y_test) = imdb.load_data(num_words=max_features)\n",
        "  print(len(x_train), 'тренировочные последовательности')\n",
        "  print(len(x_test), 'тестовые последовательности')\n",
        "\n",
        "  print('Pad последовательности (примеров в x единицу времени)')\n",
        "  x_train = pad_sequences(x_train, maxlen=maxlen)\n",
        "  x_test = pad_sequences(x_test, maxlen=maxlen)\n",
        "  print('x_train shape:', x_train.shape)\n",
        "  print('x_test shape:', x_test.shape)\n",
        "\n",
        "  print('Процесс обучения...')\n",
        "  history = model.fit(x_train, y_train,\n",
        "            batch_size=batch_size,\n",
        "            epochs=10, # увеличьте при необходимости\n",
        "            validation_data=(x_test, y_test))\n",
        "  score, acc = model.evaluate(x_test, y_test,\n",
        "                              batch_size=batch_size)\n",
        "  print(\"Результат при тестировании: \", float(round((score*100),2)), \"%\")\n",
        "  print(\"Тестовая точность: \", float(round((acc*100),2)), \"%\")"
      ],
      "metadata": {
        "id": "TfjTiIGi5hRO"
      },
      "execution_count": 29,
      "outputs": []
    },
    {
      "cell_type": "code",
      "source": [
        "train_nn()"
      ],
      "metadata": {
        "colab": {
          "base_uri": "https://localhost:8080/"
        },
        "id": "5Ml8g8yU5uUv",
        "outputId": "dd0d41b1-ede6-4d59-c615-81b07606b206"
      },
      "execution_count": 30,
      "outputs": [
        {
          "output_type": "stream",
          "name": "stdout",
          "text": [
            "Построение модели...\n",
            "Загрузка данных...\n",
            "Downloading data from https://storage.googleapis.com/tensorflow/tf-keras-datasets/imdb.npz\n",
            "17464789/17464789 [==============================] - 0s 0us/step\n",
            "25000 тренировочные последовательности\n",
            "25000 тестовые последовательности\n",
            "Pad последовательности (примеров в x единицу времени)\n",
            "x_train shape: (25000, 100)\n",
            "x_test shape: (25000, 100)\n",
            "Процесс обучения...\n",
            "Epoch 1/10\n",
            "196/196 [==============================] - 213s 1s/step - loss: 0.4419 - accuracy: 0.7832 - val_loss: 0.3702 - val_accuracy: 0.8404\n",
            "Epoch 2/10\n",
            "196/196 [==============================] - 217s 1s/step - loss: 0.2810 - accuracy: 0.8865 - val_loss: 0.3618 - val_accuracy: 0.8395\n",
            "Epoch 3/10\n",
            "196/196 [==============================] - 217s 1s/step - loss: 0.2257 - accuracy: 0.9098 - val_loss: 0.4482 - val_accuracy: 0.8450\n",
            "Epoch 4/10\n",
            "196/196 [==============================] - 217s 1s/step - loss: 0.1799 - accuracy: 0.9290 - val_loss: 0.3948 - val_accuracy: 0.8428\n",
            "Epoch 5/10\n",
            "196/196 [==============================] - 213s 1s/step - loss: 0.1420 - accuracy: 0.9471 - val_loss: 0.5156 - val_accuracy: 0.8352\n",
            "Epoch 6/10\n",
            "196/196 [==============================] - 218s 1s/step - loss: 0.1220 - accuracy: 0.9553 - val_loss: 0.5242 - val_accuracy: 0.8313\n",
            "Epoch 7/10\n",
            "196/196 [==============================] - 208s 1s/step - loss: 0.1007 - accuracy: 0.9622 - val_loss: 0.6171 - val_accuracy: 0.8231\n",
            "Epoch 8/10\n",
            "196/196 [==============================] - 218s 1s/step - loss: 0.0857 - accuracy: 0.9684 - val_loss: 0.7363 - val_accuracy: 0.8275\n",
            "Epoch 9/10\n",
            "196/196 [==============================] - 215s 1s/step - loss: 0.0716 - accuracy: 0.9742 - val_loss: 0.7391 - val_accuracy: 0.8238\n",
            "Epoch 10/10\n",
            "196/196 [==============================] - 217s 1s/step - loss: 0.0603 - accuracy: 0.9793 - val_loss: 0.8181 - val_accuracy: 0.8220\n",
            "196/196 [==============================] - 34s 171ms/step - loss: 0.8181 - accuracy: 0.8220\n",
            "Результат при тестировании:  81.81 %\n",
            "Тестовая точность:  82.2 %\n"
          ]
        }
      ]
    },
    {
      "cell_type": "markdown",
      "source": [
        "##\n",
        "### Upgrade to model2:"
      ],
      "metadata": {
        "id": "CoizJOmkTwxF"
      }
    },
    {
      "cell_type": "code",
      "source": [
        "# используем 10000 слов, встречающихся чаще всего\n",
        "max_features = 10000"
      ],
      "metadata": {
        "id": "R4QNsEtcW2eP"
      },
      "execution_count": 31,
      "outputs": []
    },
    {
      "cell_type": "code",
      "source": [
        "# обрезание текстов после данного количества слов (среди top max_features наиболее используемые слова)\n",
        "maxlen2 = 200  # was 100"
      ],
      "metadata": {
        "id": "EcXJkPFzUBWA"
      },
      "execution_count": 32,
      "outputs": []
    },
    {
      "cell_type": "code",
      "source": [
        "batch_size2 = 256 # was 128"
      ],
      "metadata": {
        "id": "aWAH0_g6ULbO"
      },
      "execution_count": 33,
      "outputs": []
    },
    {
      "cell_type": "code",
      "source": [
        "def train_nn2():\n",
        "  print('Построение модели_2...')\n",
        "  model2 = Sequential()\n",
        "  model2.add(Embedding(max_features, 256))  # was changed\n",
        "  model2.add(LSTM(128, dropout=0.4, recurrent_dropout=0.4))\n",
        "  model2.add(Dense(32, activation='relu'))\n",
        "  model2.add(Dense(1, activation='sigmoid'))\n",
        "  print('Загрузка данных...')\n",
        " #стоит попробовать использовать другие оптимайзер и другие конфигурации оптимайзеров\n",
        "  model2.compile(loss='binary_crossentropy',\n",
        "                optimizer='SGD', # was Adam\n",
        "                metrics=['accuracy'])\n",
        "  (x_train, y_train), (x_test, y_test) = imdb.load_data(num_words=max_features)\n",
        "  print(len(x_train), 'тренировочные последовательности')\n",
        "  print(len(x_test), 'тестовые последовательности')\n",
        "\n",
        "  print('Pad последовательности (примеров в x единицу времени)')\n",
        "  x_train = pad_sequences(x_train, maxlen=maxlen)\n",
        "  x_test = pad_sequences(x_test, maxlen=maxlen)\n",
        "  print('x_train shape:', x_train.shape)\n",
        "  print('x_test shape:', x_test.shape)\n",
        "\n",
        "  print('Процесс обучения...')\n",
        "  history2 = model2.fit(x_train, y_train,\n",
        "            batch_size=batch_size2,\n",
        "            epochs=10, # увеличьте при необходимости\n",
        "            validation_data=(x_test, y_test))\n",
        "  score2, acc2 = model2.evaluate(x_test, y_test,\n",
        "                              batch_size=batch_size)\n",
        "  print(\"Результат при тестировании: \", float(round((score2*100),2)), \"%\")\n",
        "  print(\"Тестовая точность: \", float(round((acc2*100),2)), \"%\")"
      ],
      "metadata": {
        "id": "Y1APTSZdUmcT"
      },
      "execution_count": 34,
      "outputs": []
    },
    {
      "cell_type": "code",
      "source": [
        "train_nn2()"
      ],
      "metadata": {
        "colab": {
          "base_uri": "https://localhost:8080/"
        },
        "id": "uiCO-pFiV99z",
        "outputId": "11116786-bef6-43d5-ef9c-93ef8216ba7a"
      },
      "execution_count": 35,
      "outputs": [
        {
          "output_type": "stream",
          "name": "stdout",
          "text": [
            "Построение модели_2...\n",
            "Загрузка данных...\n",
            "25000 тренировочные последовательности\n",
            "25000 тестовые последовательности\n",
            "Pad последовательности (примеров в x единицу времени)\n",
            "x_train shape: (25000, 100)\n",
            "x_test shape: (25000, 100)\n",
            "Процесс обучения...\n",
            "Epoch 1/10\n",
            "98/98 [==============================] - 190s 2s/step - loss: 0.6932 - accuracy: 0.4926 - val_loss: 0.6932 - val_accuracy: 0.4968\n",
            "Epoch 2/10\n",
            "98/98 [==============================] - 199s 2s/step - loss: 0.6932 - accuracy: 0.4991 - val_loss: 0.6931 - val_accuracy: 0.5046\n",
            "Epoch 3/10\n",
            "98/98 [==============================] - 198s 2s/step - loss: 0.6931 - accuracy: 0.5027 - val_loss: 0.6930 - val_accuracy: 0.5125\n",
            "Epoch 4/10\n",
            "98/98 [==============================] - 196s 2s/step - loss: 0.6929 - accuracy: 0.5128 - val_loss: 0.6929 - val_accuracy: 0.5156\n",
            "Epoch 5/10\n",
            "98/98 [==============================] - 196s 2s/step - loss: 0.6929 - accuracy: 0.5155 - val_loss: 0.6929 - val_accuracy: 0.5192\n",
            "Epoch 6/10\n",
            "98/98 [==============================] - 187s 2s/step - loss: 0.6929 - accuracy: 0.5180 - val_loss: 0.6928 - val_accuracy: 0.5217\n",
            "Epoch 7/10\n",
            "98/98 [==============================] - 196s 2s/step - loss: 0.6928 - accuracy: 0.5179 - val_loss: 0.6928 - val_accuracy: 0.5243\n",
            "Epoch 8/10\n",
            "98/98 [==============================] - 200s 2s/step - loss: 0.6927 - accuracy: 0.5246 - val_loss: 0.6927 - val_accuracy: 0.5266\n",
            "Epoch 9/10\n",
            "98/98 [==============================] - 198s 2s/step - loss: 0.6926 - accuracy: 0.5249 - val_loss: 0.6926 - val_accuracy: 0.5311\n",
            "Epoch 10/10\n",
            "98/98 [==============================] - 197s 2s/step - loss: 0.6925 - accuracy: 0.5292 - val_loss: 0.6926 - val_accuracy: 0.5334\n",
            "196/196 [==============================] - 39s 200ms/step - loss: 0.6926 - accuracy: 0.5334\n",
            "Результат при тестировании:  69.26 %\n",
            "Тестовая точность:  53.34 %\n"
          ]
        }
      ]
    },
    {
      "cell_type": "markdown",
      "source": [
        "**Вывод:** *неудачная конфигурация*"
      ],
      "metadata": {
        "id": "SdzrbwlHbZY0"
      }
    },
    {
      "cell_type": "markdown",
      "source": [
        "## Upgrade to model3:\n",
        "вернём Adam"
      ],
      "metadata": {
        "id": "7KUx7JFhbjx5"
      }
    },
    {
      "cell_type": "code",
      "source": [
        "# обрезание текстов после данного количества слов (среди top max_features наиболее используемые слова)\n",
        "maxlen3 = 200  # no changes from model2"
      ],
      "metadata": {
        "id": "Nm-lKBQlcrpD"
      },
      "execution_count": 36,
      "outputs": []
    },
    {
      "cell_type": "code",
      "source": [
        "batch_size3 = 256 # no changes from model2"
      ],
      "metadata": {
        "id": "u4oQ5_Ckc8Zd"
      },
      "execution_count": 37,
      "outputs": []
    },
    {
      "cell_type": "code",
      "source": [
        "def train_nn3():\n",
        "  print('Построение модели_3...')\n",
        "  model3 = Sequential()\n",
        "  model3.add(Embedding(max_features, 256))  # was changed\n",
        "  model3.add(LSTM(128, dropout=0.4, recurrent_dropout=0.4))\n",
        "  model3.add(Dense(32, activation='relu'))\n",
        "  model3.add(Dense(1, activation='sigmoid'))\n",
        "  print('Загрузка данных...')\n",
        " #стоит попробовать использовать другие оптимайзер и другие конфигурации оптимайзеров\n",
        "  model3.compile(loss='binary_crossentropy',\n",
        "                optimizer='Adam', # was SGD\n",
        "                metrics=['accuracy'])\n",
        "  (x_train, y_train), (x_test, y_test) = imdb.load_data(num_words=max_features)\n",
        "  print(len(x_train), 'тренировочные последовательности')\n",
        "  print(len(x_test), 'тестовые последовательности')\n",
        "\n",
        "  print('Pad последовательности (примеров в x единицу времени)')\n",
        "  x_train = pad_sequences(x_train, maxlen=maxlen)\n",
        "  x_test = pad_sequences(x_test, maxlen=maxlen)\n",
        "  print('x_train shape:', x_train.shape)\n",
        "  print('x_test shape:', x_test.shape)\n",
        "\n",
        "  print('Процесс обучения...')\n",
        "  history3 = model3.fit(x_train, y_train,\n",
        "            batch_size=batch_size3,\n",
        "            epochs=10, # увеличьте при необходимости\n",
        "            validation_data=(x_test, y_test))\n",
        "  score3, acc3 = model3.evaluate(x_test, y_test,\n",
        "                              batch_size=batch_size)\n",
        "  print(\"Результат при тестировании: \", float(round((score3*100),2)), \"%\")\n",
        "  print(\"Тестовая точность: \", float(round((acc3*100),2)), \"%\")"
      ],
      "metadata": {
        "id": "Iu43YMRfddQa"
      },
      "execution_count": 38,
      "outputs": []
    },
    {
      "cell_type": "code",
      "source": [
        "train_nn3()"
      ],
      "metadata": {
        "colab": {
          "base_uri": "https://localhost:8080/"
        },
        "id": "9OfxoEwHdzHq",
        "outputId": "0745dbb7-a165-4cde-e2c4-67590a52232b"
      },
      "execution_count": 39,
      "outputs": [
        {
          "output_type": "stream",
          "name": "stdout",
          "text": [
            "Построение модели_3...\n",
            "Загрузка данных...\n",
            "25000 тренировочные последовательности\n",
            "25000 тестовые последовательности\n",
            "Pad последовательности (примеров в x единицу времени)\n",
            "x_train shape: (25000, 100)\n",
            "x_test shape: (25000, 100)\n",
            "Процесс обучения...\n",
            "Epoch 1/10\n",
            "98/98 [==============================] - 202s 2s/step - loss: 0.4776 - accuracy: 0.7553 - val_loss: 0.3416 - val_accuracy: 0.8487\n",
            "Epoch 2/10\n",
            "98/98 [==============================] - 187s 2s/step - loss: 0.2790 - accuracy: 0.8853 - val_loss: 0.3618 - val_accuracy: 0.8496\n",
            "Epoch 3/10\n",
            "98/98 [==============================] - 199s 2s/step - loss: 0.2190 - accuracy: 0.9140 - val_loss: 0.4198 - val_accuracy: 0.8404\n",
            "Epoch 4/10\n",
            "98/98 [==============================] - 199s 2s/step - loss: 0.1722 - accuracy: 0.9333 - val_loss: 0.4095 - val_accuracy: 0.8444\n",
            "Epoch 5/10\n",
            "98/98 [==============================] - 202s 2s/step - loss: 0.1317 - accuracy: 0.9504 - val_loss: 0.5540 - val_accuracy: 0.8380\n",
            "Epoch 6/10\n",
            "98/98 [==============================] - 202s 2s/step - loss: 0.1258 - accuracy: 0.9515 - val_loss: 0.5591 - val_accuracy: 0.8335\n",
            "Epoch 7/10\n",
            "98/98 [==============================] - 199s 2s/step - loss: 0.0897 - accuracy: 0.9658 - val_loss: 0.5934 - val_accuracy: 0.8278\n",
            "Epoch 8/10\n",
            "98/98 [==============================] - 200s 2s/step - loss: 0.0774 - accuracy: 0.9723 - val_loss: 0.7166 - val_accuracy: 0.8287\n",
            "Epoch 9/10\n",
            "98/98 [==============================] - 201s 2s/step - loss: 0.0623 - accuracy: 0.9777 - val_loss: 0.8728 - val_accuracy: 0.8220\n",
            "Epoch 10/10\n",
            "98/98 [==============================] - 199s 2s/step - loss: 0.0528 - accuracy: 0.9819 - val_loss: 0.7623 - val_accuracy: 0.8223\n",
            "196/196 [==============================] - 39s 200ms/step - loss: 0.7623 - accuracy: 0.8223\n",
            "Результат при тестировании:  76.23 %\n",
            "Тестовая точность:  82.23 %\n"
          ]
        }
      ]
    },
    {
      "cell_type": "markdown",
      "source": [
        "**Вывод:** *пока это лучший вариант*"
      ],
      "metadata": {
        "id": "IupOTxH0io6f"
      }
    },
    {
      "cell_type": "markdown",
      "source": [
        "## Upgrade to model4:\n",
        "\n",
        "изменим количество и качество слоёв"
      ],
      "metadata": {
        "id": "VvfEINxki814"
      }
    },
    {
      "cell_type": "code",
      "source": [
        "from keras.layers import Dropout"
      ],
      "metadata": {
        "id": "WfC7psomk8wW"
      },
      "execution_count": 40,
      "outputs": []
    },
    {
      "cell_type": "code",
      "source": [
        "def train_nn4():\n",
        "  print('Построение модели_4...')\n",
        "  model4 = Sequential()\n",
        "  model4.add(Embedding(max_features, 256))\n",
        "  model4.add(LSTM(128, dropout=0.4, recurrent_dropout=0.4))\n",
        "  model4.add(Dense(64, activation='relu'))  # was 32\n",
        "  model4.add(Dropout(0.4))\n",
        "  model4.add(Dense(32, activation='LeakyReLU'))            # New line\n",
        "  model4.add(Dropout(0.4))\n",
        "  model4.add(Dense(16, activation='elu'))\n",
        "  model4.add(Dropout(0.2))                                  # New line\n",
        "  model4.add(Dense(1, activation='sigmoid'))\n",
        "\n",
        "  print('Загрузка данных...')\n",
        " #стоит попробовать использовать другие оптимайзер и другие конфигурации оптимайзеров\n",
        "  model4.compile(loss='binary_crossentropy',\n",
        "                optimizer='Adam',\n",
        "                metrics=['accuracy'])\n",
        "  (x_train, y_train), (x_test, y_test) = imdb.load_data(num_words=max_features)\n",
        "  print(len(x_train), 'тренировочные последовательности')\n",
        "  print(len(x_test), 'тестовые последовательности')\n",
        "\n",
        "  print('Pad последовательности (примеров в x единицу времени)')\n",
        "  x_train = pad_sequences(x_train, maxlen=maxlen)\n",
        "  x_test = pad_sequences(x_test, maxlen=maxlen)\n",
        "  print('x_train shape:', x_train.shape)\n",
        "  print('x_test shape:', x_test.shape)\n",
        "\n",
        "  print('Процесс обучения...')\n",
        "  history4 = model4.fit(x_train, y_train,\n",
        "            batch_size=batch_size3,\n",
        "            epochs=10, # увеличьте при необходимости\n",
        "            validation_data=(x_test, y_test))\n",
        "  score4, acc4 = model4.evaluate(x_test, y_test,\n",
        "                              batch_size=batch_size)\n",
        "  print(\"Результат при тестировании: \", float(round((score4*100),2)), \"%\")\n",
        "  print(\"Тестовая точность: \", float(round((acc4*100),2)), \"%\")"
      ],
      "metadata": {
        "id": "dtU3H9lcjikJ"
      },
      "execution_count": 41,
      "outputs": []
    },
    {
      "cell_type": "code",
      "source": [
        "train_nn4()"
      ],
      "metadata": {
        "colab": {
          "base_uri": "https://localhost:8080/"
        },
        "id": "X1RPlQFVlGR7",
        "outputId": "90968825-9a93-4cae-98ee-d0f4b64b893c"
      },
      "execution_count": 42,
      "outputs": [
        {
          "output_type": "stream",
          "name": "stdout",
          "text": [
            "Построение модели_4...\n",
            "Загрузка данных...\n",
            "25000 тренировочные последовательности\n",
            "25000 тестовые последовательности\n",
            "Pad последовательности (примеров в x единицу времени)\n",
            "x_train shape: (25000, 100)\n",
            "x_test shape: (25000, 100)\n",
            "Процесс обучения...\n",
            "Epoch 1/10\n",
            "98/98 [==============================] - 192s 2s/step - loss: 0.5300 - accuracy: 0.7180 - val_loss: 0.3450 - val_accuracy: 0.8471\n",
            "Epoch 2/10\n",
            "98/98 [==============================] - 200s 2s/step - loss: 0.3118 - accuracy: 0.8782 - val_loss: 0.3574 - val_accuracy: 0.8509\n",
            "Epoch 3/10\n",
            "98/98 [==============================] - 202s 2s/step - loss: 0.2434 - accuracy: 0.9082 - val_loss: 0.4709 - val_accuracy: 0.8386\n",
            "Epoch 4/10\n",
            "98/98 [==============================] - 202s 2s/step - loss: 0.1905 - accuracy: 0.9281 - val_loss: 0.4344 - val_accuracy: 0.8410\n",
            "Epoch 5/10\n",
            "98/98 [==============================] - 200s 2s/step - loss: 0.1443 - accuracy: 0.9470 - val_loss: 0.4675 - val_accuracy: 0.8380\n",
            "Epoch 6/10\n",
            "98/98 [==============================] - 202s 2s/step - loss: 0.1154 - accuracy: 0.9586 - val_loss: 0.5466 - val_accuracy: 0.8311\n",
            "Epoch 7/10\n",
            "98/98 [==============================] - 200s 2s/step - loss: 0.0991 - accuracy: 0.9651 - val_loss: 0.6905 - val_accuracy: 0.8269\n",
            "Epoch 8/10\n",
            "98/98 [==============================] - 199s 2s/step - loss: 0.0769 - accuracy: 0.9732 - val_loss: 0.7199 - val_accuracy: 0.8275\n",
            "Epoch 9/10\n",
            "98/98 [==============================] - 200s 2s/step - loss: 0.0613 - accuracy: 0.9784 - val_loss: 0.9428 - val_accuracy: 0.8240\n",
            "Epoch 10/10\n",
            "98/98 [==============================] - 199s 2s/step - loss: 0.0561 - accuracy: 0.9813 - val_loss: 0.8593 - val_accuracy: 0.8243\n",
            "196/196 [==============================] - 41s 208ms/step - loss: 0.8593 - accuracy: 0.8243\n",
            "Результат при тестировании:  85.93 %\n",
            "Тестовая точность:  82.43 %\n"
          ]
        }
      ]
    },
    {
      "cell_type": "markdown",
      "source": [
        "**Вывод:** *удалось немного повысить точность! Но **val_loss** высоковат*"
      ],
      "metadata": {
        "id": "qvucd3IcpWli"
      }
    },
    {
      "cell_type": "markdown",
      "source": [
        "### Upgrade model4 to model5\n",
        "Меньше эпох и optimizer='Nadam'"
      ],
      "metadata": {
        "id": "kHXyaiogpvNA"
      }
    },
    {
      "cell_type": "code",
      "source": [
        "def train_nn5():\n",
        "  print('Построение модели_5...')\n",
        "  model5 = Sequential()\n",
        "  model5.add(Embedding(max_features, 256))\n",
        "  model5.add(LSTM(128, dropout=0.4, recurrent_dropout=0.4))\n",
        "  model5.add(Dense(64, activation='relu'))\n",
        "  model5.add(Dropout(0.4))\n",
        "  model5.add(Dense(32, activation='LeakyReLU'))\n",
        "  model5.add(Dropout(0.4))\n",
        "  model5.add(Dense(16, activation='elu'))\n",
        "  model5.add(Dropout(0.2))\n",
        "  model5.add(Dense(1, activation='sigmoid'))\n",
        "\n",
        "  print('Загрузка данных...')\n",
        " #стоит попробовать использовать другие оптимайзер и другие конфигурации оптимайзеров\n",
        "  model5.compile(loss='binary_crossentropy',\n",
        "                optimizer='Nadam',\n",
        "                metrics=['accuracy'])\n",
        "  (x_train, y_train), (x_test, y_test) = imdb.load_data(num_words=max_features)\n",
        "  print(len(x_train), 'тренировочные последовательности')\n",
        "  print(len(x_test), 'тестовые последовательности')\n",
        "\n",
        "  print('Pad последовательности (примеров в x единицу времени)')\n",
        "  x_train = pad_sequences(x_train, maxlen=maxlen)\n",
        "  x_test = pad_sequences(x_test, maxlen=maxlen)\n",
        "  print('x_train shape:', x_train.shape)\n",
        "  print('x_test shape:', x_test.shape)\n",
        "\n",
        "  print('Процесс обучения...')\n",
        "  history5 = model5.fit(x_train, y_train,\n",
        "            batch_size=batch_size3,\n",
        "            epochs=8, # was 10\n",
        "            validation_data=(x_test, y_test))\n",
        "  score5, acc5 = model5.evaluate(x_test, y_test,\n",
        "                              batch_size=batch_size)\n",
        "  print(\"Результат при тестировании: \", float(round((score5*100),2)), \"%\")\n",
        "  print(\"Тестовая точность: \", float(round((acc5*100),2)), \"%\")"
      ],
      "metadata": {
        "id": "mo87Ri8nqaZs"
      },
      "execution_count": 43,
      "outputs": []
    },
    {
      "cell_type": "code",
      "source": [
        "train_nn5()"
      ],
      "metadata": {
        "colab": {
          "base_uri": "https://localhost:8080/"
        },
        "id": "caDFVt0wuUEG",
        "outputId": "125f64e1-19bb-4036-ff0f-a06978c9ea65"
      },
      "execution_count": 44,
      "outputs": [
        {
          "output_type": "stream",
          "name": "stdout",
          "text": [
            "Построение модели_5...\n",
            "Загрузка данных...\n",
            "25000 тренировочные последовательности\n",
            "25000 тестовые последовательности\n",
            "Pad последовательности (примеров в x единицу времени)\n",
            "x_train shape: (25000, 100)\n",
            "x_test shape: (25000, 100)\n",
            "Процесс обучения...\n",
            "Epoch 1/8\n",
            "98/98 [==============================] - 209s 2s/step - loss: 0.5013 - accuracy: 0.7415 - val_loss: 0.3457 - val_accuracy: 0.8491\n",
            "Epoch 2/8\n",
            "98/98 [==============================] - 202s 2s/step - loss: 0.2924 - accuracy: 0.8862 - val_loss: 0.3559 - val_accuracy: 0.8492\n",
            "Epoch 3/8\n",
            "98/98 [==============================] - 200s 2s/step - loss: 0.2240 - accuracy: 0.9150 - val_loss: 0.3556 - val_accuracy: 0.8466\n",
            "Epoch 4/8\n",
            "98/98 [==============================] - 202s 2s/step - loss: 0.1761 - accuracy: 0.9349 - val_loss: 0.4319 - val_accuracy: 0.8411\n",
            "Epoch 5/8\n",
            "98/98 [==============================] - 205s 2s/step - loss: 0.1353 - accuracy: 0.9515 - val_loss: 0.4984 - val_accuracy: 0.8329\n",
            "Epoch 6/8\n",
            "98/98 [==============================] - 204s 2s/step - loss: 0.1063 - accuracy: 0.9622 - val_loss: 0.6447 - val_accuracy: 0.8292\n",
            "Epoch 7/8\n",
            "98/98 [==============================] - 208s 2s/step - loss: 0.0918 - accuracy: 0.9676 - val_loss: 0.6148 - val_accuracy: 0.8250\n",
            "Epoch 8/8\n",
            "98/98 [==============================] - 196s 2s/step - loss: 0.0744 - accuracy: 0.9743 - val_loss: 0.8013 - val_accuracy: 0.8266\n",
            "196/196 [==============================] - 40s 203ms/step - loss: 0.8013 - accuracy: 0.8266\n",
            "Результат при тестировании:  80.13 %\n",
            "Тестовая точность:  82.66 %\n"
          ]
        }
      ]
    },
    {
      "cell_type": "markdown",
      "source": [
        "**Вывод:** *удалось опять же немного повысить точность и снизить **val_loss** по сравнению с model4*"
      ],
      "metadata": {
        "id": "3tIcK7xdIfvE"
      }
    },
    {
      "cell_type": "markdown",
      "source": [
        "##\n",
        "\n",
        "Model3 выглядит более-менее прилично, по сравнению с остальными.\n",
        "Попробуем её улучшить..."
      ],
      "metadata": {
        "id": "4bMa1pX4JDD3"
      }
    },
    {
      "cell_type": "markdown",
      "source": [
        "### Upgrade model3 to model6:"
      ],
      "metadata": {
        "id": "Bcpzh6dyKhju"
      }
    },
    {
      "cell_type": "code",
      "source": [
        "from keras.layers import SimpleRNN"
      ],
      "metadata": {
        "id": "L02C9ZSPKvS_"
      },
      "execution_count": 46,
      "outputs": []
    },
    {
      "cell_type": "code",
      "source": [
        "def train_nn6():\n",
        "  print('Построение модели_6...')\n",
        "  model6 = Sequential()\n",
        "  model6.add(Embedding(max_features, 256))  # was changed\n",
        "  model6.add(LSTM(128, dropout=0.6, recurrent_dropout=0.4))\n",
        "  #model6.add(SimpleRNN(64, dropout=0.4, recurrent_dropout=0.2)) - не особо помогло\n",
        "  model6.add(Dense(32, activation='relu'))\n",
        "  model6.add(Dense(1, activation='sigmoid'))\n",
        "  print('Загрузка данных...')\n",
        " #стоит попробовать использовать другие оптимайзер и другие конфигурации оптимайзеров\n",
        "  model6.compile(loss='binary_crossentropy',\n",
        "                optimizer='Nadam', # was Adam.., # Nadam - the best\n",
        "                metrics=['accuracy'])\n",
        "  (x_train, y_train), (x_test, y_test) = imdb.load_data(num_words=max_features)\n",
        "  print(len(x_train), 'тренировочные последовательности')\n",
        "  print(len(x_test), 'тестовые последовательности')\n",
        "\n",
        "  print('Pad последовательности (примеров в x единицу времени)')\n",
        "  x_train = pad_sequences(x_train, maxlen=maxlen)\n",
        "  x_test = pad_sequences(x_test, maxlen=maxlen)\n",
        "  print('x_train shape:', x_train.shape)\n",
        "  print('x_test shape:', x_test.shape)\n",
        "\n",
        "  print('Процесс обучения...')\n",
        "  history6 = model6.fit(x_train, y_train,\n",
        "            batch_size=batch_size3,\n",
        "            epochs=3, # увеличьте при необходимости - bad idea!\n",
        "            validation_data=(x_test, y_test))\n",
        "  score6, acc6 = model6.evaluate(x_test, y_test,\n",
        "                              batch_size=batch_size)\n",
        "  print(\"Результат при тестировании: \", float(round((score6*100),2)), \"%\")\n",
        "  print(\"Тестовая точность: \", float(round((acc6*100),2)), \"%\")"
      ],
      "metadata": {
        "id": "ZrqK1yjwLdqd"
      },
      "execution_count": 64,
      "outputs": []
    },
    {
      "cell_type": "code",
      "source": [
        "train_nn6()"
      ],
      "metadata": {
        "colab": {
          "base_uri": "https://localhost:8080/"
        },
        "id": "1GG5y76CMTj6",
        "outputId": "c0ff7055-41ae-4bdc-edd6-4dd247263717"
      },
      "execution_count": 65,
      "outputs": [
        {
          "output_type": "stream",
          "name": "stdout",
          "text": [
            "Построение модели_6...\n",
            "Загрузка данных...\n",
            "25000 тренировочные последовательности\n",
            "25000 тестовые последовательности\n",
            "Pad последовательности (примеров в x единицу времени)\n",
            "x_train shape: (25000, 100)\n",
            "x_test shape: (25000, 100)\n",
            "Процесс обучения...\n",
            "Epoch 1/3\n",
            "98/98 [==============================] - 214s 2s/step - loss: 0.4939 - accuracy: 0.7545 - val_loss: 0.3693 - val_accuracy: 0.8350\n",
            "Epoch 2/3\n",
            "98/98 [==============================] - 207s 2s/step - loss: 0.2839 - accuracy: 0.8833 - val_loss: 0.3542 - val_accuracy: 0.8463\n",
            "Epoch 3/3\n",
            "98/98 [==============================] - 203s 2s/step - loss: 0.2286 - accuracy: 0.9086 - val_loss: 0.3423 - val_accuracy: 0.8495\n",
            "196/196 [==============================] - 41s 209ms/step - loss: 0.3423 - accuracy: 0.8495\n",
            "Результат при тестировании:  34.23 %\n",
            "Тестовая точность:  84.95 %\n"
          ]
        }
      ]
    },
    {
      "cell_type": "markdown",
      "source": [
        "**В итоге** *удалось добиться лучшей совокупности показателей модели_6 (Результат при тестировании: 34.23 %, Тестовая точность: 84.95 %) при модификации изначального набора слоёв (без добвления дополнительных), применении оптимизатора 'Nadam' и уменьшения количества эпох.* 🤕"
      ],
      "metadata": {
        "id": "0AMPW3M0FgGS"
      }
    }
  ]
}