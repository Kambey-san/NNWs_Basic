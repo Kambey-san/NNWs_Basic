{
  "cells": [
    {
      "cell_type": "markdown",
      "metadata": {
        "id": "view-in-github",
        "colab_type": "text"
      },
      "source": [
        "<a href=\"https://colab.research.google.com/github/Kambey-san/NNWs_Basic/blob/HW_lesson_05/HW_lesson_05_Task_3.ipynb\" target=\"_parent\"><img src=\"https://colab.research.google.com/assets/colab-badge.svg\" alt=\"Open In Colab\"/></a>"
      ]
    },
    {
      "cell_type": "markdown",
      "source": [
        "## Урок 5. Рекуррентные нейронные сети/ домашнее задание\n",
        "3. Попробуйте реализовать нейронную сеть архитектуры LSTM на numpy"
      ],
      "metadata": {
        "id": "yflUlctQJAS0"
      }
    },
    {
      "cell_type": "code",
      "execution_count": 1,
      "metadata": {
        "id": "TFiq2c_fH2fW"
      },
      "outputs": [],
      "source": [
        "import numpy as np\n",
        "from collections import defaultdict\n",
        "import matplotlib.pyplot as plt\n",
        "%matplotlib inline"
      ]
    },
    {
      "cell_type": "markdown",
      "metadata": {
        "id": "zDHzQmlqH2fd"
      },
      "source": [
        "## Генерируем датасет"
      ]
    },
    {
      "cell_type": "markdown",
      "metadata": {
        "id": "Jr_HXekNH2fg"
      },
      "source": [
        "Сгенерируем простой набор данных -- последовательности вида: `a a a a b b b b EOS`, `a a b b EOS`, `a a a a a b b b b b EOS`, где `EOS` — специальный символ, обозначающий конец последовательности. Задача состоит в том, чтобы предсказать следующий токен $𝑡_𝑛$, то есть `a`,`b`, `EOS` или неизвестный токен `UNK`, учитывая последовательность токенов $\\{ t_{1}, t_{2}, \\dots , t_{n-1}\\}$, и мы должны обрабатывать последовательности последовательно. Таким образом, сети необходимо будет узнать, что, например. 5 `b`s и токен EOS появится после 5 `a`s."
      ]
    },
    {
      "cell_type": "code",
      "execution_count": 2,
      "metadata": {
        "id": "7dAcKbgJH2fi"
      },
      "outputs": [],
      "source": [
        "# начальное значение для получения одинакового набора данных\n",
        "np.random.seed(42)"
      ]
    },
    {
      "cell_type": "code",
      "execution_count": 3,
      "metadata": {
        "colab": {
          "base_uri": "https://localhost:8080/"
        },
        "id": "RL7Wz_qHH2fj",
        "outputId": "ff788188-e4d0-4576-bc43-4a3fb9c383ba"
      },
      "outputs": [
        {
          "output_type": "stream",
          "name": "stdout",
          "text": [
            "Один образец из сгенерированного набора данных:\n",
            "['a', 'a', 'a', 'a', 'a', 'a', 'a', 'b', 'b', 'b', 'b', 'b', 'b', 'b', 'EOS']\n"
          ]
        }
      ],
      "source": [
        "def generate_dataset(num_sequences=100):\n",
        "    \"\"\"\n",
        "    Генерирует несколько последовательностей в качестве нашего набора данных.\n",
        "\n",
        "    Args:\n",
        "     `num_sequences`: количество генерируемых последовательностей\n",
        "\n",
        "    Возвращает список последовательностей.\n",
        "    \"\"\"\n",
        "    samples = []\n",
        "\n",
        "    for _ in range(num_sequences):\n",
        "        num_tokens = np.random.randint(1, 10)\n",
        "        sample = ['a'] * num_tokens + ['b'] * num_tokens + ['EOS']\n",
        "        samples.append(sample)\n",
        "\n",
        "    return samples\n",
        "\n",
        "\n",
        "sequences = generate_dataset()\n",
        "\n",
        "print('Один образец из сгенерированного набора данных:')\n",
        "print(sequences[0])"
      ]
    },
    {
      "cell_type": "markdown",
      "metadata": {
        "id": "niUeUSMcH2fo"
      },
      "source": [
        "## Представление токенов в виде индексов"
      ]
    },
    {
      "cell_type": "markdown",
      "metadata": {
        "id": "LGjjOZSMH2fp"
      },
      "source": [
        "Для **one-hot encoding** присваиваем каждому возможному слову в нашем словаре индекс. Т.о. создаём два словаря: один позволяет переходить от данного слова к соответствующему ему индексу в нашем словаре, а другой — в обратном направлении (word_to_idx и idx_to_word). Ключевое слово num_words определяет максимальный размер нашего словаря. Если будет запрос на доступ к слову, которого нет в нашем словаре, оно автоматически заменяется токеном UNK или соответствующим ему индексом."
      ]
    },
    {
      "cell_type": "code",
      "execution_count": 4,
      "metadata": {
        "colab": {
          "base_uri": "https://localhost:8080/"
        },
        "id": "QHouZBAaH2fq",
        "outputId": "80db3b00-baec-4dea-f03b-2f3187966f27"
      },
      "outputs": [
        {
          "output_type": "stream",
          "name": "stdout",
          "text": [
            "Имеем 100 предложений и 4 уникальных токенов в датасете (включая UNK).\n",
            "\n",
            "Индекс 'b' равен 1\n",
            "Слово, соответствующее индексу 1, --> 'b'\n"
          ]
        }
      ],
      "source": [
        "def sequences_to_dicts(sequences):\n",
        "    \"\"\"\n",
        "    Создает словари word_to_idx и idx_to_word для списка последовательностей.\n",
        "    \"\"\"\n",
        "    # Немного магии Python для выравнивания вложенного списка\n",
        "    flatten = lambda l: [item for sublist in l for item in sublist]\n",
        "\n",
        "    # Сглаживаем набор данных\n",
        "    all_words = flatten(sequences)\n",
        "\n",
        "    # Подсчет количества вхождений слов\n",
        "    word_count = defaultdict(int)\n",
        "    for word in flatten(sequences):\n",
        "        word_count[word] += 1\n",
        "\n",
        "    # Сортировка по частоте\n",
        "    word_count = sorted(list(word_count.items()), key=lambda l: -l[1])\n",
        "\n",
        "    # Создание списока уникальных слов\n",
        "    unique_words = [item[0] for item in word_count]\n",
        "\n",
        "    # Добавить токен UNK в список слов\n",
        "    unique_words.append('UNK')\n",
        "\n",
        "    # Подсчет количества последовательностей и количества уникальных слов\n",
        "    num_sentences, vocab_size = len(sequences), len(unique_words)\n",
        "\n",
        "    # Создаем словари, чтобы переходить от слова к индексу и обратно\n",
        "    # Если слова нет словаре, присваиваем его токену «UNK».\n",
        "    word_to_idx = defaultdict(lambda: num_words)\n",
        "    idx_to_word = defaultdict(lambda: 'UNK')\n",
        "\n",
        "    # Заполняем словари\n",
        "    for idx, word in enumerate(unique_words):\n",
        "        word_to_idx[word] = idx\n",
        "        idx_to_word[idx] = word\n",
        "\n",
        "    return word_to_idx, idx_to_word, num_sentences, vocab_size\n",
        "\n",
        "\n",
        "word_to_idx, idx_to_word, num_sequences, vocab_size = sequences_to_dicts(sequences)\n",
        "\n",
        "print(f'Имеем {num_sequences} предложений и {len(word_to_idx)} уникальных токенов в датасете (включая UNK).\\n')\n",
        "print('Индекс \\'b\\' равен', word_to_idx['b'])\n",
        "print(f'Слово, соответствующее индексу 1, --> \\'{idx_to_word[1]}\\'')"
      ]
    },
    {
      "cell_type": "markdown",
      "metadata": {
        "id": "yNIIfB8PH2ft"
      },
      "source": [
        "## Разделение набора данных"
      ]
    },
    {
      "cell_type": "markdown",
      "metadata": {
        "id": "HbX3jXDVH2fu"
      },
      "source": [
        "Cоздаём входные данные и целевые значения (цели) для каждой последовательности и разделяем их на обучающие, проверочные и тестовые наборы. 80%, 10% и 10%\n",
        "\n",
        "Использую класс Dataset PyTorch для создания простого набора данных, из которого можно получить пары (входные данные - целевые значения) для каждой из последовательностей."
      ]
    },
    {
      "cell_type": "code",
      "execution_count": 5,
      "metadata": {
        "colab": {
          "base_uri": "https://localhost:8080/"
        },
        "id": "LWyQ_QmJH2fv",
        "outputId": "a11c1bc2-f04c-47ca-cd37-86cbd92ea819"
      },
      "outputs": [
        {
          "output_type": "stream",
          "name": "stdout",
          "text": [
            "В обучающем наборе 80 образцов.\n",
            "В валидационном наборе 10 образцов.\n",
            "В тестовом наборе 10 образцов.\n"
          ]
        }
      ],
      "source": [
        "from torch.utils import data\n",
        "\n",
        "class Dataset(data.Dataset):\n",
        "    def __init__(self, inputs, targets):\n",
        "        self.inputs = inputs\n",
        "        self.targets = targets\n",
        "\n",
        "    def __len__(self):\n",
        "        # Возвращает размер датасета\n",
        "        return len(self.targets)\n",
        "\n",
        "    def __getitem__(self, index):\n",
        "        # Входные данные и цели по заданному индексу\n",
        "        X = self.inputs[index]\n",
        "        y = self.targets[index]\n",
        "\n",
        "        return X, y\n",
        "\n",
        "\n",
        "def create_datasets(sequences, dataset_class, p_train=0.8, p_val=0.1, p_test=0.1):\n",
        "    # размеры разделов\n",
        "    num_train = int(len(sequences)*p_train)\n",
        "    num_val = int(len(sequences)*p_val)\n",
        "    num_test = int(len(sequences)*p_test)\n",
        "\n",
        "   # Разделяет последовательности на разделы\n",
        "    sequences_train = sequences[:num_train]\n",
        "    sequences_val = sequences[num_train:num_train+num_val]\n",
        "    sequences_test = sequences[-num_test:]\n",
        "\n",
        "    def get_inputs_targets_from_sequences(sequences):\n",
        "        # Определияет пустые списки\n",
        "        inputs, targets = [], []\n",
        "\n",
        "       # Добавляем входные данные и целевые значения s.t., оба списка содержат L-1 слов предложения длиной L\n",
        "       # (!) целевые значения сдвигаются вправо на единицу, чтобы предсказать следующее слово\n",
        "        for sequence in sequences:\n",
        "            inputs.append(sequence[:-1])\n",
        "            targets.append(sequence[1:])\n",
        "\n",
        "        return inputs, targets\n",
        "\n",
        "    # Получаем входные данные и цели для каждого раздела\n",
        "    inputs_train, targets_train = get_inputs_targets_from_sequences(sequences_train)\n",
        "    inputs_val, targets_val = get_inputs_targets_from_sequences(sequences_val)\n",
        "    inputs_test, targets_test = get_inputs_targets_from_sequences(sequences_test)\n",
        "\n",
        "    # Создаём датасеты\n",
        "    training_set = dataset_class(inputs_train, targets_train)\n",
        "    validation_set = dataset_class(inputs_val, targets_val)\n",
        "    test_set = dataset_class(inputs_test, targets_test)\n",
        "\n",
        "    return training_set, validation_set, test_set\n",
        "\n",
        "\n",
        "training_set, validation_set, test_set = create_datasets(sequences, Dataset)\n",
        "\n",
        "print(f'В обучающем наборе {len(training_set)} образцов.')\n",
        "print(f'В валидационном наборе {len(validation_set)} образцов.')\n",
        "print(f'В тестовом наборе {len(test_set)} образцов.')"
      ]
    },
    {
      "cell_type": "markdown",
      "metadata": {
        "id": "nXblEZQUH2fy"
      },
      "source": [
        "## Прожариваем! (one-hot encodings)"
      ]
    },
    {
      "cell_type": "markdown",
      "metadata": {
        "id": "3fKKc5GMH2fz"
      },
      "source": [
        "Форма one-hot encodings равна словарному запасу. Определяем функцию one-hot encoding для автоматического кодирования предложения и параметры one_hot_encode (idx, vocab_size):"
      ]
    },
    {
      "cell_type": "code",
      "execution_count": 6,
      "metadata": {
        "colab": {
          "base_uri": "https://localhost:8080/"
        },
        "id": "DQ9rhynEH2f0",
        "outputId": "ac1c50c9-36fb-40b9-9c17-f74f55a6152e"
      },
      "outputs": [
        {
          "output_type": "stream",
          "name": "stdout",
          "text": [
            "One-hot encoding 'a' имеет форму (4,).\n",
            "One-hot encoding 'a b' имеет форму (2, 4, 1).\n"
          ]
        }
      ],
      "source": [
        "# Cоздадим простую функцию, которая возвращает представление заданного индекса слова в нашем словаре\n",
        "\n",
        "def one_hot_encode(idx, vocab_size):\n",
        "    \"\"\"\n",
        "    One-hot кодирует одно слово, учитывая его индекс и размер словаря.\n",
        "\n",
        "    Args:\n",
        "     `idx`: индекс данного слова\n",
        "     `vocab_size`: размер словаря\n",
        "\n",
        "     Возвращает 1-D длину numpy массива `vocab_size`.\n",
        "    \"\"\"\n",
        "    # Инициализация закодированного массиваа\n",
        "    one_hot = np.zeros(vocab_size)\n",
        "\n",
        "    # Установка one_hot на единицу\n",
        "    one_hot[idx] = 1.0\n",
        "\n",
        "    return one_hot\n",
        "\n",
        "\n",
        "def one_hot_encode_sequence(sequence, vocab_size):\n",
        "    \"\"\"\n",
        "    One-hot кодирует последовательность слов с фиксированным размером словаря.\n",
        "\n",
        "    Args:\n",
        "     `sentence`: список слов для кодирования\n",
        "     `vocab_size`: размер словаря\n",
        "\n",
        "    Возвращает 3-D numpy массив формы (num words, vocab size, 1).\n",
        "    \"\"\"\n",
        "    # Кодируем каждое слово в предложении\n",
        "    encoding = np.array([one_hot_encode(word_to_idx[word], vocab_size) for word in sequence])\n",
        "\n",
        "    # Reshape encoding (num words, vocab size, 1)\n",
        "    encoding = encoding.reshape(encoding.shape[0], encoding.shape[1], 1)\n",
        "\n",
        "    return encoding\n",
        "\n",
        "\n",
        "test_word = one_hot_encode(word_to_idx['a'], vocab_size)\n",
        "print(f'One-hot encoding \\'a\\' имеет форму {test_word.shape}.')\n",
        "\n",
        "test_sentence = one_hot_encode_sequence(['a', 'b'], vocab_size)\n",
        "print(f'One-hot encoding \\'a b\\' имеет форму {test_sentence.shape}.')"
      ]
    },
    {
      "cell_type": "markdown",
      "metadata": {
        "id": "nRTaFPBOH2f2"
      },
      "source": [
        "Это были только подготовительные работы... Теперь за нейронку!"
      ]
    },
    {
      "cell_type": "markdown",
      "metadata": {
        "id": "hJX8qx24H2f3"
      },
      "source": [
        "### Размеры..."
      ]
    },
    {
      "cell_type": "code",
      "execution_count": 7,
      "metadata": {
        "id": "DXT9q8hqH2f4"
      },
      "outputs": [],
      "source": [
        "hidden_size = 50 # Количество измерений в скрытом состоянии\n",
        "vocab_size  = len(word_to_idx) # Размер используемого словаря"
      ]
    },
    {
      "cell_type": "markdown",
      "metadata": {
        "id": "DWrqHhR2H2f5"
      },
      "source": [
        "### Функция для инициализации ортогональных параметров"
      ]
    },
    {
      "cell_type": "code",
      "execution_count": 8,
      "metadata": {
        "id": "zli4NLfFH2f6"
      },
      "outputs": [],
      "source": [
        "# Функция инициализации ортогональных параметров\n",
        "\n",
        "def init_orthogonal(param):\n",
        "    \"\"\"\n",
        "    Инициализирует ортогональные параметры весов.\n",
        "\n",
        "    \"\"\"\n",
        "    if param.ndim < 2:\n",
        "        raise ValueError(\"Поддерживаются только параметры с двумя или более измерениями.\")\n",
        "\n",
        "    rows, cols = param.shape\n",
        "\n",
        "    new_param = np.random.randn(rows, cols)\n",
        "\n",
        "    if rows < cols:\n",
        "        new_param = new_param.T\n",
        "\n",
        "    # Вычисление QR-факторизации\n",
        "    q, r = np.linalg.qr(new_param)\n",
        "\n",
        "    # Делает Q однообразным в соответствии с https://arxiv.org/pdf/math-ph/0609050.pdf\n",
        "    d = np.diag(r, 0)\n",
        "    ph = np.sign(d)\n",
        "    q *= ph\n",
        "\n",
        "    if rows < cols:\n",
        "        q = q.T\n",
        "\n",
        "    new_param = q\n",
        "\n",
        "    return new_param"
      ]
    },
    {
      "cell_type": "markdown",
      "metadata": {
        "id": "hRZVSYHkH2f7"
      },
      "source": [
        "### Определения функций активации"
      ]
    },
    {
      "cell_type": "markdown",
      "metadata": {
        "id": "UidqYU_0H2f8"
      },
      "source": [
        "#### Sigmoid"
      ]
    },
    {
      "cell_type": "code",
      "execution_count": 9,
      "metadata": {
        "id": "bc4JQZPpH2f9"
      },
      "outputs": [],
      "source": [
        "def sigmoid(x, derivative=False):\n",
        "    \"\"\"\n",
        "    Вычисляет поэлементную функцию активации сигмоида для массива x.\n",
        "\n",
        "    Args:\n",
        "     `x`: массив, к которому применяется функция\n",
        "     `derivative`: если установлено значение True, будет возвращена производная вместо прямого прохода.\n",
        "    \"\"\"\n",
        "    x_safe = x + 1e-12\n",
        "    f = 1 / (1 + np.exp(-x_safe))\n",
        "\n",
        "    if derivative: # Возвращает производную функции, оцененную в точке x\n",
        "        return f * (1 - f)\n",
        "    else: # Возвращает прямой проход функции в точке x\n",
        "        return f"
      ]
    },
    {
      "cell_type": "markdown",
      "metadata": {
        "id": "BkLSvyX-H2f_"
      },
      "source": [
        "#### Hyperbolic Tangent (tanh)"
      ]
    },
    {
      "cell_type": "code",
      "execution_count": 10,
      "metadata": {
        "id": "SrWEK4sTH2gB"
      },
      "outputs": [],
      "source": [
        "def tanh(x, derivative=False):\n",
        "    \"\"\"\n",
        "    Вычисляет поэлементную функцию активации tanh для массива x.\n",
        "\n",
        "    Args:\n",
        "     `x`: массив, к которому применяется функция\n",
        "     `derivative`: если установлено значение True, будет возвращена производная вместо прямого прохода.\n",
        "    \"\"\"\n",
        "    x_safe = x + 1e-12\n",
        "    f = (np.exp(x_safe)-np.exp(-x_safe))/(np.exp(x_safe)+np.exp(-x_safe))\n",
        "\n",
        "    if derivative: # Возвращает производную функции, оцененную в точке x\n",
        "        return 1-f**2\n",
        "    else: # Возвращает прямой проход функции в точке x\n",
        "        return f"
      ]
    },
    {
      "cell_type": "markdown",
      "metadata": {
        "id": "bZyfBBuMH2gE"
      },
      "source": [
        "#### Softmax"
      ]
    },
    {
      "cell_type": "code",
      "execution_count": 11,
      "metadata": {
        "id": "tLMqnPahH2gF"
      },
      "outputs": [],
      "source": [
        "def softmax(x, derivative=False):\n",
        "    \"\"\"\n",
        "    Вычисляет softmax для массива x.\n",
        "\n",
        "    Args:\n",
        "     `x`: массив, к которому применяется функция\n",
        "     `derivative`: если установлено значение True, будет возвращена производная вместо прямого прохода.\n",
        "    \"\"\"\n",
        "    x_safe = x + 1e-12\n",
        "    f = np.exp(x_safe) / np.sum(np.exp(x_safe))\n",
        "\n",
        "    if derivative: # Возвращает производную функции, оцененную в точке x\n",
        "        pass\n",
        "    else:  # Возвращает прямой проход функции в точке x\n",
        "        return f"
      ]
    },
    {
      "cell_type": "markdown",
      "metadata": {
        "id": "Pxi7sbLus82R"
      },
      "source": [
        "### Оптимизация"
      ]
    },
    {
      "cell_type": "code",
      "execution_count": 12,
      "metadata": {
        "id": "N4yTZYkBtAVr"
      },
      "outputs": [],
      "source": [
        "# как Optimizer.step() в PyTorch\n",
        "def update_parameters(params, grads, lr=1e-3):\n",
        "    for param, grad in zip(params, grads):\n",
        "        param -= lr * grad\n",
        "\n",
        "    return params"
      ]
    },
    {
      "cell_type": "markdown",
      "metadata": {
        "id": "Lyq9XsmHH2gJ"
      },
      "source": [
        "## Инициализируем LSTM"
      ]
    },
    {
      "cell_type": "markdown",
      "metadata": {
        "id": "Bo4B4fXAH2gK"
      },
      "source": [
        "Реализуем цикл прямого и обратного прохода, оптимизации и обучения для LSTM"
      ]
    },
    {
      "cell_type": "code",
      "execution_count": 13,
      "metadata": {
        "id": "AxcIsobNH2gL"
      },
      "outputs": [],
      "source": [
        "# Размер объединенного скрытого входного вектора\n",
        "z_size = hidden_size + vocab_size"
      ]
    },
    {
      "cell_type": "code",
      "execution_count": 14,
      "metadata": {
        "id": "WZ71Z0XtH2gM"
      },
      "outputs": [],
      "source": [
        "# Функция инициализации LSTM\n",
        "\n",
        "def init_lstm(hidden_size, vocab_size, z_size):\n",
        "    \"\"\"\n",
        "    Инициализация конфигурации LSTM.\n",
        "\n",
        "    Args:\n",
        "     `hidden_size`: размеры скрытого состояния\n",
        "     `vocab_size`: размеры словаря\n",
        "     `z_size`: размеры объединенного ввода\n",
        "    \"\"\"\n",
        "    # Матрица весов фильтра \"забвения\" (forget gate)\n",
        "    W_f = np.random.randn(hidden_size, z_size)\n",
        "\n",
        "    # Смещение для forget gate\n",
        "    b_f = np.zeros((hidden_size, 1))\n",
        "\n",
        "    # Матрица весов (input gate)\n",
        "    W_i = np.random.randn(hidden_size, z_size)\n",
        "\n",
        "    # Смещение для input gate\n",
        "    b_i = np.zeros((hidden_size, 1))\n",
        "\n",
        "    # Матрица весов (candidate)\n",
        "    W_g = np.random.randn(hidden_size, z_size)\n",
        "\n",
        "    # Смещение для candidate\n",
        "    b_g = np.zeros((hidden_size, 1))\n",
        "\n",
        "    # Матрица весов выходного шлюза\n",
        "    W_o = np.random.randn(hidden_size, z_size)\n",
        "    b_o = np.zeros((hidden_size, 1))\n",
        "\n",
        "    # Матрица весов отношения hidden-state к output\n",
        "    W_v = np.random.randn(vocab_size, hidden_size)\n",
        "    b_v = np.zeros((vocab_size, 1))\n",
        "\n",
        "    # Инициализируйте весов\n",
        "    W_f = init_orthogonal(W_f)\n",
        "    W_i = init_orthogonal(W_i)\n",
        "    W_g = init_orthogonal(W_g)\n",
        "    W_o = init_orthogonal(W_o)\n",
        "    W_v = init_orthogonal(W_v)\n",
        "\n",
        "    return W_f, W_i, W_g, W_o, W_v, b_f, b_i, b_g, b_o, b_v\n",
        "\n",
        "\n",
        "params = init_lstm(hidden_size=hidden_size, vocab_size=vocab_size, z_size=z_size)"
      ]
    },
    {
      "cell_type": "markdown",
      "metadata": {
        "id": "nrGLfOO2H2gO"
      },
      "source": [
        "## Прямой проход"
      ]
    },
    {
      "cell_type": "markdown",
      "metadata": {
        "id": "SENytrvnH2gP"
      },
      "source": [
        "Объединяем уравнения в фрагменты кода:"
      ]
    },
    {
      "cell_type": "code",
      "execution_count": 15,
      "metadata": {
        "colab": {
          "base_uri": "https://localhost:8080/"
        },
        "id": "xo_D0q_RH2gQ",
        "outputId": "e3afad86-c96a-430b-e944-5e973a5b5559"
      },
      "outputs": [
        {
          "output_type": "stream",
          "name": "stdout",
          "text": [
            "Входящая последовательность:\n",
            "['a', 'a', 'a', 'a', 'a', 'a', 'a', 'b', 'b', 'b', 'b', 'b', 'b', 'b']\n",
            "\n",
            "Целевая последовательность:\n",
            "['a', 'a', 'a', 'a', 'a', 'a', 'b', 'b', 'b', 'b', 'b', 'b', 'b', 'EOS']\n",
            "\n",
            "Предсказанная последовательность:\n",
            "['EOS', 'EOS', 'EOS', 'EOS', 'EOS', 'EOS', 'EOS', 'a', 'a', 'b', 'b', 'b', 'b', 'b']\n"
          ]
        }
      ],
      "source": [
        "def forward(inputs, h_prev, C_prev, p):\n",
        "    \"\"\"\n",
        "    Args:\n",
        "    x -- входные данные на временном интервале \"t\", форма numpy массива (n_x, m).\n",
        "    h_prev -- скрытые структуры на временном интервале \"t-1\", форма numpy массива (n_a, m)\n",
        "    C_prev -- запоминание структуры на временном интервале \"t-1\", форма numpy массива (n_a, m)\n",
        "    p -- содержание списка python:\n",
        "                        W_f -- Матрица весов фильтра \"забвения\" (forget gate), форма numpy массива (n_a, n_a + n_x)\n",
        "                        b_f -- Смещение для forget gate, форма numpy массива (n_a, 1)\n",
        "                        W_i -- Матрица весов (input gate), форма numpy массива (n_a, n_a + n_x)\n",
        "                        b_i -- Смещение для input gate, форма numpy массива (n_a, 1)\n",
        "                        W_g -- Матрица весов (первый tanh), форма numpy массива (n_a, n_a + n_x)\n",
        "                        b_g -- Смещение первого \"tanh\", форма numpy массива (n_a, 1)\n",
        "                        W_o -- Матрица весов выходного шлюза, форма numpy массива (n_a, n_a + n_x)\n",
        "                        b_o -- Смещение выходного шлюза, форма numpy массива (n_a, 1)\n",
        "                        W_v -- Матрица весов отношения hidden-state к output, форма numpy массива (n_v, n_a)\n",
        "                        b_v -- Смещение отношения hidden-state к output, форма numpy массива (n_v, 1)\n",
        "    Returns:\n",
        "    z_s, f_s, i_s, g_s, C_s, o_s, h_s, v_s -- списки размера m, содержащие вычисления в каждом прямом проходе\n",
        "    выходные данные -- прогноз на временном интервале «t», форма numpy массива (n_v, m)\n",
        "    \"\"\"\n",
        "    assert h_prev.shape == (hidden_size, 1)\n",
        "    assert C_prev.shape == (hidden_size, 1)\n",
        "\n",
        "    # Распаковка параметров\n",
        "    W_f, W_i, W_g, W_o, W_v, b_f, b_i, b_g, b_o, b_v = p\n",
        "\n",
        "    # Сохранение списока вычислений для каждого из компонентов в LSTM.\n",
        "    x_s, z_s, f_s, i_s,  = [], [] ,[], []\n",
        "    g_s, C_s, o_s, h_s = [], [] ,[], []\n",
        "    v_s, output_s =  [], []\n",
        "\n",
        "    # Добавление исходной ячейки и скрытого состояния в соответствующие списки.\n",
        "    h_s.append(h_prev)\n",
        "    C_s.append(C_prev)\n",
        "\n",
        "    for x in inputs:\n",
        "\n",
        "        # Конкатинируем input and hidden state\n",
        "        z = np.row_stack((h_prev, x))\n",
        "        z_s.append(z)\n",
        "\n",
        "        # Расчёт forget gate\n",
        "        f = sigmoid(np.dot(W_f, z) + b_f)\n",
        "        f_s.append(f)\n",
        "\n",
        "        # Расчёт input gate\n",
        "        i = sigmoid(np.dot(W_i, z) + b_i)\n",
        "        i_s.append(i)\n",
        "\n",
        "        # Расчёт candidate\n",
        "        g = tanh(np.dot(W_g, z) + b_g)\n",
        "        g_s.append(g)\n",
        "\n",
        "        # Расчёт memory state\n",
        "        C_prev = f * C_prev + i * g\n",
        "        C_s.append(C_prev)\n",
        "\n",
        "        # Расчёт output gate\n",
        "        o = sigmoid(np.dot(W_o, z) + b_o)\n",
        "        o_s.append(o)\n",
        "\n",
        "        # Расчёт hidden state\n",
        "        h_prev = o * tanh(C_prev)\n",
        "        h_s.append(h_prev)\n",
        "\n",
        "        # Вычисление логов\n",
        "        v = np.dot(W_v, h_prev) + b_v\n",
        "        v_s.append(v)\n",
        "\n",
        "        # Расчёт softmax\n",
        "        output = softmax(v)\n",
        "        output_s.append(output)\n",
        "\n",
        "    return z_s, f_s, i_s, g_s, C_s, o_s, h_s, v_s, output_s\n",
        "\n",
        "\n",
        "# Получаем первое предложение в тестовом наборе\n",
        "inputs, targets = test_set[1]\n",
        "\n",
        "# One-hot кодирование входной и целевую последовательностей\n",
        "inputs_one_hot = one_hot_encode_sequence(inputs, vocab_size)\n",
        "targets_one_hot = one_hot_encode_sequence(targets, vocab_size)\n",
        "\n",
        "# Инициализация скрытого состояние как нулей\n",
        "h = np.zeros((hidden_size, 1))\n",
        "c = np.zeros((hidden_size, 1))\n",
        "\n",
        "# Прямой проход\n",
        "z_s, f_s, i_s, g_s, C_s, o_s, h_s, v_s, outputs = forward(inputs_one_hot, h, c, params)\n",
        "\n",
        "output_sentence = [idx_to_word[np.argmax(output)] for output in outputs]\n",
        "print('Входящая последовательность:')\n",
        "print(inputs)\n",
        "\n",
        "print('\\nЦелевая последовательность:')\n",
        "print(targets)\n",
        "\n",
        "print('\\nПредсказанная последовательность:')\n",
        "print([idx_to_word[np.argmax(output)] for output in outputs])"
      ]
    },
    {
      "cell_type": "markdown",
      "metadata": {
        "id": "1Ad7-X3cH2gU"
      },
      "source": [
        "Для предотвращения проблемы <a href='https://proproprogs.ru/tensorflow/keras-resnet-revolyuciya-glubokogo-obucheniya-ischezayushchie-vzryvayushchiesya-gradienty'>взрывающихся градиентов</a> \"обрезаем\" их"
      ]
    },
    {
      "cell_type": "code",
      "execution_count": 16,
      "metadata": {
        "id": "6wNdOumfH2gX"
      },
      "outputs": [],
      "source": [
        "def clip_gradient_norm(grads, max_norm=0.25):\n",
        "    \"\"\"\n",
        "    Обрезает градиенты, чтобы максимальная норма была равна max_norm.\n",
        "    Это необходимо для предотвращения проблемы взрывающихся градиентов!\n",
        "    \"\"\"\n",
        "    # Устанавливаем тип данных float для max_norm\n",
        "    max_norm = float(max_norm)\n",
        "    total_norm = 0\n",
        "\n",
        "    # Рассчет квадрата нормы L2 для каждого градиента и прибавьте их к total norm.\n",
        "    for grad in grads:\n",
        "        grad_norm = np.sum(np.power(grad, 2))\n",
        "        total_norm += grad_norm\n",
        "\n",
        "    total_norm = np.sqrt(total_norm)\n",
        "\n",
        "    # Рассчет clipping coeficient\n",
        "    clip_coef = max_norm / (total_norm + 1e-6)\n",
        "\n",
        "    # Если total norm больше предельно допустимой нормы, то обрезать градиент\n",
        "    if clip_coef < 1:\n",
        "        for grad in grads:\n",
        "            grad *= clip_coef\n",
        "\n",
        "    return grads"
      ]
    },
    {
      "cell_type": "markdown",
      "metadata": {
        "id": "NUDCt4HGH2gX"
      },
      "source": [
        "## Обратный проход"
      ]
    },
    {
      "cell_type": "code",
      "execution_count": 17,
      "metadata": {
        "colab": {
          "base_uri": "https://localhost:8080/"
        },
        "id": "vfVXpjNQH2gZ",
        "outputId": "90025efc-6c77-497b-ac58-c2c6bc82fd39"
      },
      "outputs": [
        {
          "output_type": "stream",
          "name": "stdout",
          "text": [
            "Loss 4.8\n"
          ]
        }
      ],
      "source": [
        "def backward(z, f, i, g, C, o, h, v, outputs, targets, p = params):\n",
        "    \"\"\"\n",
        "    Args:\n",
        "    z -- объединённые данные на вход как список размера m.\n",
        "    f -- вычисления forget gate как список размера m.\n",
        "    i -- вычисления input gate как список размера m.\n",
        "    g -- предвычисления как список размера m.\n",
        "    C -- состояние ячейки как список размера m+1.\n",
        "    o -- вычисления output gate computations как список размера m.\n",
        "    h -- вычисления скрытого состояния как список размера m+1.\n",
        "    v -- вычисления логов как список размера m.\n",
        "    outputs -- outputs как список размера m.\n",
        "    targets -- targets как список размера m.\n",
        "    p -- содержание списка python:\n",
        "                        W_f -- Матрица весов для forget gate, форма numpy массива (n_a, n_a + n_x)\n",
        "                        b_f -- Смещение для forget gate, форма numpy мссива (n_a, 1)\n",
        "                        W_i -- Матрица весов для update gate,  форма numpy мссива (n_a, n_a + n_x)\n",
        "                        b_i -- Смещение update gate, форма numpy мссива (n_a, 1)\n",
        "                        W_g -- Матрица весов для first \"tanh\", форма numpy мссива (n_a, n_a + n_x)\n",
        "                        b_g -- Смещение first \"tanh\", форма numpy мссива (n_a, 1)\n",
        "                        W_o -- Матрица весов для output gate, форма numpy мссива (n_a, n_a + n_x)\n",
        "                        b_o -- Смещение output gate, форма numpy мссива (n_a, 1)\n",
        "                        W_v -- Матрица весов отношения hidden-state к output, форма numpy мссива (n_v, n_a)\n",
        "                        b_v -- Смещение отношения hidden-state к output, форма numpy мссива (n_v, 1)\n",
        "    Returns:\n",
        "    loss -- crossentropy loss для всех элементов на выходе\n",
        "    grads -- списки градиентов каждого элемента в p\n",
        "    \"\"\"\n",
        "\n",
        "    # Расапсковка параматров\n",
        "    W_f, W_i, W_g, W_o, W_v, b_f, b_i, b_g, b_o, b_v = p\n",
        "\n",
        "    # Инициализация градиентов как ноль\n",
        "    W_f_d = np.zeros_like(W_f)\n",
        "    b_f_d = np.zeros_like(b_f)\n",
        "\n",
        "    W_i_d = np.zeros_like(W_i)\n",
        "    b_i_d = np.zeros_like(b_i)\n",
        "\n",
        "    W_g_d = np.zeros_like(W_g)\n",
        "    b_g_d = np.zeros_like(b_g)\n",
        "\n",
        "    W_o_d = np.zeros_like(W_o)\n",
        "    b_o_d = np.zeros_like(b_o)\n",
        "\n",
        "    W_v_d = np.zeros_like(W_v)\n",
        "    b_v_d = np.zeros_like(b_v)\n",
        "\n",
        "    # Установка следующей ячейки и скрытого состояния равными нулю\n",
        "    dh_next = np.zeros_like(h[0])\n",
        "    dC_next = np.zeros_like(C[0])\n",
        "\n",
        "    # Track loss\n",
        "    loss = 0\n",
        "\n",
        "    for t in reversed(range(len(outputs))):\n",
        "\n",
        "        # Вычислим перекрестную энтропию\n",
        "        loss += -np.mean(np.log(outputs[t]) * targets[t])\n",
        "        # Get the previous hidden cell state\n",
        "        C_prev= C[t-1]\n",
        "\n",
        "        # Вычислим производную отношения hidden-state к output gate\n",
        "        dv = np.copy(outputs[t])\n",
        "        dv[np.argmax(targets[t])] -= 1\n",
        "\n",
        "        # Обновим градиент отношения hidden-state к output gate\n",
        "        W_v_d += np.dot(dv, h[t].T)\n",
        "        b_v_d += dv\n",
        "\n",
        "        # Вычислим производную hidden state и output gate\n",
        "        dh = np.dot(W_v.T, dv)\n",
        "        dh += dh_next\n",
        "        do = dh * tanh(C[t])\n",
        "        do = sigmoid(o[t], derivative=True)*do\n",
        "\n",
        "        # Обновим градиенты относительно выходного шлюза.\n",
        "        W_o_d += np.dot(do, z[t].T)\n",
        "        b_o_d += do\n",
        "\n",
        "        # Вычислим производную состояния ячейки и кандидата g\n",
        "        dC = np.copy(dC_next)\n",
        "        dC += dh * o[t] * tanh(tanh(C[t]), derivative=True)\n",
        "        dg = dC * i[t]\n",
        "        dg = tanh(g[t], derivative=True) * dg\n",
        "\n",
        "        # Обновим градиенты относительно кандидата\n",
        "        W_g_d += np.dot(dg, z[t].T)\n",
        "        b_g_d += dg\n",
        "\n",
        "        # Вычислим производную входного шлюза и обновим его градиенты\n",
        "        di = dC * g[t]\n",
        "        di = sigmoid(i[t], True) * di\n",
        "        W_i_d += np.dot(di, z[t].T)\n",
        "        b_i_d += di\n",
        "\n",
        "        # Вычислим производную forget gate и обновим ее градиенты.\n",
        "        df = dC * C_prev\n",
        "        df = sigmoid(f[t]) * df\n",
        "        W_f_d += np.dot(df, z[t].T)\n",
        "        b_f_d += df\n",
        "\n",
        "        # Вычислим производную входных данных и обновим градиенты предыдущего скрытого состояния и состояния ячейки.\n",
        "        dz = (np.dot(W_f.T, df)\n",
        "             + np.dot(W_i.T, di)\n",
        "             + np.dot(W_g.T, dg)\n",
        "             + np.dot(W_o.T, do))\n",
        "        dh_prev = dz[:hidden_size, :]\n",
        "        dC_prev = f[t] * dC\n",
        "\n",
        "    grads= W_f_d, W_i_d, W_g_d, W_o_d, W_v_d, b_f_d, b_i_d, b_g_d, b_o_d, b_v_d\n",
        "\n",
        "    # Обрезка градиентов\n",
        "    grads = clip_gradient_norm(grads)\n",
        "\n",
        "    return loss, grads\n",
        "\n",
        "\n",
        "# Выполнение обратного прохода\n",
        "loss, grads = backward(z_s, f_s, i_s, g_s, C_s, o_s, h_s, v_s, outputs, targets_one_hot, params)\n",
        "\n",
        "print(f'Loss {round((loss), 2)}')"
      ]
    },
    {
      "cell_type": "markdown",
      "metadata": {
        "id": "d20R1WTGH2gd"
      },
      "source": [
        "## Тенировочный цикл"
      ]
    },
    {
      "cell_type": "code",
      "execution_count": 19,
      "metadata": {
        "colab": {
          "base_uri": "https://localhost:8080/",
          "height": 935
        },
        "id": "YIusYoIRH2ge",
        "outputId": "c106d75b-0a5d-43f5-fdac-0a50c7197a30"
      },
      "outputs": [
        {
          "output_type": "stream",
          "name": "stdout",
          "text": [
            "Epoch 0, training loss: 2.890854647364262, validation loss: 3.7434929533815504\n",
            "Epoch 5, training loss: 1.2663611220300077, validation loss: 1.294977526082707\n",
            "Epoch 10, training loss: 1.1197449389721497, validation loss: 1.1123985312205211\n",
            "Epoch 15, training loss: 0.9084878451715894, validation loss: 0.8953275015512826\n",
            "Epoch 20, training loss: 0.8230790582293601, validation loss: 0.8026328198935607\n",
            "Epoch 25, training loss: 0.7816513344878614, validation loss: 0.763015914549473\n",
            "Epoch 30, training loss: 0.7543948763712348, validation loss: 0.7378278385266296\n",
            "Epoch 35, training loss: 0.7454469142568149, validation loss: 0.7293431044102182\n",
            "Epoch 40, training loss: 0.7266914727570375, validation loss: 0.7182196383638746\n",
            "Epoch 45, training loss: 0.714150692287582, validation loss: 0.7067798775968828\n",
            "Epoch 50, training loss: 0.7101657195898219, validation loss: 0.7020394282344488\n",
            "Epoch 55, training loss: 0.7084975278400951, validation loss: 0.6992746083940946\n",
            "Epoch 60, training loss: 0.7072345849501871, validation loss: 0.6974499642710035\n",
            "Epoch 65, training loss: 0.7017451007878558, validation loss: 0.6928251960720324\n",
            "Epoch 70, training loss: 0.6903705931954937, validation loss: 0.682908083499447\n",
            "Epoch 75, training loss: 0.6803680100174866, validation loss: 0.6728304467337919\n",
            "Epoch 80, training loss: 0.6744734816798972, validation loss: 0.6657989991196341\n",
            "Epoch 85, training loss: 0.6707869208420615, validation loss: 0.661051903856575\n",
            "Epoch 90, training loss: 0.6679831460094673, validation loss: 0.6576469967106401\n",
            "Epoch 95, training loss: 0.6654946842270911, validation loss: 0.6549254533657042\n",
            "Входящая последовательность:\n",
            "['a', 'a', 'a', 'a', 'a', 'a', 'a', 'b', 'b', 'b', 'b', 'b', 'b', 'b']\n",
            "\n",
            "Целевая последовательность:\n",
            "['a', 'a', 'a', 'a', 'a', 'a', 'b', 'b', 'b', 'b', 'b', 'b', 'b', 'EOS']\n",
            "\n",
            "Предсказанная последовательность:\n",
            "['a', 'a', 'a', 'a', 'a', 'a', 'a', 'b', 'b', 'b', 'b', 'b', 'b', 'EOS']\n"
          ]
        },
        {
          "output_type": "display_data",
          "data": {
            "text/plain": [
              "<Figure size 640x480 with 1 Axes>"
            ],
            "image/png": "[encoded data removed]"
          },
          "metadata": {}
        }
      ],
      "source": [
        "# Гиперпараметры:\n",
        "num_epochs = 100\n",
        "\n",
        "# Инициализация НС\n",
        "z_size = hidden_size + vocab_size # Size of concatenated hidden + input vector\n",
        "params = init_lstm(hidden_size=hidden_size, vocab_size=vocab_size, z_size=z_size)\n",
        "\n",
        "# Инициализация скрытого состояния как нулей\n",
        "hidden_state = np.zeros((hidden_size, 1))\n",
        "\n",
        "# Track loss\n",
        "training_loss, validation_loss = [], []\n",
        "\n",
        "# Для каждой эпохи\n",
        "for i in range(num_epochs):\n",
        "\n",
        "    # Track loss\n",
        "    epoch_training_loss = 0\n",
        "    epoch_validation_loss = 0\n",
        "\n",
        "    # Для каждого предложения в валидационном наборе\n",
        "    for inputs, targets in validation_set:\n",
        "\n",
        "        # One-hot кодировка входной и целевй последовательностей\n",
        "        inputs_one_hot = one_hot_encode_sequence(inputs, vocab_size)\n",
        "        targets_one_hot = one_hot_encode_sequence(targets, vocab_size)\n",
        "\n",
        "       # Инициализируем скрытое состояние и состояние ячейки как нули\n",
        "        h = np.zeros((hidden_size, 1))\n",
        "        c = np.zeros((hidden_size, 1))\n",
        "\n",
        "        # Прямой проход\n",
        "        z_s, f_s, i_s, g_s, C_s, o_s, h_s, v_s, outputs = forward(inputs_one_hot, h, c, params)\n",
        "\n",
        "        # Обратный проход\n",
        "        loss, _ = backward(z_s, f_s, i_s, g_s, C_s, o_s, h_s, v_s, outputs, targets_one_hot, params)\n",
        "\n",
        "        # Обновление loss\n",
        "        epoch_validation_loss += loss\n",
        "\n",
        "    # Для каждого предложения в тренировочном наборе\n",
        "    for inputs, targets in training_set:\n",
        "\n",
        "        # One-hot кодировка входной и целевй последовательностей\n",
        "        inputs_one_hot = one_hot_encode_sequence(inputs, vocab_size)\n",
        "        targets_one_hot = one_hot_encode_sequence(targets, vocab_size)\n",
        "\n",
        "        # Инициализируем скрытое состояние и состояние ячейки как нули\n",
        "        h = np.zeros((hidden_size, 1))\n",
        "        c = np.zeros((hidden_size, 1))\n",
        "\n",
        "        # Прямой проход\n",
        "        z_s, f_s, i_s, g_s, C_s, o_s, h_s, v_s, outputs = forward(inputs_one_hot, h, c, params)\n",
        "\n",
        "        # Обратный проход\n",
        "        loss, grads = backward(z_s, f_s, i_s, g_s, C_s, o_s, h_s, v_s, outputs, targets_one_hot, params)\n",
        "\n",
        "        # Обновление параметров\n",
        "        params = update_parameters(params, grads, lr=1e-1)\n",
        "\n",
        "        # Обновление loss\n",
        "        epoch_training_loss += loss\n",
        "\n",
        "    # Сохранение loss для plot\n",
        "    training_loss.append(epoch_training_loss/len(training_set))\n",
        "    validation_loss.append(epoch_validation_loss/len(validation_set))\n",
        "\n",
        "    # Print loss каждые 5 эпох\n",
        "    if i % 5 == 0:\n",
        "        print(f'Epoch {i}, training loss: {training_loss[-1]}, validation loss: {validation_loss[-1]}')\n",
        "\n",
        "\n",
        "\n",
        "# Получаем первое предложение в тестовом наборе\n",
        "inputs, targets = test_set[1]\n",
        "\n",
        "# One-hot кодировка входной и целевй последовательностей\n",
        "inputs_one_hot = one_hot_encode_sequence(inputs, vocab_size)\n",
        "targets_one_hot = one_hot_encode_sequence(targets, vocab_size)\n",
        "\n",
        "# Инициализируем скрытое состояние как нули\n",
        "h = np.zeros((hidden_size, 1))\n",
        "c = np.zeros((hidden_size, 1))\n",
        "\n",
        "# Прямой проход\n",
        "z_s, f_s, i_s, g_s, C_s, o_s, h_s, v_s, outputs = forward(inputs_one_hot, h, c, params)\n",
        "\n",
        "# Смотрим примеры\n",
        "print('Входящая последовательность:')\n",
        "print(inputs)\n",
        "\n",
        "print('\\nЦелевая последовательность:')\n",
        "print(targets)\n",
        "\n",
        "print('\\nПредсказанная последовательность:')\n",
        "print([idx_to_word[np.argmax(output)] for output in outputs])\n",
        "\n",
        "# График training и validation loss\n",
        "epoch = np.arange(len(training_loss))\n",
        "plt.figure()\n",
        "plt.plot(epoch, training_loss, 'r', label='Training loss',)\n",
        "plt.plot(epoch, validation_loss, 'b', label='Validation loss')\n",
        "plt.legend()\n",
        "plt.xlabel('Epoch'), plt.ylabel('NLL')\n",
        "plt.show()"
      ]
    }
  ],
  "metadata": {
    "colab": {
      "provenance": [],
      "include_colab_link": true
    },
    "kernelspec": {
      "display_name": "Python 3 (ipykernel)",
      "language": "python",
      "name": "python3"
    },
    "language_info": {
      "codemirror_mode": {
        "name": "ipython",
        "version": 3
      },
      "file_extension": ".py",
      "mimetype": "text/x-python",
      "name": "python",
      "nbconvert_exporter": "python",
      "pygments_lexer": "ipython3",
      "version": "3.10.5"
    }
  },
  "nbformat": 4,
  "nbformat_minor": 0
}